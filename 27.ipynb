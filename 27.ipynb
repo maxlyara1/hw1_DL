{
 "cells": [
  {
   "cell_type": "markdown",
   "metadata": {},
   "source": [
    "# 2 соревнование: Мультилейбл классификация"
   ]
  },
  {
   "cell_type": "markdown",
   "metadata": {},
   "source": [
    "## Импорты библиотек и инициализация глоабльных переменных"
   ]
  },
  {
   "cell_type": "code",
   "execution_count": 39,
   "metadata": {},
   "outputs": [
    {
     "name": "stdout",
     "output_type": "stream",
     "text": [
      "Используется GPU (MPS) на Apple Silicon\n",
      "Устройство установлено: mps\n",
      "Папка для моделей: ./trained_models\n"
     ]
    }
   ],
   "source": [
    "import pandas as pd\n",
    "import numpy as np\n",
    "import matplotlib.pyplot as plt\n",
    "import seaborn as sns\n",
    "import os\n",
    "import re\n",
    "import string\n",
    "import emoji\n",
    "from tqdm.notebook import tqdm\n",
    "import copy\n",
    "import math\n",
    "import json\n",
    "import functools\n",
    "import random\n",
    "import shutil\n",
    "\n",
    "import nltk\n",
    "from nltk.corpus import stopwords\n",
    "from nltk.tokenize import word_tokenize\n",
    "import pymorphy2\n",
    "\n",
    "from skmultilearn.model_selection import iterative_train_test_split\n",
    "from sklearn.feature_extraction.text import TfidfVectorizer\n",
    "from sklearn.metrics import roc_auc_score\n",
    "\n",
    "import gensim\n",
    "from gensim.models import Word2Vec\n",
    "\n",
    "import torch\n",
    "import torch.nn as nn\n",
    "import torch.optim as optim\n",
    "from torch.utils.data import Dataset, DataLoader\n",
    "from torch.nn.utils.rnn import pad_sequence, pack_padded_sequence\n",
    "from torch.optim.lr_scheduler import ReduceLROnPlateau\n",
    "import torch.nn.functional as F\n",
    "import gc\n",
    "\n",
    "from transformers import AutoTokenizer, AutoModelForSequenceClassification, Trainer, AutoModel\n",
    "from transformers import TrainingArguments\n",
    "from transformers import MarianMTModel, MarianTokenizer\n",
    "from datasets import Dataset as HFDataset\n",
    "from scipy.sparse import csr_matrix, hstack as sparse_hstack\n",
    "\n",
    "from scipy.optimize import minimize\n",
    "\n",
    "DATA_PATH = './'  # Путь к данным\n",
    "MODEL_SAVE_DIR = \"./trained_models\" # Общая папка для всех моделей\n",
    "SEED = 42\n",
    "\n",
    "# Общие для многих моделей\n",
    "MAX_LEN = 300                   # Макс. длина последовательности для RNN/CNN\n",
    "BATCH_SIZE = 64                 # Общий батч для не-BERT моделей\n",
    "EARLY_STOPPING_PATIENCE = 3\n",
    "TEST_SPLIT_SIZE = 0.2           # Размер валидационной выборки\n",
    "MAX_POS_WEIGHT = 20.0           # Максимальное ограничение для pos_weight\n",
    "\n",
    "# Словари и паддинг (для моделей на основе эмбеддингов слов)\n",
    "PAD_IDX = 0\n",
    "UNK_IDX = 1\n",
    "\n",
    "\n",
    "# 4.1 TF-IDF + MLP\n",
    "HIDDEN_DIM_MLP = 256\n",
    "\n",
    "# 4.2 Word2Vec + LSTM\n",
    "W2V_VECTOR_SIZE = 300\n",
    "W2V_WINDOW = 5\n",
    "W2V_MIN_COUNT = 3\n",
    "W2V_WORKERS = 0\n",
    "W2V_EPOCHS = 10\n",
    "LSTM_HIDDEN_DIM = 128\n",
    "LSTM_LAYERS = 1\n",
    "LSTM_BIDIRECTIONAL = True\n",
    "LSTM_DROPOUT = 0.4\n",
    "FREEZE_EMBEDDINGS = False\n",
    "\n",
    "# 4.3 CNN + Trainable Embeddings\n",
    "CNN_EMBEDDING_DIM = 200\n",
    "N_FILTERS = 100\n",
    "FILTER_SIZES = [3, 4, 5]\n",
    "CNN_DROPOUT = 0.5\n",
    "\n",
    "# 4.4 RNN (LSTM) + Trainable Embeddings\n",
    "RNN_TE_EMBEDDING_DIM = 200\n",
    "RNN_TE_HIDDEN_DIM = 128\n",
    "RNN_TE_LAYERS = 1\n",
    "RNN_TE_BIDIRECTIONAL = True\n",
    "RNN_TE_DROPOUT = 0.4\n",
    "\n",
    "# 4.5 BERT-tiny (cointegrated/rubert-tiny2)\n",
    "MODEL_NAME_BERT_TINY = \"cointegrated/rubert-tiny2\"\n",
    "BERT_MAX_LEN = 512\n",
    "BERT_TINY_BATCH_SIZE = 16\n",
    "BERT_TINY_EPOCHS = 5\n",
    "BERT_TINY_LR = 2e-5\n",
    "OUTPUT_DIR_BERT_TINY = \"./bert_tiny_training_output\"\n",
    "\n",
    "# 4.6.1 BERTA (версия 1 - например, len 256, без весов)\n",
    "MODEL_NAME_BERTA_V1 = \"sergeyzh/BERTA\" \n",
    "BERTA_V1_MAX_LEN = 256\n",
    "BERTA_V1_REAL_BATCH_SIZE_PER_DEVICE = 1\n",
    "BERTA_V1_EFFECTIVE_BATCH_SIZE = 8\n",
    "BERTA_V1_GRAD_ACCUM_STEPS = BERTA_V1_EFFECTIVE_BATCH_SIZE // BERTA_V1_REAL_BATCH_SIZE_PER_DEVICE\n",
    "BERTA_V1_EPOCHS = 3\n",
    "BERTA_V1_LR = 2e-5\n",
    "OUTPUT_DIR_BERTA_V1 = \"./berta_training_output\"\n",
    "\n",
    "# 4.6.2 BERTA (версия 2 - len 384, с весами)\n",
    "MODEL_NAME_BERTA_V2 = \"sergeyzh/BERTA\"\n",
    "BERTA_V2_MAX_LEN = 384\n",
    "BERTA_V2_BATCH_SIZE_PER_DEVICE = 2\n",
    "BERTA_V2_EFFECTIVE_BATCH_SIZE = 4\n",
    "BERTA_V2_GRAD_ACCUM_STEPS = BERTA_V2_EFFECTIVE_BATCH_SIZE // BERTA_V2_BATCH_SIZE_PER_DEVICE\n",
    "BERTA_V2_EPOCHS = 3\n",
    "BERTA_V2_LR = 2e-5\n",
    "MAX_POS_WEIGHT_BERTA_V2 = 20.0\n",
    "BERTA_V2_MAX_LEN = 384 \n",
    "OUTPUT_DIR_BERTA_V2 = \"./berta_v2_training_output_mem_opt\"\n",
    "\n",
    "# 4.7 Аугментация и модель W2V+LSTM на аугментированных данных\n",
    "NUM_AUGMENT_SAMPLES = 1000\n",
    "TEXT_COLUMN_FOR_AUG = 'text_cleaned_sequential'\n",
    "# Параметры для W2V на аугментированных данных (могут быть те же, что и для обычного W2V)\n",
    "W2V_VECTOR_SIZE_AUG = 300\n",
    "W2V_WINDOW_AUG = 5\n",
    "W2V_MIN_COUNT_AUG = 3\n",
    "W2V_WORKERS_AUG = 0\n",
    "W2V_EPOCHS_AUG = 10\n",
    "# Параметры для LSTM на аугментированных данных\n",
    "LSTM_HIDDEN_DIM_AUG = 128\n",
    "LSTM_LAYERS_AUG = 1\n",
    "LSTM_BIDIRECTIONAL_AUG = True\n",
    "LSTM_DROPOUT_AUG = 0.4\n",
    "FREEZE_EMBEDDINGS_W2V_LSTM_AUG = False\n",
    "PAD_IDX_AUG = PAD_IDX\n",
    "UNK_IDX_AUG = UNK_IDX\n",
    "VOCAB_SIZE_AUG = None\n",
    "\n",
    "# 4.8 Гибридная модель\n",
    "BERT_MODEL_NAME_FOR_HYBRID_FEATURES = \"cointegrated/rubert-base-cased-nli-threeway\"\n",
    "BERT_MAX_LEN_HYBRID_FEATURES = 256\n",
    "HYBRID_MLP_HIDDEN_DIM = 512\n",
    "BERT_FEATURE_EXTRACTOR_BATCH_SIZE = 8\n",
    "\n",
    "TEST_BATCH_SIZE_ENSEMBLE = 128\n",
    "NUM_WORKERS_ENSEMBLE_TEST = 0\n",
    "\n",
    "os.makedirs(MODEL_SAVE_DIR, exist_ok=True)\n",
    "\n",
    "MODEL_PATHS = {\n",
    "    \"tfidf_mlp\": os.path.join(MODEL_SAVE_DIR, \"tfidf_nn_best_model.pth\"),\n",
    "    \"w2v_lstm\": os.path.join(MODEL_SAVE_DIR, \"w2v_lstm_best_model.pth\"),\n",
    "    \"cnn_emb\": os.path.join(MODEL_SAVE_DIR, \"cnn_emb_best_model.pth\"),\n",
    "    \"rnn_emb\": os.path.join(MODEL_SAVE_DIR, \"rnn_trainable_emb_best_model.pth\"), # Это LSTM с trainable emb\n",
    "    \"bert_tiny\": os.path.join(MODEL_SAVE_DIR, \"bert_tiny_final_model\"),\n",
    "    \"w2v_lstm_augmented\": os.path.join(MODEL_SAVE_DIR, \"w2v_lstm_augmented_best_model.pth\"),\n",
    "    \"hybrid_tfidf_bert_mlp\": os.path.join(MODEL_SAVE_DIR, \"hybrid_tfidf_bert_mlp_best_model.pth\"),\n",
    "    \"berta_classifier_v1\": os.path.join(MODEL_SAVE_DIR, \"berta_v1_final_model\"), \n",
    "    \"berta_classifier_v2\": os.path.join(MODEL_SAVE_DIR, \"berta_classifier_v2_len512_weighted_final_model\") \n",
    "}\n",
    "\n",
    "# Настройка nltk и pymorphy2\n",
    "morph = pymorphy2.MorphAnalyzer()\n",
    "try:\n",
    "    russian_stop_words = stopwords.words(\"russian\")\n",
    "except LookupError:\n",
    "    print(\"Загрузка стоп-слов NLTK для русского языка...\")\n",
    "    nltk.download('stopwords')\n",
    "    russian_stop_words = stopwords.words(\"russian\")\n",
    "# Добавление кастомных стоп-слов\n",
    "custom_stop_words = ['это', 'также', 'который', 'весь', 'свой', 'ещё', 'например', 'каждый', 'очень', 'т.д', 'т.п']\n",
    "for sw in custom_stop_words:\n",
    "    if sw not in russian_stop_words:\n",
    "        russian_stop_words.append(sw)\n",
    "russian_stop_words = set(russian_stop_words)\n",
    "\n",
    "# Настройка torch device\n",
    "if torch.cuda.is_available():\n",
    "    device = torch.device(\"cuda\")\n",
    "    print(\"Используется GPU (CUDA)\")\n",
    "    torch.cuda.manual_seed_all(SEED)\n",
    "elif torch.backends.mps.is_available():\n",
    "     device = torch.device(\"mps\")\n",
    "     print(\"Используется GPU (MPS) на Apple Silicon\")\n",
    "else:\n",
    "    device = torch.device(\"cpu\")\n",
    "    print(\"Используется CPU\")\n",
    "\n",
    "# Настройки отображения и tqdm\n",
    "tqdm.pandas()\n",
    "sns.set(style=\"whitegrid\")\n",
    "\n",
    "print(f\"Устройство установлено: {device}\")\n",
    "print(f\"Папка для моделей: {MODEL_SAVE_DIR}\")"
   ]
  },
  {
   "cell_type": "markdown",
   "metadata": {},
   "source": [
    "## Загрузка и анализ данных"
   ]
  },
  {
   "cell_type": "code",
   "execution_count": 2,
   "metadata": {},
   "outputs": [
    {
     "name": "stdout",
     "output_type": "stream",
     "text": [
      "Train: (29568, 3)\n",
      "Test: (7392, 2)\n",
      "\n",
      "Количество дублирующихся текстов в Train: 2601\n",
      "Размер Train до удаления дубликатов: 29568\n",
      "Размер Train после удаления дубликатов: 26967\n",
      "\n",
      "3. Анализ целевых переменных (labels)...\n",
      "Общее количество уникальных лейблов: 20\n"
     ]
    },
    {
     "data": {
      "image/png": "[encoded data removed]",
      "text/plain": [
       "<Figure size 1500x600 with 1 Axes>"
      ]
     },
     "metadata": {},
     "output_type": "display_data"
    },
    {
     "data": {
      "image/png": "[encoded data removed]",
      "text/plain": [
       "<Figure size 1000x500 with 1 Axes>"
      ]
     },
     "metadata": {},
     "output_type": "display_data"
    },
    {
     "name": "stdout",
     "output_type": "stream",
     "text": [
      "Количество текстов без меток: 0\n"
     ]
    },
    {
     "data": {
      "image/png": "[encoded data removed]",
      "text/plain": [
       "<Figure size 1000x500 with 1 Axes>"
      ]
     },
     "metadata": {},
     "output_type": "display_data"
    },
    {
     "name": "stdout",
     "output_type": "stream",
     "text": [
      "Средняя длина (слова): 87.04\n",
      "Медианная длина (слова): 85.00\n"
     ]
    }
   ],
   "source": [
    "train_df = pd.read_csv(os.path.join(DATA_PATH, 'train.csv'))\n",
    "test_df = pd.read_csv(os.path.join(DATA_PATH, 'test.csv'))\n",
    "sample_submission_df = pd.read_csv(os.path.join(DATA_PATH, 'sample_submission.csv'))\n",
    "\n",
    "print(f\"Train: {train_df.shape}\")\n",
    "print(f\"Test: {test_df.shape}\")\n",
    "\n",
    "# Проверка и удаление дубликатов текста\n",
    "duplicate_texts = train_df['text'].duplicated().sum()\n",
    "print(f\"\\nКоличество дублирующихся текстов в Train: {duplicate_texts}\")\n",
    "if duplicate_texts > 0:\n",
    "    initial_size = len(train_df)\n",
    "    train_df = train_df.drop_duplicates(subset=['text']).reset_index(drop=True)\n",
    "    print(f\"Размер Train до удаления дубликатов: {initial_size}\")\n",
    "    print(f\"Размер Train после удаления дубликатов: {len(train_df)}\")\n",
    "\n",
    "print(\"\\n3. Анализ целевых переменных (labels)...\")\n",
    "train_df['label_list'] = train_df['labels'].apply(lambda x: [int(i) for i in x.split()])\n",
    "OUTPUT_DIM = len(train_df['label_list'].iloc[0])\n",
    "print(f\"Общее количество уникальных лейблов: {OUTPUT_DIM}\")\n",
    "y_train = np.array(train_df['label_list'].tolist())\n",
    "\n",
    "# Баланс классов\n",
    "label_counts = y_train.sum(axis=0)\n",
    "label_names = np.array([f'label_{i}' for i in range(OUTPUT_DIM)])\n",
    "plt.figure(figsize=(15, 6))\n",
    "sns.barplot(x=label_names, y=label_counts)\n",
    "plt.title('Распределение частоты меток в Train')\n",
    "plt.xlabel('Метка')\n",
    "plt.ylabel('Количество')\n",
    "plt.xticks(rotation=90, fontsize=8); plt.tight_layout(); plt.show()\n",
    "\n",
    "# Количество меток на текст\n",
    "labels_per_text = y_train.sum(axis=1)\n",
    "plt.figure(figsize=(10, 5))\n",
    "sns.histplot(x=labels_per_text, bins=range(labels_per_text.min(), labels_per_text.max() + 2))\n",
    "plt.title('Распределение количества меток на один текст'); plt.xlabel('Количество меток'); plt.ylabel('Количество текстов'); plt.show()\n",
    "print(f\"Количество текстов без меток: {(labels_per_text == 0).sum()}\")\n",
    "\n",
    "train_df['text_len_words'] = train_df['text'].astype(str).apply(lambda x: len(x.split()))\n",
    "plt.figure(figsize=(10, 5))\n",
    "sns.histplot(data=train_df, x='text_len_words', bins=50)\n",
    "plt.title('Распределение длины текстов (в словах)'); plt.xlabel('Длина текста (слова)'); plt.ylabel('Количество текстов'); plt.show()\n",
    "print(f\"Средняя длина (слова): {train_df['text_len_words'].mean():.2f}\")\n",
    "print(f\"Медианная длина (слова): {train_df['text_len_words'].median():.2f}\")"
   ]
  },
  {
   "cell_type": "markdown",
   "metadata": {},
   "source": [
    "Есть дисбаланс классов, максимальную длинну можно ставить 200-300, один объект может относиться к 10 классам, удалил дубликаты в трейне, которые могли завышать скор на валидации и приводить к переобучению модели"
   ]
  },
  {
   "cell_type": "markdown",
   "metadata": {},
   "source": [
    "## Очистка текста"
   ]
  },
  {
   "cell_type": "code",
   "execution_count": 3,
   "metadata": {},
   "outputs": [],
   "source": [
    "def clean_text_for_tfidf(text, stop_words_set):\n",
    "    \"\"\"Очистка и лемматизация текста для TF-IDF.\"\"\"\n",
    "    if not isinstance(text, str): return \"\"\n",
    "    text = text.lower()\n",
    "    text = text.replace('ё', 'е')\n",
    "    text = re.sub(r'https?://\\S+|www\\.\\S+', ' ', text)\n",
    "    text = re.sub(r'\\S+@\\S+', ' ', text)\n",
    "    text = re.sub(r'\\+?\\d[\\d\\s-]{7,}\\d', ' ', text)\n",
    "    text = re.sub(r'#\\w+', ' ', text)\n",
    "    text = re.sub(r'@\\w+', ' ', text)\n",
    "    text = emoji.replace_emoji(text, replace='')\n",
    "    text = text.replace('\\n', ' ')\n",
    "    translator = str.maketrans('', '', string.punctuation + '«»“”„…━')\n",
    "    text = text.translate(translator)\n",
    "    text = re.sub(r'\\d+', ' ', text)\n",
    "\n",
    "    words = text.split()\n",
    "    lemmatized_words = []\n",
    "    for word in words:\n",
    "        if word and word not in stop_words_set:\n",
    "            p = morph.parse(word)[0]\n",
    "            lemma = p.normal_form\n",
    "            if len(lemma) > 2:\n",
    "                lemmatized_words.append(lemma)\n",
    "    return \" \".join(lemmatized_words)\n",
    "\n",
    "def clean_text_for_sequential(text):\n",
    "    \"\"\"Очистка текста для Sequential моделей (W2V, RNN, CNN) - без лемматизации.\"\"\"\n",
    "    if not isinstance(text, str): return \"\"\n",
    "    text = text.lower()\n",
    "    text = text.replace('ё', 'е')\n",
    "    text = re.sub(r'https?://\\S+|www\\.\\S+', ' ', text)\n",
    "    text = re.sub(r'\\S+@\\S+', ' ', text)\n",
    "    text = re.sub(r'\\+?\\d[\\d\\s-]{7,}\\d', ' ', text)\n",
    "    text = re.sub(r'#\\w+', ' ', text)\n",
    "    text = re.sub(r'@\\w+', ' ', text)\n",
    "    text = emoji.replace_emoji(text, replace='')\n",
    "    text = text.replace('\\n', ' ')\n",
    "    punct_to_replace_with_space = string.punctuation + '«»“”„…━'\n",
    "    translator = str.maketrans(punct_to_replace_with_space, ' ' * len(punct_to_replace_with_space))\n",
    "    text = text.translate(translator)\n",
    "    words = text.split()\n",
    "    cleaned_words = [word for word in words if len(word) > 1 or word.isdigit()]\n",
    "    return \" \".join(cleaned_words)\n",
    "\n",
    "def clean_text_for_bert(text):\n",
    "    \"\"\"Минимальная очистка текста для BERT.\"\"\"\n",
    "    if not isinstance(text, str): return \"\"\n",
    "    text = text.replace('ё', 'е')\n",
    "    text = re.sub(r'https?://\\S+|www\\.\\S+', ' ', text)\n",
    "    text = re.sub(r'\\S+@\\S+', ' ', text)\n",
    "    text = re.sub(r'\\+?\\d[\\d\\s-]{7,}\\d', ' ', text)\n",
    "    text = re.sub(r'#\\w+', ' ', text)\n",
    "    text = re.sub(r'@\\w+', ' ', text)\n",
    "    text = emoji.replace_emoji(text, replace='')\n",
    "    text = text.replace('\\n', ' ')\n",
    "    text = re.sub(r'\\s+', ' ', text).strip()\n",
    "    return text"
   ]
  },
  {
   "cell_type": "code",
   "execution_count": 4,
   "metadata": {},
   "outputs": [
    {
     "data": {
      "application/vnd.jupyter.widget-view+json": {
       "model_id": "05f1e3046db44ac89070eb1f90469983",
       "version_major": 2,
       "version_minor": 0
      },
      "text/plain": [
       "Общий прогресс:   0%|          | 0/26967 [00:00<?, ?it/s]"
      ]
     },
     "metadata": {},
     "output_type": "display_data"
    },
    {
     "data": {
      "application/vnd.jupyter.widget-view+json": {
       "model_id": "59ea3c6d529443d2ad317b8f86d3702d",
       "version_major": 2,
       "version_minor": 0
      },
      "text/plain": [
       "Общий прогресс:   0%|          | 0/26967 [00:00<?, ?it/s]"
      ]
     },
     "metadata": {},
     "output_type": "display_data"
    },
    {
     "data": {
      "application/vnd.jupyter.widget-view+json": {
       "model_id": "436de082f32c4ebb95cd226d8669aa0e",
       "version_major": 2,
       "version_minor": 0
      },
      "text/plain": [
       "Общий прогресс:   0%|          | 0/26967 [00:00<?, ?it/s]"
      ]
     },
     "metadata": {},
     "output_type": "display_data"
    },
    {
     "data": {
      "application/vnd.jupyter.widget-view+json": {
       "model_id": "e24c60b2544f430fbb684e0948a1db79",
       "version_major": 2,
       "version_minor": 0
      },
      "text/plain": [
       "Общий прогресс:   0%|          | 0/7392 [00:00<?, ?it/s]"
      ]
     },
     "metadata": {},
     "output_type": "display_data"
    },
    {
     "data": {
      "application/vnd.jupyter.widget-view+json": {
       "model_id": "685c159a30da4c3880d5d5850d9429b9",
       "version_major": 2,
       "version_minor": 0
      },
      "text/plain": [
       "Общий прогресс:   0%|          | 0/7392 [00:00<?, ?it/s]"
      ]
     },
     "metadata": {},
     "output_type": "display_data"
    },
    {
     "data": {
      "application/vnd.jupyter.widget-view+json": {
       "model_id": "2f99472c8d8c4188818c67350cdbf462",
       "version_major": 2,
       "version_minor": 0
      },
      "text/plain": [
       "Общий прогресс:   0%|          | 0/7392 [00:00<?, ?it/s]"
      ]
     },
     "metadata": {},
     "output_type": "display_data"
    },
    {
     "name": "stdout",
     "output_type": "stream",
     "text": [
      "Train Data\n"
     ]
    },
    {
     "data": {
      "text/html": [
       "<div>\n",
       "<style scoped>\n",
       "    .dataframe tbody tr th:only-of-type {\n",
       "        vertical-align: middle;\n",
       "    }\n",
       "\n",
       "    .dataframe tbody tr th {\n",
       "        vertical-align: top;\n",
       "    }\n",
       "\n",
       "    .dataframe thead th {\n",
       "        text-align: right;\n",
       "    }\n",
       "</style>\n",
       "<table border=\"1\" class=\"dataframe\">\n",
       "  <thead>\n",
       "    <tr style=\"text-align: right;\">\n",
       "      <th></th>\n",
       "      <th>text</th>\n",
       "      <th>text_cleaned_tfidf</th>\n",
       "      <th>text_cleaned_sequential</th>\n",
       "      <th>text_cleaned_bert</th>\n",
       "    </tr>\n",
       "  </thead>\n",
       "  <tbody>\n",
       "    <tr>\n",
       "      <th>0</th>\n",
       "      <td>15 января\\nДетская развлекательная программа\\n...</td>\n",
       "      <td>январь детский развлекательный программа беспл...</td>\n",
       "      <td>15 января детская развлекательная программа 15...</td>\n",
       "      <td>15 января Детская развлекательная программа 15...</td>\n",
       "    </tr>\n",
       "    <tr>\n",
       "      <th>1</th>\n",
       "      <td>13 и 14 августа\\nВыходные в Меге\\nhttps://t.me...</td>\n",
       "      <td>август выходной мег мегапарк</td>\n",
       "      <td>13 14 августа выходные меге мегапарк</td>\n",
       "      <td>13 и 14 августа Выходные в Меге Мегапарк</td>\n",
       "    </tr>\n",
       "    <tr>\n",
       "      <th>2</th>\n",
       "      <td>Йокнапатофа\\nПостановка Театр им. Маяковского\\...</td>\n",
       "      <td>йокнапатоф постановка театр маяковский билет</td>\n",
       "      <td>йокнапатофа постановка театр им маяковского би...</td>\n",
       "      <td>Йокнапатофа Постановка Театр им. Маяковского Б...</td>\n",
       "    </tr>\n",
       "    <tr>\n",
       "      <th>3</th>\n",
       "      <td>Впервые в Уфе танцевальная терапия в группе с ...</td>\n",
       "      <td>впервые уфа танцевальный терапия группа практи...</td>\n",
       "      <td>впервые уфе танцевальная терапия группе практи...</td>\n",
       "      <td>Впервые в Уфе танцевальная терапия в группе с ...</td>\n",
       "    </tr>\n",
       "    <tr>\n",
       "      <th>4</th>\n",
       "      <td>🎹\\nGRAND PIANO COMPETITION\\n🎹\\nДрузья, сегодня...</td>\n",
       "      <td>grand piano competition друг сегодня открытие ...</td>\n",
       "      <td>grand piano competition друзья сегодня открыти...</td>\n",
       "      <td>GRAND PIANO COMPETITION Друзья, сегодня открыт...</td>\n",
       "    </tr>\n",
       "  </tbody>\n",
       "</table>\n",
       "</div>"
      ],
      "text/plain": [
       "                                                text  \\\n",
       "0  15 января\\nДетская развлекательная программа\\n...   \n",
       "1  13 и 14 августа\\nВыходные в Меге\\nhttps://t.me...   \n",
       "2  Йокнапатофа\\nПостановка Театр им. Маяковского\\...   \n",
       "3  Впервые в Уфе танцевальная терапия в группе с ...   \n",
       "4  🎹\\nGRAND PIANO COMPETITION\\n🎹\\nДрузья, сегодня...   \n",
       "\n",
       "                                  text_cleaned_tfidf  \\\n",
       "0  январь детский развлекательный программа беспл...   \n",
       "1                       август выходной мег мегапарк   \n",
       "2       йокнапатоф постановка театр маяковский билет   \n",
       "3  впервые уфа танцевальный терапия группа практи...   \n",
       "4  grand piano competition друг сегодня открытие ...   \n",
       "\n",
       "                             text_cleaned_sequential  \\\n",
       "0  15 января детская развлекательная программа 15...   \n",
       "1               13 14 августа выходные меге мегапарк   \n",
       "2  йокнапатофа постановка театр им маяковского би...   \n",
       "3  впервые уфе танцевальная терапия группе практи...   \n",
       "4  grand piano competition друзья сегодня открыти...   \n",
       "\n",
       "                                   text_cleaned_bert  \n",
       "0  15 января Детская развлекательная программа 15...  \n",
       "1           13 и 14 августа Выходные в Меге Мегапарк  \n",
       "2  Йокнапатофа Постановка Театр им. Маяковского Б...  \n",
       "3  Впервые в Уфе танцевальная терапия в группе с ...  \n",
       "4  GRAND PIANO COMPETITION Друзья, сегодня открыт...  "
      ]
     },
     "metadata": {},
     "output_type": "display_data"
    },
    {
     "name": "stdout",
     "output_type": "stream",
     "text": [
      "\n",
      "Test Data\n"
     ]
    },
    {
     "data": {
      "text/html": [
       "<div>\n",
       "<style scoped>\n",
       "    .dataframe tbody tr th:only-of-type {\n",
       "        vertical-align: middle;\n",
       "    }\n",
       "\n",
       "    .dataframe tbody tr th {\n",
       "        vertical-align: top;\n",
       "    }\n",
       "\n",
       "    .dataframe thead th {\n",
       "        text-align: right;\n",
       "    }\n",
       "</style>\n",
       "<table border=\"1\" class=\"dataframe\">\n",
       "  <thead>\n",
       "    <tr style=\"text-align: right;\">\n",
       "      <th></th>\n",
       "      <th>text</th>\n",
       "      <th>text_cleaned_tfidf</th>\n",
       "      <th>text_cleaned_sequential</th>\n",
       "      <th>text_cleaned_bert</th>\n",
       "    </tr>\n",
       "  </thead>\n",
       "  <tbody>\n",
       "    <tr>\n",
       "      <th>0</th>\n",
       "      <td>ЭЙ, ВЛЮБЛЁННЫЕ\\nСкидка 20% промокоду SYHOYZ\\nн...</td>\n",
       "      <td>влюбить скидка промокод syhoyz спектакль ёжик ...</td>\n",
       "      <td>эй влюбленные скидка 20 промокоду syhoyz на сп...</td>\n",
       "      <td>ЭЙ, ВЛЮБЛЁННЫЕ Скидка 20% промокоду SYHOYZ на ...</td>\n",
       "    </tr>\n",
       "    <tr>\n",
       "      <th>1</th>\n",
       "      <td>Пруды Москвы</td>\n",
       "      <td>пруд москва</td>\n",
       "      <td>пруды москвы</td>\n",
       "      <td>Пруды Москвы</td>\n",
       "    </tr>\n",
       "    <tr>\n",
       "      <th>2</th>\n",
       "      <td>🤪\\n🤪\\n👏\\n👏\\n😄\\n😄\\n👏\\n👏\\n👨‍👩‍👦\\nСемейка лёгкого...</td>\n",
       "      <td>семейка лёгкий поведение неожиданный комедия т...</td>\n",
       "      <td>семейка легкого поведения неожиданная комедия ...</td>\n",
       "      <td>Семейка легкого поведения Неожиданная комедия ...</td>\n",
       "    </tr>\n",
       "    <tr>\n",
       "      <th>3</th>\n",
       "      <td>24 СЕНТЯБРЯ\\nИсторический фестиваль «Башкирия ...</td>\n",
       "      <td>сентябрь исторический фестиваль башкирия русь ...</td>\n",
       "      <td>24 сентября исторический фестиваль башкирия ру...</td>\n",
       "      <td>24 СЕНТЯБРЯ Исторический фестиваль «Башкирия и...</td>\n",
       "    </tr>\n",
       "    <tr>\n",
       "      <th>4</th>\n",
       "      <td>19-20 августа\\nДетский клуб в кафе «Отдых»\\nТе...</td>\n",
       "      <td>август детский клуб кафе отдых тематический ра...</td>\n",
       "      <td>19 20 августа детский клуб кафе отдых тематиче...</td>\n",
       "      <td>19-20 августа Детский клуб в кафе «Отдых» Тема...</td>\n",
       "    </tr>\n",
       "  </tbody>\n",
       "</table>\n",
       "</div>"
      ],
      "text/plain": [
       "                                                text  \\\n",
       "0  ЭЙ, ВЛЮБЛЁННЫЕ\\nСкидка 20% промокоду SYHOYZ\\nн...   \n",
       "1                                       Пруды Москвы   \n",
       "2  🤪\\n🤪\\n👏\\n👏\\n😄\\n😄\\n👏\\n👏\\n👨‍👩‍👦\\nСемейка лёгкого...   \n",
       "3  24 СЕНТЯБРЯ\\nИсторический фестиваль «Башкирия ...   \n",
       "4  19-20 августа\\nДетский клуб в кафе «Отдых»\\nТе...   \n",
       "\n",
       "                                  text_cleaned_tfidf  \\\n",
       "0  влюбить скидка промокод syhoyz спектакль ёжик ...   \n",
       "1                                        пруд москва   \n",
       "2  семейка лёгкий поведение неожиданный комедия т...   \n",
       "3  сентябрь исторический фестиваль башкирия русь ...   \n",
       "4  август детский клуб кафе отдых тематический ра...   \n",
       "\n",
       "                             text_cleaned_sequential  \\\n",
       "0  эй влюбленные скидка 20 промокоду syhoyz на сп...   \n",
       "1                                       пруды москвы   \n",
       "2  семейка легкого поведения неожиданная комедия ...   \n",
       "3  24 сентября исторический фестиваль башкирия ру...   \n",
       "4  19 20 августа детский клуб кафе отдых тематиче...   \n",
       "\n",
       "                                   text_cleaned_bert  \n",
       "0  ЭЙ, ВЛЮБЛЁННЫЕ Скидка 20% промокоду SYHOYZ на ...  \n",
       "1                                       Пруды Москвы  \n",
       "2  Семейка легкого поведения Неожиданная комедия ...  \n",
       "3  24 СЕНТЯБРЯ Исторический фестиваль «Башкирия и...  \n",
       "4  19-20 августа Детский клуб в кафе «Отдых» Тема...  "
      ]
     },
     "metadata": {},
     "output_type": "display_data"
    }
   ],
   "source": [
    "tqdm.pandas(desc=\"Общий прогресс\")\n",
    "\n",
    "# Train Data\n",
    "train_df['text_cleaned_tfidf'] = train_df['text'].progress_apply(lambda x: clean_text_for_tfidf(x, russian_stop_words))\n",
    "train_df['text_cleaned_sequential'] = train_df['text'].progress_apply(clean_text_for_sequential)\n",
    "train_df['text_cleaned_bert'] = train_df['text'].progress_apply(clean_text_for_bert)\n",
    "\n",
    "# Test Data\n",
    "test_df['text_cleaned_tfidf'] = test_df['text'].progress_apply(lambda x: clean_text_for_tfidf(x, russian_stop_words))\n",
    "test_df['text_cleaned_sequential'] = test_df['text'].progress_apply(clean_text_for_sequential)\n",
    "test_df['text_cleaned_bert'] = test_df['text'].progress_apply(clean_text_for_bert)\n",
    "\n",
    "print(\"Train Data\")\n",
    "display(train_df[['text', 'text_cleaned_tfidf', 'text_cleaned_sequential', 'text_cleaned_bert']].head())\n",
    "\n",
    "print(\"\\nTest Data\")\n",
    "display(test_df[['text', 'text_cleaned_tfidf', 'text_cleaned_sequential', 'text_cleaned_bert']].head())\n"
   ]
  },
  {
   "cell_type": "markdown",
   "metadata": {},
   "source": [
    "## Разделение данных"
   ]
  },
  {
   "cell_type": "code",
   "execution_count": 5,
   "metadata": {},
   "outputs": [
    {
     "name": "stdout",
     "output_type": "stream",
     "text": [
      "Размер обучающей выборки (DF): (21545, 8)\n",
      "Размер валидационной выборки (DF): (5422, 8)\n",
      "Размер y_train_final: (21545, 20)\n",
      "Размер y_val_final: (5422, 20)\n"
     ]
    }
   ],
   "source": [
    "X_indices = np.arange(len(train_df)).reshape(-1, 1)\n",
    "X_train_idx_indices, y_train_final, X_val_idx_indices, y_val_split = iterative_train_test_split(\n",
    "    X_indices, y_train, test_size=TEST_SPLIT_SIZE\n",
    ")\n",
    "train_indices = X_train_idx_indices.flatten()\n",
    "val_indices = X_val_idx_indices.flatten()\n",
    "\n",
    "train_split_df = train_df.iloc[train_indices].reset_index(drop=True)\n",
    "val_split_df = train_df.iloc[val_indices].reset_index(drop=True)\n",
    "y_val_final = y_val_split\n",
    "\n",
    "print(f\"Размер обучающей выборки (DF): {train_split_df.shape}\")\n",
    "print(f\"Размер валидационной выборки (DF): {val_split_df.shape}\")\n",
    "print(f\"Размер y_train_final: {y_train_final.shape}\")\n",
    "print(f\"Размер y_val_final: {y_val_final.shape}\")\n"
   ]
  },
  {
   "cell_type": "markdown",
   "metadata": {},
   "source": [
    "## Определение вспомогательных функций и классов"
   ]
  },
  {
   "cell_type": "code",
   "execution_count": 6,
   "metadata": {},
   "outputs": [],
   "source": [
    "# датасеты\n",
    "class TfidfDataset(Dataset):\n",
    "    def __init__(self, features, labels):\n",
    "        if features.shape[0] != labels.shape[0]:\n",
    "            raise ValueError(\"Mismatch features/labels\")\n",
    "        self.features = features\n",
    "        self.labels = labels\n",
    "    def __len__(self):\n",
    "        return self.features.shape[0]\n",
    "    def __getitem__(self, idx):\n",
    "        feat = torch.tensor(self.features[idx].toarray().flatten(), dtype=torch.float32)\n",
    "        lab = torch.tensor(self.labels[idx], dtype=torch.float32)\n",
    "        return feat, lab\n",
    "\n",
    "class SequenceDataset(Dataset):\n",
    "    def __init__(self, sequences, labels, max_len):\n",
    "        if len(sequences) != labels.shape[0]:\n",
    "            raise ValueError(\"Количество последовательностей не совпадает с количеством меток\")\n",
    "        self.sequences = sequences\n",
    "        self.labels = labels\n",
    "        self.max_len = max_len\n",
    "        self.UNK_IDX = 1\n",
    "        self.PAD_IDX = 0\n",
    "\n",
    "    def __len__(self):\n",
    "        return len(self.sequences)\n",
    "\n",
    "    def __getitem__(self, idx):\n",
    "        seq = self.sequences[idx][:self.max_len]\n",
    "        if not seq:\n",
    "            seq = [self.UNK_IDX]\n",
    "        sequence_tensor = torch.tensor(seq, dtype=torch.long)\n",
    "        label_vector = torch.tensor(self.labels[idx], dtype=torch.float32)\n",
    "        return sequence_tensor, label_vector\n",
    "\n",
    "\n",
    "# модели\n",
    "class SimpleMLP(nn.Module):\n",
    "    def __init__(self, input_dim, hidden_dim, output_dim):\n",
    "        super().__init__()\n",
    "        self.fc1 = nn.Linear(input_dim, hidden_dim)\n",
    "        self.relu = nn.ReLU()\n",
    "        self.dropout = nn.Dropout(0.3)\n",
    "        self.fc2 = nn.Linear(hidden_dim, output_dim)\n",
    "    def forward(self, x):\n",
    "        return self.fc2(self.dropout(self.relu(self.fc1(x))))\n",
    "\n",
    "class LSTMClassifier(nn.Module):\n",
    "    def __init__(self, vocab_size, embedding_dim, hidden_dim, output_dim, n_layers, bidirectional, dropout, pad_idx, pretrained_embeddings=None, freeze_embeddings=False):\n",
    "        super().__init__()\n",
    "        self.embedding = nn.Embedding(vocab_size, embedding_dim, padding_idx=pad_idx)\n",
    "        if pretrained_embeddings is not None:\n",
    "            self.embedding.weight.data.copy_(pretrained_embeddings)\n",
    "        if freeze_embeddings:\n",
    "            self.embedding.weight.requires_grad = False\n",
    "        self.lstm = nn.LSTM(embedding_dim, hidden_dim, num_layers=n_layers, bidirectional=bidirectional, dropout=dropout if n_layers > 1 else 0, batch_first=True)\n",
    "        self.dropout_layer = nn.Dropout(dropout)\n",
    "        lstm_output_dim = hidden_dim * 2 if bidirectional else hidden_dim\n",
    "        self.fc = nn.Linear(lstm_output_dim, output_dim)\n",
    "\n",
    "    def forward(self, text, text_lengths):\n",
    "        embedded = self.embedding(text)\n",
    "        packed_embedded = pack_padded_sequence(embedded, text_lengths.cpu(), batch_first=True, enforce_sorted=False)\n",
    "        _, (hidden, cell) = self.lstm(packed_embedded)\n",
    "        if self.lstm.bidirectional:\n",
    "            hidden = self.dropout_layer(torch.cat((hidden[-2,:,:], hidden[-1,:,:]), dim=1))\n",
    "        else:\n",
    "            hidden = self.dropout_layer(hidden[-1,:,:])\n",
    "        return self.fc(hidden)\n",
    "\n",
    "class TextCNN(nn.Module):\n",
    "    def __init__(self, vocab_size, embedding_dim, n_filters, filter_sizes, output_dim, dropout, pad_idx):\n",
    "        super().__init__()\n",
    "        self.embedding = nn.Embedding(vocab_size, embedding_dim, padding_idx=pad_idx)\n",
    "        self.convs = nn.ModuleList([nn.Conv1d(embedding_dim, n_filters, fs) for fs in filter_sizes])\n",
    "        self.fc = nn.Linear(len(filter_sizes) * n_filters, output_dim)\n",
    "        self.dropout = nn.Dropout(dropout)\n",
    "\n",
    "    def forward(self, text):\n",
    "        embedded = self.embedding(text).permute(0, 2, 1)\n",
    "        conved = [F.relu(conv(embedded)) for conv in self.convs]\n",
    "        pooled = [F.max_pool1d(conv, conv.shape[-1]).squeeze(-1) for conv in conved]\n",
    "        cat = self.dropout(torch.cat(pooled, dim=-1))\n",
    "        return self.fc(cat)\n",
    "\n",
    "class LSTMClassifierTrainableEmb(nn.Module):\n",
    "    def __init__(self, vocab_size, embedding_dim, hidden_dim, output_dim, n_layers, bidirectional, dropout, pad_idx):\n",
    "        super().__init__()\n",
    "        self.embedding = nn.Embedding(vocab_size, embedding_dim, padding_idx=pad_idx)\n",
    "        self.lstm = nn.LSTM(embedding_dim, hidden_dim, num_layers=n_layers, bidirectional=bidirectional, \n",
    "                            dropout=dropout if n_layers > 1 else 0, batch_first=True)\n",
    "        self.dropout_layer = nn.Dropout(dropout)\n",
    "        lstm_output_dim = hidden_dim * 2 if bidirectional else hidden_dim\n",
    "        self.fc = nn.Linear(lstm_output_dim, output_dim)\n",
    "\n",
    "    def forward(self, text, text_lengths):\n",
    "        embedded = self.embedding(text)\n",
    "        packed_embedded = pack_padded_sequence(embedded, text_lengths.cpu(), batch_first=True, enforce_sorted=False)\n",
    "        _, (hidden, cell) = self.lstm(packed_embedded)\n",
    "        hidden = self.dropout_layer(torch.cat((hidden[-2,:,:], hidden[-1,:,:]), dim=1)) if self.lstm.bidirectional else self.dropout_layer(hidden[-1,:,:])\n",
    "        return self.fc(hidden)"
   ]
  },
  {
   "cell_type": "code",
   "execution_count": 7,
   "metadata": {},
   "outputs": [],
   "source": [
    "# Функция расчета AUC\n",
    "def calculate_auc(all_targets, all_preds):\n",
    "    targets_np = all_targets.cpu().numpy()\n",
    "    preds_np = all_preds.cpu().numpy()\n",
    "    auc_scores = []\n",
    "    for i in range(targets_np.shape[1]):\n",
    "        if len(np.unique(targets_np[:, i])) > 1:\n",
    "             try:\n",
    "                 auc = roc_auc_score(targets_np[:, i], preds_np[:, i])\n",
    "                 auc_scores.append(auc)\n",
    "             except ValueError:\n",
    "                  auc_scores.append(0.5)\n",
    "        else:\n",
    "             auc_scores.append(0.5)\n",
    "    return np.mean(auc_scores) if auc_scores else 0.0\n",
    "\n",
    "# Загрузка NLTK токенизатора\n",
    "try:\n",
    "    nltk.data.find('tokenizers/punkt')\n",
    "except nltk.downloader.DownloadError:\n",
    "    print(\"Загрузка NLTK токенизатора 'punkt'...\")\n",
    "    nltk.download('punkt')\n",
    "\n",
    "def compute_metrics(eval_pred):\n",
    "    logits, labels = eval_pred; preds = 1/(1+np.exp(-logits)); targets = labels.astype(int)\n",
    "    auc_scores = []\n",
    "    for i in range(targets.shape[1]):\n",
    "        if len(np.unique(targets[:, i])) > 1:\n",
    "            try: auc = roc_auc_score(targets[:, i], preds[:, i]); auc_scores.append(auc)\n",
    "            except ValueError: auc_scores.append(0.5)\n",
    "        else: auc_scores.append(0.5)\n",
    "    return {\"roc_auc_macro\": np.mean(auc_scores) if auc_scores else 0.0}\n",
    "\n",
    "# Функция для преобразования текста в последовательность\n",
    "def text_to_sequence(text, word_to_idx_map):\n",
    "    tokens = word_tokenize(str(text)) if isinstance(text, str) else []\n",
    "    current_unk_idx = word_to_idx_map.get('<UNK>', 1)\n",
    "    sequence = [word_to_idx_map.get(word, current_unk_idx) for word in tokens]\n",
    "    if not sequence:\n",
    "        return [current_unk_idx]\n",
    "    return sequence\n",
    "\n",
    "# Универсальные функции обучения и оценки\n",
    "def train_loop(model, dataloader, criterion, optimizer, device, is_rnn_or_cnn=False):\n",
    "    model.train()\n",
    "    running_loss = 0.0\n",
    "    all_targets_train = []\n",
    "    all_preds_train = []\n",
    "    progress_bar = tqdm(dataloader, desc=\"Training\", leave=False)\n",
    "    \n",
    "    for batch_data in progress_bar:\n",
    "        if is_rnn_or_cnn:\n",
    "            sequences, labels, lengths = batch_data\n",
    "            sequences, labels = sequences.to(device), labels.to(device)\n",
    "        else:\n",
    "            features, labels = batch_data\n",
    "            features, labels = features.to(device), labels.to(device)\n",
    "        \n",
    "        optimizer.zero_grad()\n",
    "        \n",
    "        if is_rnn_or_cnn == 'rnn':\n",
    "            outputs = model(sequences, lengths)\n",
    "        elif is_rnn_or_cnn == 'cnn':\n",
    "            outputs = model(sequences)\n",
    "        else:\n",
    "            outputs = model(features)\n",
    "        \n",
    "        loss = criterion(outputs, labels)\n",
    "        loss.backward()\n",
    "        optimizer.step()\n",
    "        \n",
    "        running_loss += loss.item() * labels.size(0)\n",
    "        all_preds_train.append(torch.sigmoid(outputs).detach())\n",
    "        all_targets_train.append(labels.detach())\n",
    "        progress_bar.set_postfix(loss=loss.item())\n",
    "    \n",
    "    epoch_loss = running_loss / len(dataloader.dataset)\n",
    "    all_preds_train = torch.cat(all_preds_train, dim=0)\n",
    "    all_targets_train = torch.cat(all_targets_train, dim=0)\n",
    "    \n",
    "    return epoch_loss, calculate_auc(all_targets_train, all_preds_train)\n",
    "\n",
    "def evaluate_loop(model, dataloader, criterion, device, is_rnn_or_cnn=False):\n",
    "    model.eval()\n",
    "    running_loss = 0.0\n",
    "    all_targets_val = []\n",
    "    all_preds_val = []\n",
    "    progress_bar = tqdm(dataloader, desc=\"Evaluating\", leave=False)\n",
    "    \n",
    "    with torch.no_grad():\n",
    "        for batch_data in progress_bar:\n",
    "            if is_rnn_or_cnn:\n",
    "                sequences, labels, lengths = batch_data\n",
    "                sequences, labels = sequences.to(device), labels.to(device)\n",
    "            else:\n",
    "                features, labels = batch_data\n",
    "                features, labels = features.to(device), labels.to(device)\n",
    "            outputs = model(sequences, lengths) if is_rnn_or_cnn == 'rnn' else model(sequences) if is_rnn_or_cnn == 'cnn' else model(features)\n",
    "            loss = criterion(outputs, labels)\n",
    "            running_loss += loss.item() * labels.size(0)\n",
    "            all_preds_val.append(torch.sigmoid(outputs))\n",
    "            all_targets_val.append(labels)\n",
    "            progress_bar.set_postfix(loss=loss.item())\n",
    "    epoch_loss = running_loss / len(dataloader.dataset)\n",
    "    all_preds_val = torch.cat(all_preds_val, dim=0)\n",
    "    all_targets_val = torch.cat(all_targets_val, dim=0)\n",
    "    return epoch_loss, calculate_auc(all_targets_val, all_preds_val)\n",
    "\n",
    "\n",
    "def collate_batch_configurable(batch, pad_idx_value, unk_idx_value):\n",
    "    sequences_raw, labels_raw = zip(*batch)\n",
    "    processed_sequences = []\n",
    "    for seq_tensor in sequences_raw:\n",
    "        if len(seq_tensor) == 0:\n",
    "            processed_sequences.append(torch.tensor([unk_idx_value], dtype=torch.long))\n",
    "        else:\n",
    "            processed_sequences.append(seq_tensor)\n",
    "\n",
    "    lengths = torch.tensor([len(seq) for seq in processed_sequences], dtype=torch.long)\n",
    "    padded_sequences = pad_sequence(processed_sequences, batch_first=True, padding_value=pad_idx_value)\n",
    "\n",
    "    labels_tensor = torch.stack([\n",
    "        lab if isinstance(lab, torch.Tensor) else torch.tensor(lab, dtype=torch.float32)\n",
    "        for lab in labels_raw\n",
    "    ], dim=0)\n",
    "    return padded_sequences, labels_tensor, lengths"
   ]
  },
  {
   "cell_type": "markdown",
   "metadata": {},
   "source": [
    "## TF-IDF + MLP"
   ]
  },
  {
   "cell_type": "code",
   "execution_count": 8,
   "metadata": {},
   "outputs": [
    {
     "name": "stdout",
     "output_type": "stream",
     "text": [
      "TF-IDF размерность: 20000\n",
      "Создание TF-IDF DataLoader...\n"
     ]
    }
   ],
   "source": [
    "# 1. Векторизация\n",
    "tfidf_vectorizer = TfidfVectorizer(max_features=20000, ngram_range=(1, 2), min_df=3, max_df=0.9)\n",
    "X_train_tfidf_sparse = tfidf_vectorizer.fit_transform(train_split_df['text_cleaned_tfidf'])\n",
    "X_val_tfidf_sparse = tfidf_vectorizer.transform(val_split_df['text_cleaned_tfidf'])\n",
    "INPUT_DIM = X_train_tfidf_sparse.shape[1]\n",
    "print(f\"TF-IDF размерность: {INPUT_DIM}\")\n",
    "\n",
    "# 2. Dataset\n",
    "train_dataset_tfidf = TfidfDataset(X_train_tfidf_sparse, y_train_final)\n",
    "val_dataset_tfidf = TfidfDataset(X_val_tfidf_sparse, y_val_final)\n",
    "\n",
    "# 3. DataLoader\n",
    "print(\"Создание TF-IDF DataLoader...\")\n",
    "train_loader_tfidf = DataLoader(train_dataset_tfidf, batch_size=BATCH_SIZE, shuffle=True, num_workers=0)\n",
    "val_loader_tfidf = DataLoader(val_dataset_tfidf, batch_size=BATCH_SIZE, shuffle=False, num_workers=0)\n",
    "DATALOADERS_CREATED_TFIDF = True\n",
    "\n",
    "model_tfidf_nn = SimpleMLP(INPUT_DIM, HIDDEN_DIM_MLP, OUTPUT_DIM).to(device)"
   ]
  },
  {
   "cell_type": "code",
   "execution_count": 9,
   "metadata": {},
   "outputs": [
    {
     "name": "stdout",
     "output_type": "stream",
     "text": [
      "\n",
      "--- Эпоха 1 (TFIDF+MLP) ---\n",
      "LR: 0.001000\n"
     ]
    },
    {
     "data": {
      "application/vnd.jupyter.widget-view+json": {
       "model_id": "36c0be19b4e04b87a1259c0176528cc8",
       "version_major": 2,
       "version_minor": 0
      },
      "text/plain": [
       "Training:   0%|          | 0/337 [00:00<?, ?it/s]"
      ]
     },
     "metadata": {},
     "output_type": "display_data"
    },
    {
     "data": {
      "application/vnd.jupyter.widget-view+json": {
       "model_id": "f9613642ceff4c46b61a7631b7d850b4",
       "version_major": 2,
       "version_minor": 0
      },
      "text/plain": [
       "Evaluating:   0%|          | 0/85 [00:00<?, ?it/s]"
      ]
     },
     "metadata": {},
     "output_type": "display_data"
    },
    {
     "name": "stdout",
     "output_type": "stream",
     "text": [
      "Train Loss: 0.4778 | Train AUC: 0.8387\n",
      "Val Loss:   0.3580 | Val AUC:   0.9070\n",
      "Val AUC улучшился (-1.0000 -> 0.9070). Сохраняем...\n",
      "\n",
      "--- Эпоха 2 (TFIDF+MLP) ---\n",
      "LR: 0.001000\n"
     ]
    },
    {
     "data": {
      "application/vnd.jupyter.widget-view+json": {
       "model_id": "c625440cfae146969c35989cb2ae4d2b",
       "version_major": 2,
       "version_minor": 0
      },
      "text/plain": [
       "Training:   0%|          | 0/337 [00:00<?, ?it/s]"
      ]
     },
     "metadata": {},
     "output_type": "display_data"
    },
    {
     "data": {
      "application/vnd.jupyter.widget-view+json": {
       "model_id": "bda09fa9b25b4d9da39d9ef3e957a176",
       "version_major": 2,
       "version_minor": 0
      },
      "text/plain": [
       "Evaluating:   0%|          | 0/85 [00:00<?, ?it/s]"
      ]
     },
     "metadata": {},
     "output_type": "display_data"
    },
    {
     "name": "stdout",
     "output_type": "stream",
     "text": [
      "Train Loss: 0.2917 | Train AUC: 0.9271\n",
      "Val Loss:   0.2961 | Val AUC:   0.9283\n",
      "Val AUC улучшился (0.9070 -> 0.9283). Сохраняем...\n",
      "\n",
      "--- Эпоха 3 (TFIDF+MLP) ---\n",
      "LR: 0.001000\n"
     ]
    },
    {
     "data": {
      "application/vnd.jupyter.widget-view+json": {
       "model_id": "62c4ec64557343eea630e3037cb907ec",
       "version_major": 2,
       "version_minor": 0
      },
      "text/plain": [
       "Training:   0%|          | 0/337 [00:00<?, ?it/s]"
      ]
     },
     "metadata": {},
     "output_type": "display_data"
    },
    {
     "data": {
      "application/vnd.jupyter.widget-view+json": {
       "model_id": "0969d825a95741718f1dfd35414f2084",
       "version_major": 2,
       "version_minor": 0
      },
      "text/plain": [
       "Evaluating:   0%|          | 0/85 [00:00<?, ?it/s]"
      ]
     },
     "metadata": {},
     "output_type": "display_data"
    },
    {
     "name": "stdout",
     "output_type": "stream",
     "text": [
      "Train Loss: 0.2141 | Train AUC: 0.9474\n",
      "Val Loss:   0.2872 | Val AUC:   0.9368\n",
      "Val AUC улучшился (0.9283 -> 0.9368). Сохраняем...\n",
      "\n",
      "--- Эпоха 4 (TFIDF+MLP) ---\n",
      "LR: 0.001000\n"
     ]
    },
    {
     "data": {
      "application/vnd.jupyter.widget-view+json": {
       "model_id": "e9ad35164c4e410f9057a791625ea237",
       "version_major": 2,
       "version_minor": 0
      },
      "text/plain": [
       "Training:   0%|          | 0/337 [00:00<?, ?it/s]"
      ]
     },
     "metadata": {},
     "output_type": "display_data"
    },
    {
     "data": {
      "application/vnd.jupyter.widget-view+json": {
       "model_id": "da82ab249623441482d046c67f1adbf2",
       "version_major": 2,
       "version_minor": 0
      },
      "text/plain": [
       "Evaluating:   0%|          | 0/85 [00:00<?, ?it/s]"
      ]
     },
     "metadata": {},
     "output_type": "display_data"
    },
    {
     "name": "stdout",
     "output_type": "stream",
     "text": [
      "Train Loss: 0.1753 | Train AUC: 0.9585\n",
      "Val Loss:   0.2991 | Val AUC:   0.9413\n",
      "Val AUC улучшился (0.9368 -> 0.9413). Сохраняем...\n",
      "\n",
      "--- Эпоха 5 (TFIDF+MLP) ---\n",
      "LR: 0.001000\n"
     ]
    },
    {
     "data": {
      "application/vnd.jupyter.widget-view+json": {
       "model_id": "fb329412264946849ea2423fc145c213",
       "version_major": 2,
       "version_minor": 0
      },
      "text/plain": [
       "Training:   0%|          | 0/337 [00:00<?, ?it/s]"
      ]
     },
     "metadata": {},
     "output_type": "display_data"
    },
    {
     "data": {
      "application/vnd.jupyter.widget-view+json": {
       "model_id": "bb2ef0d755e547a58ca69aac759a64d1",
       "version_major": 2,
       "version_minor": 0
      },
      "text/plain": [
       "Evaluating:   0%|          | 0/85 [00:00<?, ?it/s]"
      ]
     },
     "metadata": {},
     "output_type": "display_data"
    },
    {
     "name": "stdout",
     "output_type": "stream",
     "text": [
      "Train Loss: 0.1503 | Train AUC: 0.9665\n",
      "Val Loss:   0.3235 | Val AUC:   0.9439\n",
      "Val AUC улучшился (0.9413 -> 0.9439). Сохраняем...\n",
      "\n",
      "--- Эпоха 6 (TFIDF+MLP) ---\n",
      "LR: 0.001000\n"
     ]
    },
    {
     "data": {
      "application/vnd.jupyter.widget-view+json": {
       "model_id": "965607d5151840ddaaeb0fee7f765c05",
       "version_major": 2,
       "version_minor": 0
      },
      "text/plain": [
       "Training:   0%|          | 0/337 [00:00<?, ?it/s]"
      ]
     },
     "metadata": {},
     "output_type": "display_data"
    },
    {
     "data": {
      "application/vnd.jupyter.widget-view+json": {
       "model_id": "6a65adabd366432ab936b1d990cd6a66",
       "version_major": 2,
       "version_minor": 0
      },
      "text/plain": [
       "Evaluating:   0%|          | 0/85 [00:00<?, ?it/s]"
      ]
     },
     "metadata": {},
     "output_type": "display_data"
    },
    {
     "name": "stdout",
     "output_type": "stream",
     "text": [
      "Train Loss: 0.1325 | Train AUC: 0.9729\n",
      "Val Loss:   0.3440 | Val AUC:   0.9456\n",
      "Val AUC улучшился (0.9439 -> 0.9456). Сохраняем...\n",
      "\n",
      "--- Эпоха 7 (TFIDF+MLP) ---\n",
      "LR: 0.001000\n"
     ]
    },
    {
     "data": {
      "application/vnd.jupyter.widget-view+json": {
       "model_id": "e989e328ecb747b8973c7d07f76e8129",
       "version_major": 2,
       "version_minor": 0
      },
      "text/plain": [
       "Training:   0%|          | 0/337 [00:00<?, ?it/s]"
      ]
     },
     "metadata": {},
     "output_type": "display_data"
    },
    {
     "data": {
      "application/vnd.jupyter.widget-view+json": {
       "model_id": "a281dca15e3f43ec83d8906ffd18f475",
       "version_major": 2,
       "version_minor": 0
      },
      "text/plain": [
       "Evaluating:   0%|          | 0/85 [00:00<?, ?it/s]"
      ]
     },
     "metadata": {},
     "output_type": "display_data"
    },
    {
     "name": "stdout",
     "output_type": "stream",
     "text": [
      "Train Loss: 0.1182 | Train AUC: 0.9779\n",
      "Val Loss:   0.3677 | Val AUC:   0.9464\n",
      "Val AUC улучшился (0.9456 -> 0.9464). Сохраняем...\n",
      "\n",
      "--- Эпоха 8 (TFIDF+MLP) ---\n",
      "LR: 0.001000\n"
     ]
    },
    {
     "data": {
      "application/vnd.jupyter.widget-view+json": {
       "model_id": "21a0d3faf18540168924bb2519e5558a",
       "version_major": 2,
       "version_minor": 0
      },
      "text/plain": [
       "Training:   0%|          | 0/337 [00:00<?, ?it/s]"
      ]
     },
     "metadata": {},
     "output_type": "display_data"
    },
    {
     "data": {
      "application/vnd.jupyter.widget-view+json": {
       "model_id": "c891fb6a57894eba8d05d0962af250d8",
       "version_major": 2,
       "version_minor": 0
      },
      "text/plain": [
       "Evaluating:   0%|          | 0/85 [00:00<?, ?it/s]"
      ]
     },
     "metadata": {},
     "output_type": "display_data"
    },
    {
     "name": "stdout",
     "output_type": "stream",
     "text": [
      "Train Loss: 0.1064 | Train AUC: 0.9817\n",
      "Val Loss:   0.3824 | Val AUC:   0.9474\n",
      "Val AUC улучшился (0.9464 -> 0.9474). Сохраняем...\n",
      "\n",
      "--- Эпоха 9 (TFIDF+MLP) ---\n",
      "LR: 0.001000\n"
     ]
    },
    {
     "data": {
      "application/vnd.jupyter.widget-view+json": {
       "model_id": "fdc38faff3aa472f8542718662e462ce",
       "version_major": 2,
       "version_minor": 0
      },
      "text/plain": [
       "Training:   0%|          | 0/337 [00:00<?, ?it/s]"
      ]
     },
     "metadata": {},
     "output_type": "display_data"
    },
    {
     "data": {
      "application/vnd.jupyter.widget-view+json": {
       "model_id": "38a307a2556343838b8f3a88ba17547f",
       "version_major": 2,
       "version_minor": 0
      },
      "text/plain": [
       "Evaluating:   0%|          | 0/85 [00:00<?, ?it/s]"
      ]
     },
     "metadata": {},
     "output_type": "display_data"
    },
    {
     "name": "stdout",
     "output_type": "stream",
     "text": [
      "Train Loss: 0.0962 | Train AUC: 0.9848\n",
      "Val Loss:   0.4004 | Val AUC:   0.9473\n",
      "\n",
      "--- Эпоха 10 (TFIDF+MLP) ---\n",
      "LR: 0.001000\n"
     ]
    },
    {
     "data": {
      "application/vnd.jupyter.widget-view+json": {
       "model_id": "f444d9c7e5e94b0381268b28390c2196",
       "version_major": 2,
       "version_minor": 0
      },
      "text/plain": [
       "Training:   0%|          | 0/337 [00:00<?, ?it/s]"
      ]
     },
     "metadata": {},
     "output_type": "display_data"
    },
    {
     "data": {
      "application/vnd.jupyter.widget-view+json": {
       "model_id": "e9241d6306154256b5f16673685ec694",
       "version_major": 2,
       "version_minor": 0
      },
      "text/plain": [
       "Evaluating:   0%|          | 0/85 [00:00<?, ?it/s]"
      ]
     },
     "metadata": {},
     "output_type": "display_data"
    },
    {
     "name": "stdout",
     "output_type": "stream",
     "text": [
      "Train Loss: 0.0874 | Train AUC: 0.9873\n",
      "Val Loss:   0.4189 | Val AUC:   0.9472\n",
      "\n",
      "--- Эпоха 11 (TFIDF+MLP) ---\n",
      "LR: 0.000200\n"
     ]
    },
    {
     "data": {
      "application/vnd.jupyter.widget-view+json": {
       "model_id": "8f963d160cb547d4827d84de779c8838",
       "version_major": 2,
       "version_minor": 0
      },
      "text/plain": [
       "Training:   0%|          | 0/337 [00:00<?, ?it/s]"
      ]
     },
     "metadata": {},
     "output_type": "display_data"
    },
    {
     "data": {
      "application/vnd.jupyter.widget-view+json": {
       "model_id": "ef892cff54ee4c69b95a6e33bd318226",
       "version_major": 2,
       "version_minor": 0
      },
      "text/plain": [
       "Evaluating:   0%|          | 0/85 [00:00<?, ?it/s]"
      ]
     },
     "metadata": {},
     "output_type": "display_data"
    },
    {
     "name": "stdout",
     "output_type": "stream",
     "text": [
      "Train Loss: 0.0765 | Train AUC: 0.9905\n",
      "Val Loss:   0.4319 | Val AUC:   0.9474\n",
      "Val AUC улучшился (0.9474 -> 0.9474). Сохраняем...\n",
      "\n",
      "--- Эпоха 12 (TFIDF+MLP) ---\n",
      "LR: 0.000200\n"
     ]
    },
    {
     "data": {
      "application/vnd.jupyter.widget-view+json": {
       "model_id": "b82bb753d24c447ea2ee61c0b312440f",
       "version_major": 2,
       "version_minor": 0
      },
      "text/plain": [
       "Training:   0%|          | 0/337 [00:00<?, ?it/s]"
      ]
     },
     "metadata": {},
     "output_type": "display_data"
    },
    {
     "data": {
      "application/vnd.jupyter.widget-view+json": {
       "model_id": "23f6cab813d54b5390568df28e237dc1",
       "version_major": 2,
       "version_minor": 0
      },
      "text/plain": [
       "Evaluating:   0%|          | 0/85 [00:00<?, ?it/s]"
      ]
     },
     "metadata": {},
     "output_type": "display_data"
    },
    {
     "name": "stdout",
     "output_type": "stream",
     "text": [
      "Train Loss: 0.0737 | Train AUC: 0.9912\n",
      "Val Loss:   0.4373 | Val AUC:   0.9475\n",
      "Val AUC улучшился (0.9474 -> 0.9475). Сохраняем...\n",
      "\n",
      "--- Эпоха 13 (TFIDF+MLP) ---\n",
      "LR: 0.000200\n"
     ]
    },
    {
     "data": {
      "application/vnd.jupyter.widget-view+json": {
       "model_id": "4e2e9f0001934bccacf0baa2d0343cb7",
       "version_major": 2,
       "version_minor": 0
      },
      "text/plain": [
       "Training:   0%|          | 0/337 [00:00<?, ?it/s]"
      ]
     },
     "metadata": {},
     "output_type": "display_data"
    },
    {
     "data": {
      "application/vnd.jupyter.widget-view+json": {
       "model_id": "7ab534178ed945888a1dc88e4c38efc4",
       "version_major": 2,
       "version_minor": 0
      },
      "text/plain": [
       "Evaluating:   0%|          | 0/85 [00:00<?, ?it/s]"
      ]
     },
     "metadata": {},
     "output_type": "display_data"
    },
    {
     "name": "stdout",
     "output_type": "stream",
     "text": [
      "Train Loss: 0.0717 | Train AUC: 0.9915\n",
      "Val Loss:   0.4469 | Val AUC:   0.9476\n",
      "Val AUC улучшился (0.9475 -> 0.9476). Сохраняем...\n",
      "\n",
      "--- Эпоха 14 (TFIDF+MLP) ---\n",
      "LR: 0.000200\n"
     ]
    },
    {
     "data": {
      "application/vnd.jupyter.widget-view+json": {
       "model_id": "ee3871769542456e914059808655230b",
       "version_major": 2,
       "version_minor": 0
      },
      "text/plain": [
       "Training:   0%|          | 0/337 [00:00<?, ?it/s]"
      ]
     },
     "metadata": {},
     "output_type": "display_data"
    },
    {
     "data": {
      "application/vnd.jupyter.widget-view+json": {
       "model_id": "deee862d66114eb7976cf0093f88fd89",
       "version_major": 2,
       "version_minor": 0
      },
      "text/plain": [
       "Evaluating:   0%|          | 0/85 [00:00<?, ?it/s]"
      ]
     },
     "metadata": {},
     "output_type": "display_data"
    },
    {
     "name": "stdout",
     "output_type": "stream",
     "text": [
      "Train Loss: 0.0702 | Train AUC: 0.9919\n",
      "Val Loss:   0.4499 | Val AUC:   0.9475\n",
      "\n",
      "--- Эпоха 15 (TFIDF+MLP) ---\n",
      "LR: 0.000040\n"
     ]
    },
    {
     "data": {
      "application/vnd.jupyter.widget-view+json": {
       "model_id": "b9b0db1f1af8432b93c127c44443c09e",
       "version_major": 2,
       "version_minor": 0
      },
      "text/plain": [
       "Training:   0%|          | 0/337 [00:00<?, ?it/s]"
      ]
     },
     "metadata": {},
     "output_type": "display_data"
    },
    {
     "data": {
      "application/vnd.jupyter.widget-view+json": {
       "model_id": "4f6ea127f1524e7dad653b659658e61f",
       "version_major": 2,
       "version_minor": 0
      },
      "text/plain": [
       "Evaluating:   0%|          | 0/85 [00:00<?, ?it/s]"
      ]
     },
     "metadata": {},
     "output_type": "display_data"
    },
    {
     "name": "stdout",
     "output_type": "stream",
     "text": [
      "Train Loss: 0.0670 | Train AUC: 0.9927\n",
      "Val Loss:   0.4522 | Val AUC:   0.9475\n",
      "\n",
      "--- Эпоха 16 (TFIDF+MLP) ---\n",
      "LR: 0.000040\n"
     ]
    },
    {
     "data": {
      "application/vnd.jupyter.widget-view+json": {
       "model_id": "fb153147833d4bdc9c0562ea5fa0816d",
       "version_major": 2,
       "version_minor": 0
      },
      "text/plain": [
       "Training:   0%|          | 0/337 [00:00<?, ?it/s]"
      ]
     },
     "metadata": {},
     "output_type": "display_data"
    },
    {
     "data": {
      "application/vnd.jupyter.widget-view+json": {
       "model_id": "b341c133ab084d978dd9d430aac96b66",
       "version_major": 2,
       "version_minor": 0
      },
      "text/plain": [
       "Evaluating:   0%|          | 0/85 [00:00<?, ?it/s]"
      ]
     },
     "metadata": {},
     "output_type": "display_data"
    },
    {
     "name": "stdout",
     "output_type": "stream",
     "text": [
      "Train Loss: 0.0674 | Train AUC: 0.9925\n",
      "Val Loss:   0.4529 | Val AUC:   0.9475\n",
      "Ранняя остановка на эпохе 16.\n"
     ]
    },
    {
     "data": {
      "image/png": "[encoded data removed]",
      "text/plain": [
       "<Figure size 1000x500 with 1 Axes>"
      ]
     },
     "metadata": {},
     "output_type": "display_data"
    }
   ],
   "source": [
    "# 5. Обучение\n",
    "num_samples = len(y_train_final)\n",
    "num_positives_per_class = np.sum(y_train_final, axis=0)\n",
    "num_negatives_per_class = num_samples - num_positives_per_class\n",
    "pos_weight = num_negatives_per_class / (num_positives_per_class + 1e-6)\n",
    "pos_weight_tensor = torch.tensor(pos_weight, dtype=torch.float32).to(device)\n",
    "criterion_tfidf = nn.BCEWithLogitsLoss(pos_weight=pos_weight_tensor).to(device)\n",
    "optimizer_tfidf = optim.AdamW(model_tfidf_nn.parameters(), lr=1e-3)\n",
    "scheduler_tfidf = ReduceLROnPlateau(optimizer_tfidf, mode='max', factor=0.2, patience=1)\n",
    "\n",
    "best_val_auc_tfidf = -1.0\n",
    "early_stopping_counter_tfidf = 0\n",
    "train_losses_tfidf, val_losses_tfidf, train_aucs_tfidf, val_aucs_tfidf, lr_tfidf = [], [], [], [], []\n",
    "\n",
    "for epoch in range(20):\n",
    "    print(f\"\\n--- Эпоха {epoch + 1} (TFIDF+MLP) ---\")\n",
    "    lr_tfidf.append(optimizer_tfidf.param_groups[0]['lr'])\n",
    "    print(f\"LR: {lr_tfidf[-1]:.6f}\")\n",
    "\n",
    "    train_loss, train_auc = train_loop(model_tfidf_nn, train_loader_tfidf, criterion_tfidf, optimizer_tfidf, device, is_rnn_or_cnn=False)\n",
    "    val_loss, val_auc = evaluate_loop(model_tfidf_nn, val_loader_tfidf, criterion_tfidf, device, is_rnn_or_cnn=False)\n",
    "    train_losses_tfidf.append(train_loss)\n",
    "    val_losses_tfidf.append(val_loss)\n",
    "    train_aucs_tfidf.append(train_auc)\n",
    "    val_aucs_tfidf.append(val_auc)\n",
    "\n",
    "    print(f\"Train Loss: {train_loss:.4f} | Train AUC: {train_auc:.4f}\")\n",
    "    print(f\"Val Loss:   {val_loss:.4f} | Val AUC:   {val_auc:.4f}\")\n",
    "\n",
    "    scheduler_tfidf.step(val_auc)\n",
    "    if val_auc > best_val_auc_tfidf:\n",
    "        print(f\"Val AUC улучшился ({best_val_auc_tfidf:.4f} -> {val_auc:.4f}). Сохраняем...\")\n",
    "        best_val_auc_tfidf = val_auc\n",
    "        torch.save(model_tfidf_nn.state_dict(), MODEL_PATHS[\"tfidf_mlp\"])\n",
    "        early_stopping_counter_tfidf = 0\n",
    "    else:\n",
    "        early_stopping_counter_tfidf += 1\n",
    "\n",
    "    if early_stopping_counter_tfidf >= EARLY_STOPPING_PATIENCE:\n",
    "        print(f\"Ранняя остановка на эпохе {epoch + 1}.\")\n",
    "        break\n",
    "\n",
    "plt.figure(figsize=(10, 5))\n",
    "plt.plot(train_losses_tfidf, label='Train Loss', color='blue')\n",
    "plt.plot(val_losses_tfidf, label='Validation Loss', color='orange')\n",
    "plt.title('Лосс функция во время обучения')\n",
    "plt.xlabel('Эпохи')\n",
    "plt.ylabel('Лосс')\n",
    "plt.legend()\n",
    "plt.grid()"
   ]
  },
  {
   "cell_type": "markdown",
   "metadata": {},
   "source": [
    "даже при условии что довольно странно себя ведёт лосс, хотя roc auc на валидации увеличивается - скор от этого лучше на паблике \\\n",
    "0.835 на прайвате и 0.840 на паблике"
   ]
  },
  {
   "cell_type": "markdown",
   "metadata": {},
   "source": [
    "## Word2Vec + LSTM"
   ]
  },
  {
   "cell_type": "code",
   "execution_count": 10,
   "metadata": {},
   "outputs": [
    {
     "data": {
      "application/vnd.jupyter.widget-view+json": {
       "model_id": "97c67f4ff0c541918736faa4ef88040f",
       "version_major": 2,
       "version_minor": 0
      },
      "text/plain": [
       "  0%|          | 0/21545 [00:00<?, ?it/s]"
      ]
     },
     "metadata": {},
     "output_type": "display_data"
    },
    {
     "name": "stdout",
     "output_type": "stream",
     "text": [
      "Размер словаря Word2Vec (глобальный VOCAB_SIZE): 39759\n",
      "Глобальный PAD_IDX: 0, UNK_IDX: 1\n",
      "Сохранение словаря в ./trained_models/word_to_idx.json...\n",
      "Словарь сохранен.\n",
      "Embedding матрица: torch.Size([39759, 300])\n"
     ]
    },
    {
     "data": {
      "application/vnd.jupyter.widget-view+json": {
       "model_id": "f1fd5a0343ee4dc09caeb493855836f7",
       "version_major": 2,
       "version_minor": 0
      },
      "text/plain": [
       "Train Seq:   0%|          | 0/21545 [00:00<?, ?it/s]"
      ]
     },
     "metadata": {},
     "output_type": "display_data"
    },
    {
     "data": {
      "application/vnd.jupyter.widget-view+json": {
       "model_id": "3cb5f0f20c664c148cc078de215980d7",
       "version_major": 2,
       "version_minor": 0
      },
      "text/plain": [
       "Val Seq:   0%|          | 0/5422 [00:00<?, ?it/s]"
      ]
     },
     "metadata": {},
     "output_type": "display_data"
    }
   ],
   "source": [
    "# 1. Обучение Word2Vec\n",
    "sentences_for_w2v = [\n",
    "    word_tokenize(str(text)) \n",
    "    for text in tqdm(train_split_df['text_cleaned_sequential']) \n",
    "    if isinstance(text, str) and text.strip()\n",
    "]\n",
    "\n",
    "w2v_model = Word2Vec(\n",
    "    sentences=sentences_for_w2v, \n",
    "    vector_size=W2V_VECTOR_SIZE, \n",
    "    window=W2V_WINDOW, \n",
    "    min_count=W2V_MIN_COUNT, \n",
    "    workers=W2V_WORKERS, \n",
    "    epochs=W2V_EPOCHS, \n",
    "    sg=1, \n",
    "    seed=SEED\n",
    ")\n",
    "\n",
    "globals()['word_to_idx'] = {word: idx + 2 for idx, word in enumerate(w2v_model.wv.index_to_key)}\n",
    "globals()['word_to_idx']['<PAD>'] = PAD_IDX\n",
    "globals()['word_to_idx']['<UNK>'] = UNK_IDX\n",
    "globals()['VOCAB_SIZE'] = len(word_to_idx)\n",
    "print(f\"Размер словаря Word2Vec (глобальный VOCAB_SIZE): {VOCAB_SIZE}\")\n",
    "print(f\"Глобальный PAD_IDX: {PAD_IDX}, UNK_IDX: {UNK_IDX}\")\n",
    "\n",
    "VOCAB_SAVE_PATH = os.path.join(MODEL_SAVE_DIR, \"word_to_idx.json\")\n",
    "print(f\"Сохранение словаря в {VOCAB_SAVE_PATH}...\")\n",
    "with open(VOCAB_SAVE_PATH, 'w', encoding='utf8') as f:\n",
    "    json.dump(word_to_idx, f, ensure_ascii=False, indent=4)\n",
    "print(\"Словарь сохранен.\")\n",
    "\n",
    "# 2. Создание Embedding-матрицы\n",
    "embedding_matrix = np.zeros((VOCAB_SIZE, W2V_VECTOR_SIZE))\n",
    "for word, idx_val in word_to_idx.items():\n",
    "    if idx_val > UNK_IDX and word in w2v_model.wv:\n",
    "        embedding_matrix[idx_val] = w2v_model.wv[word]\n",
    "embedding_matrix[UNK_IDX] = np.random.normal(scale=0.6, size=(W2V_VECTOR_SIZE,))\n",
    "embedding_matrix = torch.tensor(embedding_matrix, dtype=torch.float32)\n",
    "print(f\"Embedding матрица: {embedding_matrix.shape}\")\n",
    "\n",
    "# 3. Преобразование текстов в последовательности (использует глобальный word_to_idx)\n",
    "train_sequences = [\n",
    "    text_to_sequence(text, word_to_idx) \n",
    "    for text in tqdm(train_split_df['text_cleaned_sequential'], desc=\"Train Seq\")\n",
    "]\n",
    "val_sequences = [\n",
    "    text_to_sequence(text, word_to_idx) \n",
    "    for text in tqdm(val_split_df['text_cleaned_sequential'], desc=\"Val Seq\")\n",
    "]\n",
    "\n",
    "current_notebook_pad_idx = PAD_IDX\n",
    "current_notebook_unk_idx = UNK_IDX\n",
    "\n",
    "collate_fn_for_w2v_lstm = functools.partial(\n",
    "    collate_batch_configurable,\n",
    "    pad_idx_value=current_notebook_pad_idx,\n",
    "    unk_idx_value=current_notebook_unk_idx\n",
    ")\n",
    "\n",
    "# 4. Dataset и DataLoader\n",
    "train_seq_dataset = SequenceDataset(train_sequences, y_train_final, MAX_LEN)\n",
    "val_seq_dataset = SequenceDataset(val_sequences, y_val_final, MAX_LEN)\n",
    "train_seq_loader = DataLoader(train_seq_dataset, batch_size=BATCH_SIZE, shuffle=True, collate_fn=collate_fn_for_w2v_lstm, num_workers=0)\n",
    "val_seq_loader = DataLoader(val_seq_dataset, batch_size=BATCH_SIZE, shuffle=False, collate_fn=collate_fn_for_w2v_lstm, num_workers=0)\n",
    "SEQ_DATALOADERS_CREATED = True\n",
    "\n",
    "model_w2v_lstm = LSTMClassifier(VOCAB_SIZE, W2V_VECTOR_SIZE, LSTM_HIDDEN_DIM, OUTPUT_DIM, LSTM_LAYERS, LSTM_BIDIRECTIONAL, LSTM_DROPOUT, PAD_IDX, embedding_matrix, FREEZE_EMBEDDINGS).to(device)"
   ]
  },
  {
   "cell_type": "code",
   "execution_count": 11,
   "metadata": {},
   "outputs": [
    {
     "name": "stdout",
     "output_type": "stream",
     "text": [
      "Запуск обучения W2V+LSTM...\n",
      "Ограниченные pos_weight для LSTM (train): tensor([ 0.8408,  0.5454, 19.3063, 15.7145,  0.6254, 20.0000, 20.0000,  0.3005,\n",
      "         0.2712,  0.4368,  1.3227,  0.5984,  0.2628,  0.2880,  0.3123,  0.9955,\n",
      "         0.3535,  0.2542,  0.2142,  4.1592], device='mps:0')\n",
      "\n",
      "--- Эпоха 1 (W2V+LSTM) ---\n",
      "LR: 0.000500\n"
     ]
    },
    {
     "data": {
      "application/vnd.jupyter.widget-view+json": {
       "model_id": "d867c3f8ef2b459ba7fd9ce8b0d76725",
       "version_major": 2,
       "version_minor": 0
      },
      "text/plain": [
       "Training:   0%|          | 0/337 [00:00<?, ?it/s]"
      ]
     },
     "metadata": {},
     "output_type": "display_data"
    },
    {
     "data": {
      "application/vnd.jupyter.widget-view+json": {
       "model_id": "f3688cf89e1d4c4b8fe75d2678fbd4c1",
       "version_major": 2,
       "version_minor": 0
      },
      "text/plain": [
       "Evaluating:   0%|          | 0/85 [00:00<?, ?it/s]"
      ]
     },
     "metadata": {},
     "output_type": "display_data"
    },
    {
     "name": "stdout",
     "output_type": "stream",
     "text": [
      "Train Loss: 0.4229 | Train AUC: 0.7807\n",
      "Val Loss:   0.3183 | Val AUC:   0.8856\n",
      "Val AUC улучшился (-1.0000 -> 0.8856). Сохраняем...\n",
      "\n",
      "--- Эпоха 2 (W2V+LSTM) ---\n",
      "LR: 0.000500\n"
     ]
    },
    {
     "data": {
      "application/vnd.jupyter.widget-view+json": {
       "model_id": "eccfcbd5deb5464f8fd2114d9c9d5e43",
       "version_major": 2,
       "version_minor": 0
      },
      "text/plain": [
       "Training:   0%|          | 0/337 [00:00<?, ?it/s]"
      ]
     },
     "metadata": {},
     "output_type": "display_data"
    },
    {
     "data": {
      "application/vnd.jupyter.widget-view+json": {
       "model_id": "9239b6a6901b476ab5cfb4f159448770",
       "version_major": 2,
       "version_minor": 0
      },
      "text/plain": [
       "Evaluating:   0%|          | 0/85 [00:00<?, ?it/s]"
      ]
     },
     "metadata": {},
     "output_type": "display_data"
    },
    {
     "name": "stdout",
     "output_type": "stream",
     "text": [
      "Train Loss: 0.2937 | Train AUC: 0.8915\n",
      "Val Loss:   0.2781 | Val AUC:   0.9076\n",
      "Val AUC улучшился (0.8856 -> 0.9076). Сохраняем...\n",
      "\n",
      "--- Эпоха 3 (W2V+LSTM) ---\n",
      "LR: 0.000500\n"
     ]
    },
    {
     "data": {
      "application/vnd.jupyter.widget-view+json": {
       "model_id": "b05ae141d718446dacde4ffbfef0ba1f",
       "version_major": 2,
       "version_minor": 0
      },
      "text/plain": [
       "Training:   0%|          | 0/337 [00:00<?, ?it/s]"
      ]
     },
     "metadata": {},
     "output_type": "display_data"
    },
    {
     "data": {
      "application/vnd.jupyter.widget-view+json": {
       "model_id": "b76a2a43878c49dc9f9cb7c1902cccf7",
       "version_major": 2,
       "version_minor": 0
      },
      "text/plain": [
       "Evaluating:   0%|          | 0/85 [00:00<?, ?it/s]"
      ]
     },
     "metadata": {},
     "output_type": "display_data"
    },
    {
     "name": "stdout",
     "output_type": "stream",
     "text": [
      "Train Loss: 0.2371 | Train AUC: 0.9190\n",
      "Val Loss:   0.2765 | Val AUC:   0.9140\n",
      "Val AUC улучшился (0.9076 -> 0.9140). Сохраняем...\n",
      "\n",
      "--- Эпоха 4 (W2V+LSTM) ---\n",
      "LR: 0.000500\n"
     ]
    },
    {
     "data": {
      "application/vnd.jupyter.widget-view+json": {
       "model_id": "db300307c6734e45ae2eac49df5c6a47",
       "version_major": 2,
       "version_minor": 0
      },
      "text/plain": [
       "Training:   0%|          | 0/337 [00:00<?, ?it/s]"
      ]
     },
     "metadata": {},
     "output_type": "display_data"
    },
    {
     "data": {
      "application/vnd.jupyter.widget-view+json": {
       "model_id": "25ec3b35f2694b21bc3eb609c493515c",
       "version_major": 2,
       "version_minor": 0
      },
      "text/plain": [
       "Evaluating:   0%|          | 0/85 [00:00<?, ?it/s]"
      ]
     },
     "metadata": {},
     "output_type": "display_data"
    },
    {
     "name": "stdout",
     "output_type": "stream",
     "text": [
      "Train Loss: 0.1987 | Train AUC: 0.9348\n",
      "Val Loss:   0.3037 | Val AUC:   0.9157\n",
      "Val AUC улучшился (0.9140 -> 0.9157). Сохраняем...\n",
      "\n",
      "--- Эпоха 5 (W2V+LSTM) ---\n",
      "LR: 0.000500\n"
     ]
    },
    {
     "data": {
      "application/vnd.jupyter.widget-view+json": {
       "model_id": "2db66c3398144371ae5ffcdfc4261f59",
       "version_major": 2,
       "version_minor": 0
      },
      "text/plain": [
       "Training:   0%|          | 0/337 [00:00<?, ?it/s]"
      ]
     },
     "metadata": {},
     "output_type": "display_data"
    },
    {
     "data": {
      "application/vnd.jupyter.widget-view+json": {
       "model_id": "3709792a237d42b9a7c9892a25571660",
       "version_major": 2,
       "version_minor": 0
      },
      "text/plain": [
       "Evaluating:   0%|          | 0/85 [00:00<?, ?it/s]"
      ]
     },
     "metadata": {},
     "output_type": "display_data"
    },
    {
     "name": "stdout",
     "output_type": "stream",
     "text": [
      "Train Loss: 0.1774 | Train AUC: 0.9435\n",
      "Val Loss:   0.3081 | Val AUC:   0.9153\n",
      "\n",
      "--- Эпоха 6 (W2V+LSTM) ---\n",
      "LR: 0.000500\n"
     ]
    },
    {
     "data": {
      "application/vnd.jupyter.widget-view+json": {
       "model_id": "a22190a6b5414615a5b29daaa65d095f",
       "version_major": 2,
       "version_minor": 0
      },
      "text/plain": [
       "Training:   0%|          | 0/337 [00:00<?, ?it/s]"
      ]
     },
     "metadata": {},
     "output_type": "display_data"
    },
    {
     "data": {
      "application/vnd.jupyter.widget-view+json": {
       "model_id": "5a2cfe97b8e94d139423b58d1449e870",
       "version_major": 2,
       "version_minor": 0
      },
      "text/plain": [
       "Evaluating:   0%|          | 0/85 [00:00<?, ?it/s]"
      ]
     },
     "metadata": {},
     "output_type": "display_data"
    },
    {
     "name": "stdout",
     "output_type": "stream",
     "text": [
      "Train Loss: 0.1596 | Train AUC: 0.9507\n",
      "Val Loss:   0.3489 | Val AUC:   0.9201\n",
      "Val AUC улучшился (0.9157 -> 0.9201). Сохраняем...\n",
      "\n",
      "--- Эпоха 7 (W2V+LSTM) ---\n",
      "LR: 0.000500\n"
     ]
    },
    {
     "data": {
      "application/vnd.jupyter.widget-view+json": {
       "model_id": "f73742275b764b86b7004745848d1ed8",
       "version_major": 2,
       "version_minor": 0
      },
      "text/plain": [
       "Training:   0%|          | 0/337 [00:00<?, ?it/s]"
      ]
     },
     "metadata": {},
     "output_type": "display_data"
    },
    {
     "data": {
      "application/vnd.jupyter.widget-view+json": {
       "model_id": "f2b8605baad44ddca2681c88982d633e",
       "version_major": 2,
       "version_minor": 0
      },
      "text/plain": [
       "Evaluating:   0%|          | 0/85 [00:00<?, ?it/s]"
      ]
     },
     "metadata": {},
     "output_type": "display_data"
    },
    {
     "name": "stdout",
     "output_type": "stream",
     "text": [
      "Train Loss: 0.1450 | Train AUC: 0.9569\n",
      "Val Loss:   0.3390 | Val AUC:   0.9219\n",
      "Val AUC улучшился (0.9201 -> 0.9219). Сохраняем...\n",
      "\n",
      "--- Эпоха 8 (W2V+LSTM) ---\n",
      "LR: 0.000500\n"
     ]
    },
    {
     "data": {
      "application/vnd.jupyter.widget-view+json": {
       "model_id": "54de3bfff2324a6e9d44965e70c52b69",
       "version_major": 2,
       "version_minor": 0
      },
      "text/plain": [
       "Training:   0%|          | 0/337 [00:00<?, ?it/s]"
      ]
     },
     "metadata": {},
     "output_type": "display_data"
    },
    {
     "data": {
      "application/vnd.jupyter.widget-view+json": {
       "model_id": "6e45a469355440e8aadc01804d08b1ce",
       "version_major": 2,
       "version_minor": 0
      },
      "text/plain": [
       "Evaluating:   0%|          | 0/85 [00:00<?, ?it/s]"
      ]
     },
     "metadata": {},
     "output_type": "display_data"
    },
    {
     "name": "stdout",
     "output_type": "stream",
     "text": [
      "Train Loss: 0.1340 | Train AUC: 0.9618\n",
      "Val Loss:   0.3443 | Val AUC:   0.9236\n",
      "Val AUC улучшился (0.9219 -> 0.9236). Сохраняем...\n",
      "\n",
      "--- Эпоха 9 (W2V+LSTM) ---\n",
      "LR: 0.000500\n"
     ]
    },
    {
     "data": {
      "application/vnd.jupyter.widget-view+json": {
       "model_id": "e74518f28388456d9f28e9c6b590dd64",
       "version_major": 2,
       "version_minor": 0
      },
      "text/plain": [
       "Training:   0%|          | 0/337 [00:00<?, ?it/s]"
      ]
     },
     "metadata": {},
     "output_type": "display_data"
    },
    {
     "data": {
      "application/vnd.jupyter.widget-view+json": {
       "model_id": "42fd0ed5f02940fe807942cbde0baee9",
       "version_major": 2,
       "version_minor": 0
      },
      "text/plain": [
       "Evaluating:   0%|          | 0/85 [00:00<?, ?it/s]"
      ]
     },
     "metadata": {},
     "output_type": "display_data"
    },
    {
     "name": "stdout",
     "output_type": "stream",
     "text": [
      "Train Loss: 0.1241 | Train AUC: 0.9656\n",
      "Val Loss:   0.3792 | Val AUC:   0.9253\n",
      "Val AUC улучшился (0.9236 -> 0.9253). Сохраняем...\n",
      "\n",
      "--- Эпоха 10 (W2V+LSTM) ---\n",
      "LR: 0.000500\n"
     ]
    },
    {
     "data": {
      "application/vnd.jupyter.widget-view+json": {
       "model_id": "c8da86c816e7417bb7f2e69184d8b960",
       "version_major": 2,
       "version_minor": 0
      },
      "text/plain": [
       "Training:   0%|          | 0/337 [00:00<?, ?it/s]"
      ]
     },
     "metadata": {},
     "output_type": "display_data"
    },
    {
     "data": {
      "application/vnd.jupyter.widget-view+json": {
       "model_id": "01b98df271d54c92997f72f52e21304a",
       "version_major": 2,
       "version_minor": 0
      },
      "text/plain": [
       "Evaluating:   0%|          | 0/85 [00:00<?, ?it/s]"
      ]
     },
     "metadata": {},
     "output_type": "display_data"
    },
    {
     "name": "stdout",
     "output_type": "stream",
     "text": [
      "Train Loss: 0.1143 | Train AUC: 0.9694\n",
      "Val Loss:   0.4000 | Val AUC:   0.9248\n",
      "\n",
      "--- Эпоха 11 (W2V+LSTM) ---\n",
      "LR: 0.000500\n"
     ]
    },
    {
     "data": {
      "application/vnd.jupyter.widget-view+json": {
       "model_id": "876a0d7a1922460d93ebffa31b771e1d",
       "version_major": 2,
       "version_minor": 0
      },
      "text/plain": [
       "Training:   0%|          | 0/337 [00:00<?, ?it/s]"
      ]
     },
     "metadata": {},
     "output_type": "display_data"
    },
    {
     "data": {
      "application/vnd.jupyter.widget-view+json": {
       "model_id": "1856d23a31eb4c34ad5f98447bf88b7f",
       "version_major": 2,
       "version_minor": 0
      },
      "text/plain": [
       "Evaluating:   0%|          | 0/85 [00:00<?, ?it/s]"
      ]
     },
     "metadata": {},
     "output_type": "display_data"
    },
    {
     "name": "stdout",
     "output_type": "stream",
     "text": [
      "Train Loss: 0.1084 | Train AUC: 0.9718\n",
      "Val Loss:   0.4007 | Val AUC:   0.9245\n",
      "\n",
      "--- Эпоха 12 (W2V+LSTM) ---\n",
      "LR: 0.000100\n"
     ]
    },
    {
     "data": {
      "application/vnd.jupyter.widget-view+json": {
       "model_id": "e71da3a8849e4f2687f816e1716dc119",
       "version_major": 2,
       "version_minor": 0
      },
      "text/plain": [
       "Training:   0%|          | 0/337 [00:00<?, ?it/s]"
      ]
     },
     "metadata": {},
     "output_type": "display_data"
    },
    {
     "data": {
      "application/vnd.jupyter.widget-view+json": {
       "model_id": "9bd86ae2cda744bea21887063f948aee",
       "version_major": 2,
       "version_minor": 0
      },
      "text/plain": [
       "Evaluating:   0%|          | 0/85 [00:00<?, ?it/s]"
      ]
     },
     "metadata": {},
     "output_type": "display_data"
    },
    {
     "name": "stdout",
     "output_type": "stream",
     "text": [
      "Train Loss: 0.0951 | Train AUC: 0.9765\n",
      "Val Loss:   0.4171 | Val AUC:   0.9263\n",
      "Val AUC улучшился (0.9253 -> 0.9263). Сохраняем...\n",
      "\n",
      "--- Эпоха 13 (W2V+LSTM) ---\n",
      "LR: 0.000100\n"
     ]
    },
    {
     "data": {
      "application/vnd.jupyter.widget-view+json": {
       "model_id": "3a43f86a782e455eb35fa61add1773ca",
       "version_major": 2,
       "version_minor": 0
      },
      "text/plain": [
       "Training:   0%|          | 0/337 [00:00<?, ?it/s]"
      ]
     },
     "metadata": {},
     "output_type": "display_data"
    },
    {
     "data": {
      "application/vnd.jupyter.widget-view+json": {
       "model_id": "78a4fa5a134247b0a925b107ddf8cd09",
       "version_major": 2,
       "version_minor": 0
      },
      "text/plain": [
       "Evaluating:   0%|          | 0/85 [00:00<?, ?it/s]"
      ]
     },
     "metadata": {},
     "output_type": "display_data"
    },
    {
     "name": "stdout",
     "output_type": "stream",
     "text": [
      "Train Loss: 0.0891 | Train AUC: 0.9781\n",
      "Val Loss:   0.4308 | Val AUC:   0.9262\n",
      "\n",
      "--- Эпоха 14 (W2V+LSTM) ---\n",
      "LR: 0.000100\n"
     ]
    },
    {
     "data": {
      "application/vnd.jupyter.widget-view+json": {
       "model_id": "41aa013afb5e411fa4290ab784718962",
       "version_major": 2,
       "version_minor": 0
      },
      "text/plain": [
       "Training:   0%|          | 0/337 [00:00<?, ?it/s]"
      ]
     },
     "metadata": {},
     "output_type": "display_data"
    },
    {
     "data": {
      "application/vnd.jupyter.widget-view+json": {
       "model_id": "d2d417411aae4571b012316aab60e65b",
       "version_major": 2,
       "version_minor": 0
      },
      "text/plain": [
       "Evaluating:   0%|          | 0/85 [00:00<?, ?it/s]"
      ]
     },
     "metadata": {},
     "output_type": "display_data"
    },
    {
     "name": "stdout",
     "output_type": "stream",
     "text": [
      "Train Loss: 0.0855 | Train AUC: 0.9792\n",
      "Val Loss:   0.4421 | Val AUC:   0.9262\n",
      "\n",
      "--- Эпоха 15 (W2V+LSTM) ---\n",
      "LR: 0.000020\n"
     ]
    },
    {
     "data": {
      "application/vnd.jupyter.widget-view+json": {
       "model_id": "78e7a16d341c489a9c682b7ba49bd662",
       "version_major": 2,
       "version_minor": 0
      },
      "text/plain": [
       "Training:   0%|          | 0/337 [00:00<?, ?it/s]"
      ]
     },
     "metadata": {},
     "output_type": "display_data"
    },
    {
     "data": {
      "application/vnd.jupyter.widget-view+json": {
       "model_id": "582d4e074f97426793c4b0222b9646ee",
       "version_major": 2,
       "version_minor": 0
      },
      "text/plain": [
       "Evaluating:   0%|          | 0/85 [00:00<?, ?it/s]"
      ]
     },
     "metadata": {},
     "output_type": "display_data"
    },
    {
     "name": "stdout",
     "output_type": "stream",
     "text": [
      "Train Loss: 0.0818 | Train AUC: 0.9803\n",
      "Val Loss:   0.4447 | Val AUC:   0.9262\n",
      "Ранняя остановка на эпохе 15.\n"
     ]
    },
    {
     "data": {
      "image/png": "[encoded data removed]",
      "text/plain": [
       "<Figure size 1000x500 with 1 Axes>"
      ]
     },
     "metadata": {},
     "output_type": "display_data"
    }
   ],
   "source": [
    "# 6. Обучение\n",
    "print(\"Запуск обучения W2V+LSTM...\")\n",
    "\n",
    "# Подсчет количества образцов и классов\n",
    "num_samples_train = len(y_train_final)\n",
    "num_positives_per_class_train = np.sum(y_train_final, axis=0)\n",
    "num_negatives_per_class_train = num_samples_train - num_positives_per_class_train\n",
    "\n",
    "# Вычисление веса для положительного класса\n",
    "pos_weight_train = num_negatives_per_class_train / (num_positives_per_class_train + 1e-6)\n",
    "pos_weight_train_tensor = torch.tensor(pos_weight_train, dtype=torch.float32).to(device)\n",
    "pos_weight_train_tensor_clipped = torch.clamp(pos_weight_train_tensor, max=MAX_POS_WEIGHT)\n",
    "\n",
    "print(f\"Ограниченные pos_weight для LSTM (train): {pos_weight_train_tensor_clipped}\")\n",
    "\n",
    "criterion_w2v = nn.BCEWithLogitsLoss(pos_weight=pos_weight_train_tensor_clipped).to(device)\n",
    "optimizer_w2v = optim.AdamW(model_w2v_lstm.parameters(), lr=5e-4)\n",
    "scheduler_w2v = ReduceLROnPlateau(optimizer_w2v, mode='max', factor=0.2, patience=1)\n",
    "\n",
    "best_val_auc_w2v = -1.0\n",
    "early_stopping_counter_w2v = 0\n",
    "train_losses_w2v, val_losses_w2v, train_aucs_w2v, val_aucs_w2v, lr_w2v = [], [], [], [], []\n",
    "\n",
    "for epoch in range(20):\n",
    "    print(f\"\\n--- Эпоха {epoch + 1} (W2V+LSTM) ---\")\n",
    "    lr_w2v.append(optimizer_w2v.param_groups[0]['lr'])\n",
    "    print(f\"LR: {lr_w2v[-1]:.6f}\")\n",
    "\n",
    "    train_loss, train_auc = train_loop(model_w2v_lstm, train_seq_loader, criterion_w2v, optimizer_w2v, device, is_rnn_or_cnn='rnn')\n",
    "    val_loss, val_auc = evaluate_loop(model_w2v_lstm, val_seq_loader, criterion_w2v, device, is_rnn_or_cnn='rnn')\n",
    "\n",
    "    train_losses_w2v.append(train_loss)\n",
    "    val_losses_w2v.append(val_loss)\n",
    "    train_aucs_w2v.append(train_auc)\n",
    "    val_aucs_w2v.append(val_auc)\n",
    "\n",
    "    print(f\"Train Loss: {train_loss:.4f} | Train AUC: {train_auc:.4f}\")\n",
    "    print(f\"Val Loss:   {val_loss:.4f} | Val AUC:   {val_auc:.4f}\")\n",
    "\n",
    "    scheduler_w2v.step(val_auc)\n",
    "\n",
    "    if val_auc > best_val_auc_w2v:\n",
    "        print(f\"Val AUC улучшился ({best_val_auc_w2v:.4f} -> {val_auc:.4f}). Сохраняем...\")\n",
    "        best_val_auc_w2v = val_auc\n",
    "        torch.save(model_w2v_lstm.state_dict(), MODEL_PATHS[\"w2v_lstm\"])\n",
    "        early_stopping_counter_w2v = 0\n",
    "    else:\n",
    "        early_stopping_counter_w2v += 1\n",
    "\n",
    "    # Проверка на раннюю остановку\n",
    "    if early_stopping_counter_w2v >= EARLY_STOPPING_PATIENCE:\n",
    "        print(f\"Ранняя остановка на эпохе {epoch + 1}.\")\n",
    "        break\n",
    "\n",
    "plt.figure(figsize=(10, 5))\n",
    "plt.plot(train_losses_w2v, label='Train Loss')\n",
    "plt.plot(val_losses_w2v, label='Validation Loss')\n",
    "plt.title('Потери во время обучения')\n",
    "plt.xlabel('Эпоха')\n",
    "plt.ylabel('Потеря')\n",
    "plt.legend()\n",
    "plt.grid()\n",
    "plt.show()"
   ]
  },
  {
   "cell_type": "markdown",
   "metadata": {},
   "source": [
    "## CNN + Trainable Emb"
   ]
  },
  {
   "cell_type": "code",
   "execution_count": 12,
   "metadata": {},
   "outputs": [
    {
     "name": "stdout",
     "output_type": "stream",
     "text": [
      "--- Этап 3 (Пайплайн 3): CNN + Trainable Emb (с взвешиванием классов) ---\n",
      "Запуск обучения CNN+Emb (с взвешиванием классов)...\n",
      "ОГРАНИЧЕННЫЕ pos_weight для CNN: tensor([ 0.8408,  0.5454, 19.3063, 15.7145,  0.6254, 20.0000, 20.0000,  0.3005,\n",
      "         0.2712,  0.4368,  1.3227,  0.5984,  0.2628,  0.2880,  0.3123,  0.9955,\n",
      "         0.3535,  0.2542,  0.2142,  4.1592], device='mps:0')\n",
      "\n",
      "--- Эпоха 1 (CNN+Emb) ---\n",
      "LR: 0.001000\n"
     ]
    },
    {
     "data": {
      "application/vnd.jupyter.widget-view+json": {
       "model_id": "b4570f9a4af241dab0f40ff8ea5bbdbb",
       "version_major": 2,
       "version_minor": 0
      },
      "text/plain": [
       "Training:   0%|          | 0/337 [00:00<?, ?it/s]"
      ]
     },
     "metadata": {},
     "output_type": "display_data"
    },
    {
     "data": {
      "application/vnd.jupyter.widget-view+json": {
       "model_id": "f033957bd1b946c283b9f72156d2d696",
       "version_major": 2,
       "version_minor": 0
      },
      "text/plain": [
       "Evaluating:   0%|          | 0/85 [00:00<?, ?it/s]"
      ]
     },
     "metadata": {},
     "output_type": "display_data"
    },
    {
     "name": "stdout",
     "output_type": "stream",
     "text": [
      "Train Loss: 0.4499 | Train AUC: 0.7487\n",
      "Val Loss:   0.3198 | Val AUC:   0.8778\n",
      "Val AUC улучшился (-1.0000 -> 0.8778). Сохраняем...\n",
      "\n",
      "--- Эпоха 2 (CNN+Emb) ---\n",
      "LR: 0.001000\n"
     ]
    },
    {
     "data": {
      "application/vnd.jupyter.widget-view+json": {
       "model_id": "413d6b3d48024e85804ddc6049aa3102",
       "version_major": 2,
       "version_minor": 0
      },
      "text/plain": [
       "Training:   0%|          | 0/337 [00:00<?, ?it/s]"
      ]
     },
     "metadata": {},
     "output_type": "display_data"
    },
    {
     "data": {
      "application/vnd.jupyter.widget-view+json": {
       "model_id": "d550d456a0d643afa1533bcd173f03aa",
       "version_major": 2,
       "version_minor": 0
      },
      "text/plain": [
       "Evaluating:   0%|          | 0/85 [00:00<?, ?it/s]"
      ]
     },
     "metadata": {},
     "output_type": "display_data"
    },
    {
     "name": "stdout",
     "output_type": "stream",
     "text": [
      "Train Loss: 0.3359 | Train AUC: 0.8640\n",
      "Val Loss:   0.2773 | Val AUC:   0.9199\n",
      "Val AUC улучшился (0.8778 -> 0.9199). Сохраняем...\n",
      "\n",
      "--- Эпоха 3 (CNN+Emb) ---\n",
      "LR: 0.001000\n"
     ]
    },
    {
     "data": {
      "application/vnd.jupyter.widget-view+json": {
       "model_id": "e6e0f91c9cf74891969d0f6c63b8c646",
       "version_major": 2,
       "version_minor": 0
      },
      "text/plain": [
       "Training:   0%|          | 0/337 [00:00<?, ?it/s]"
      ]
     },
     "metadata": {},
     "output_type": "display_data"
    },
    {
     "data": {
      "application/vnd.jupyter.widget-view+json": {
       "model_id": "835126cddade4a048ed4ae6ad385ef70",
       "version_major": 2,
       "version_minor": 0
      },
      "text/plain": [
       "Evaluating:   0%|          | 0/85 [00:00<?, ?it/s]"
      ]
     },
     "metadata": {},
     "output_type": "display_data"
    },
    {
     "name": "stdout",
     "output_type": "stream",
     "text": [
      "Train Loss: 0.2976 | Train AUC: 0.8928\n",
      "Val Loss:   0.2599 | Val AUC:   0.9290\n",
      "Val AUC улучшился (0.9199 -> 0.9290). Сохраняем...\n",
      "\n",
      "--- Эпоха 4 (CNN+Emb) ---\n",
      "LR: 0.001000\n"
     ]
    },
    {
     "data": {
      "application/vnd.jupyter.widget-view+json": {
       "model_id": "5d30d49dacc740eb8e682b06823f3a68",
       "version_major": 2,
       "version_minor": 0
      },
      "text/plain": [
       "Training:   0%|          | 0/337 [00:00<?, ?it/s]"
      ]
     },
     "metadata": {},
     "output_type": "display_data"
    },
    {
     "data": {
      "application/vnd.jupyter.widget-view+json": {
       "model_id": "284f2afd286040a8a7600d0cee5216bf",
       "version_major": 2,
       "version_minor": 0
      },
      "text/plain": [
       "Evaluating:   0%|          | 0/85 [00:00<?, ?it/s]"
      ]
     },
     "metadata": {},
     "output_type": "display_data"
    },
    {
     "name": "stdout",
     "output_type": "stream",
     "text": [
      "Train Loss: 0.2695 | Train AUC: 0.9075\n",
      "Val Loss:   0.2635 | Val AUC:   0.9319\n",
      "Val AUC улучшился (0.9290 -> 0.9319). Сохраняем...\n",
      "\n",
      "--- Эпоха 5 (CNN+Emb) ---\n",
      "LR: 0.001000\n"
     ]
    },
    {
     "data": {
      "application/vnd.jupyter.widget-view+json": {
       "model_id": "6ef7911ecf064539bc07c27981dfdaa3",
       "version_major": 2,
       "version_minor": 0
      },
      "text/plain": [
       "Training:   0%|          | 0/337 [00:00<?, ?it/s]"
      ]
     },
     "metadata": {},
     "output_type": "display_data"
    },
    {
     "data": {
      "application/vnd.jupyter.widget-view+json": {
       "model_id": "2cdce39359024f98877c471f7ff534e8",
       "version_major": 2,
       "version_minor": 0
      },
      "text/plain": [
       "Evaluating:   0%|          | 0/85 [00:00<?, ?it/s]"
      ]
     },
     "metadata": {},
     "output_type": "display_data"
    },
    {
     "name": "stdout",
     "output_type": "stream",
     "text": [
      "Train Loss: 0.2495 | Train AUC: 0.9162\n",
      "Val Loss:   0.2527 | Val AUC:   0.9349\n",
      "Val AUC улучшился (0.9319 -> 0.9349). Сохраняем...\n",
      "\n",
      "--- Эпоха 6 (CNN+Emb) ---\n",
      "LR: 0.001000\n"
     ]
    },
    {
     "data": {
      "application/vnd.jupyter.widget-view+json": {
       "model_id": "67ac7eff1dfd4dd99aa5f78aab904889",
       "version_major": 2,
       "version_minor": 0
      },
      "text/plain": [
       "Training:   0%|          | 0/337 [00:00<?, ?it/s]"
      ]
     },
     "metadata": {},
     "output_type": "display_data"
    },
    {
     "data": {
      "application/vnd.jupyter.widget-view+json": {
       "model_id": "4aacfaf8a1624225a4260e9159a483ec",
       "version_major": 2,
       "version_minor": 0
      },
      "text/plain": [
       "Evaluating:   0%|          | 0/85 [00:00<?, ?it/s]"
      ]
     },
     "metadata": {},
     "output_type": "display_data"
    },
    {
     "name": "stdout",
     "output_type": "stream",
     "text": [
      "Train Loss: 0.2327 | Train AUC: 0.9229\n",
      "Val Loss:   0.2554 | Val AUC:   0.9363\n",
      "Val AUC улучшился (0.9349 -> 0.9363). Сохраняем...\n",
      "\n",
      "--- Эпоха 7 (CNN+Emb) ---\n",
      "LR: 0.001000\n"
     ]
    },
    {
     "data": {
      "application/vnd.jupyter.widget-view+json": {
       "model_id": "1f1c7456f7d24ac5ab7662df828c2066",
       "version_major": 2,
       "version_minor": 0
      },
      "text/plain": [
       "Training:   0%|          | 0/337 [00:00<?, ?it/s]"
      ]
     },
     "metadata": {},
     "output_type": "display_data"
    },
    {
     "data": {
      "application/vnd.jupyter.widget-view+json": {
       "model_id": "97c853d1ffce4f6090c36b8cd2a0bc9e",
       "version_major": 2,
       "version_minor": 0
      },
      "text/plain": [
       "Evaluating:   0%|          | 0/85 [00:00<?, ?it/s]"
      ]
     },
     "metadata": {},
     "output_type": "display_data"
    },
    {
     "name": "stdout",
     "output_type": "stream",
     "text": [
      "Train Loss: 0.2196 | Train AUC: 0.9289\n",
      "Val Loss:   0.2586 | Val AUC:   0.9374\n",
      "Val AUC улучшился (0.9363 -> 0.9374). Сохраняем...\n",
      "\n",
      "--- Эпоха 8 (CNN+Emb) ---\n",
      "LR: 0.001000\n"
     ]
    },
    {
     "data": {
      "application/vnd.jupyter.widget-view+json": {
       "model_id": "aedc2a76683f4b478b034a6bac988611",
       "version_major": 2,
       "version_minor": 0
      },
      "text/plain": [
       "Training:   0%|          | 0/337 [00:00<?, ?it/s]"
      ]
     },
     "metadata": {},
     "output_type": "display_data"
    },
    {
     "data": {
      "application/vnd.jupyter.widget-view+json": {
       "model_id": "b46e2b4a4b1b4d70bdbff085dd5b3b04",
       "version_major": 2,
       "version_minor": 0
      },
      "text/plain": [
       "Evaluating:   0%|          | 0/85 [00:00<?, ?it/s]"
      ]
     },
     "metadata": {},
     "output_type": "display_data"
    },
    {
     "name": "stdout",
     "output_type": "stream",
     "text": [
      "Train Loss: 0.2038 | Train AUC: 0.9351\n",
      "Val Loss:   0.2722 | Val AUC:   0.9392\n",
      "Val AUC улучшился (0.9374 -> 0.9392). Сохраняем...\n",
      "\n",
      "--- Эпоха 9 (CNN+Emb) ---\n",
      "LR: 0.001000\n"
     ]
    },
    {
     "data": {
      "application/vnd.jupyter.widget-view+json": {
       "model_id": "6ec141d6b90e4de993f1f7ff139f87a0",
       "version_major": 2,
       "version_minor": 0
      },
      "text/plain": [
       "Training:   0%|          | 0/337 [00:00<?, ?it/s]"
      ]
     },
     "metadata": {},
     "output_type": "display_data"
    },
    {
     "data": {
      "application/vnd.jupyter.widget-view+json": {
       "model_id": "924d05e793494461a90ce6738ff0f2e4",
       "version_major": 2,
       "version_minor": 0
      },
      "text/plain": [
       "Evaluating:   0%|          | 0/85 [00:00<?, ?it/s]"
      ]
     },
     "metadata": {},
     "output_type": "display_data"
    },
    {
     "name": "stdout",
     "output_type": "stream",
     "text": [
      "Train Loss: 0.1952 | Train AUC: 0.9398\n",
      "Val Loss:   0.2577 | Val AUC:   0.9394\n",
      "Val AUC улучшился (0.9392 -> 0.9394). Сохраняем...\n",
      "\n",
      "--- Эпоха 10 (CNN+Emb) ---\n",
      "LR: 0.001000\n"
     ]
    },
    {
     "data": {
      "application/vnd.jupyter.widget-view+json": {
       "model_id": "c1e688ce09e44076b4bd0aa742ed7be9",
       "version_major": 2,
       "version_minor": 0
      },
      "text/plain": [
       "Training:   0%|          | 0/337 [00:00<?, ?it/s]"
      ]
     },
     "metadata": {},
     "output_type": "display_data"
    },
    {
     "data": {
      "application/vnd.jupyter.widget-view+json": {
       "model_id": "f106ecacacd446ce8c4ac5a073b0569a",
       "version_major": 2,
       "version_minor": 0
      },
      "text/plain": [
       "Evaluating:   0%|          | 0/85 [00:00<?, ?it/s]"
      ]
     },
     "metadata": {},
     "output_type": "display_data"
    },
    {
     "name": "stdout",
     "output_type": "stream",
     "text": [
      "Train Loss: 0.1859 | Train AUC: 0.9437\n",
      "Val Loss:   0.2762 | Val AUC:   0.9399\n",
      "Val AUC улучшился (0.9394 -> 0.9399). Сохраняем...\n",
      "\n",
      "--- Эпоха 11 (CNN+Emb) ---\n",
      "LR: 0.001000\n"
     ]
    },
    {
     "data": {
      "application/vnd.jupyter.widget-view+json": {
       "model_id": "5746b9be3b7b4fb0aa54e7ab715afcff",
       "version_major": 2,
       "version_minor": 0
      },
      "text/plain": [
       "Training:   0%|          | 0/337 [00:00<?, ?it/s]"
      ]
     },
     "metadata": {},
     "output_type": "display_data"
    },
    {
     "data": {
      "application/vnd.jupyter.widget-view+json": {
       "model_id": "301deab3fe54492d99c3c9b0685eb193",
       "version_major": 2,
       "version_minor": 0
      },
      "text/plain": [
       "Evaluating:   0%|          | 0/85 [00:00<?, ?it/s]"
      ]
     },
     "metadata": {},
     "output_type": "display_data"
    },
    {
     "name": "stdout",
     "output_type": "stream",
     "text": [
      "Train Loss: 0.1761 | Train AUC: 0.9477\n",
      "Val Loss:   0.3088 | Val AUC:   0.9397\n",
      "\n",
      "--- Эпоха 12 (CNN+Emb) ---\n",
      "LR: 0.001000\n"
     ]
    },
    {
     "data": {
      "application/vnd.jupyter.widget-view+json": {
       "model_id": "aa256776b47f45098bc9379944543a03",
       "version_major": 2,
       "version_minor": 0
      },
      "text/plain": [
       "Training:   0%|          | 0/337 [00:00<?, ?it/s]"
      ]
     },
     "metadata": {},
     "output_type": "display_data"
    },
    {
     "data": {
      "application/vnd.jupyter.widget-view+json": {
       "model_id": "948260e149cf414ebbd2d727d4ffaafd",
       "version_major": 2,
       "version_minor": 0
      },
      "text/plain": [
       "Evaluating:   0%|          | 0/85 [00:00<?, ?it/s]"
      ]
     },
     "metadata": {},
     "output_type": "display_data"
    },
    {
     "name": "stdout",
     "output_type": "stream",
     "text": [
      "Train Loss: 0.1688 | Train AUC: 0.9514\n",
      "Val Loss:   0.3132 | Val AUC:   0.9401\n",
      "Val AUC улучшился (0.9399 -> 0.9401). Сохраняем...\n",
      "\n",
      "--- Эпоха 13 (CNN+Emb) ---\n",
      "LR: 0.001000\n"
     ]
    },
    {
     "data": {
      "application/vnd.jupyter.widget-view+json": {
       "model_id": "08403a0afaaf4e41a9e078ca6626e3be",
       "version_major": 2,
       "version_minor": 0
      },
      "text/plain": [
       "Training:   0%|          | 0/337 [00:00<?, ?it/s]"
      ]
     },
     "metadata": {},
     "output_type": "display_data"
    },
    {
     "data": {
      "application/vnd.jupyter.widget-view+json": {
       "model_id": "42e18aec8f594882a421bdb7b7ef7953",
       "version_major": 2,
       "version_minor": 0
      },
      "text/plain": [
       "Evaluating:   0%|          | 0/85 [00:00<?, ?it/s]"
      ]
     },
     "metadata": {},
     "output_type": "display_data"
    },
    {
     "name": "stdout",
     "output_type": "stream",
     "text": [
      "Train Loss: 0.1610 | Train AUC: 0.9544\n",
      "Val Loss:   0.2965 | Val AUC:   0.9407\n",
      "Val AUC улучшился (0.9401 -> 0.9407). Сохраняем...\n",
      "\n",
      "--- Эпоха 14 (CNN+Emb) ---\n",
      "LR: 0.001000\n"
     ]
    },
    {
     "data": {
      "application/vnd.jupyter.widget-view+json": {
       "model_id": "a726cd1bc4254fd09996f06ccc8c7f42",
       "version_major": 2,
       "version_minor": 0
      },
      "text/plain": [
       "Training:   0%|          | 0/337 [00:00<?, ?it/s]"
      ]
     },
     "metadata": {},
     "output_type": "display_data"
    },
    {
     "data": {
      "application/vnd.jupyter.widget-view+json": {
       "model_id": "b45cc51c87974935b21074720411ba0f",
       "version_major": 2,
       "version_minor": 0
      },
      "text/plain": [
       "Evaluating:   0%|          | 0/85 [00:00<?, ?it/s]"
      ]
     },
     "metadata": {},
     "output_type": "display_data"
    },
    {
     "name": "stdout",
     "output_type": "stream",
     "text": [
      "Train Loss: 0.1550 | Train AUC: 0.9569\n",
      "Val Loss:   0.3186 | Val AUC:   0.9406\n",
      "\n",
      "--- Эпоха 15 (CNN+Emb) ---\n",
      "LR: 0.001000\n"
     ]
    },
    {
     "data": {
      "application/vnd.jupyter.widget-view+json": {
       "model_id": "6fabac2d01cc4e428d0cadb4439f1a24",
       "version_major": 2,
       "version_minor": 0
      },
      "text/plain": [
       "Training:   0%|          | 0/337 [00:00<?, ?it/s]"
      ]
     },
     "metadata": {},
     "output_type": "display_data"
    },
    {
     "data": {
      "application/vnd.jupyter.widget-view+json": {
       "model_id": "fba5446bdd2046bdb0232e4ac403e96f",
       "version_major": 2,
       "version_minor": 0
      },
      "text/plain": [
       "Evaluating:   0%|          | 0/85 [00:00<?, ?it/s]"
      ]
     },
     "metadata": {},
     "output_type": "display_data"
    },
    {
     "name": "stdout",
     "output_type": "stream",
     "text": [
      "Train Loss: 0.1485 | Train AUC: 0.9600\n",
      "Val Loss:   0.3159 | Val AUC:   0.9406\n",
      "\n",
      "--- Эпоха 16 (CNN+Emb) ---\n",
      "LR: 0.001000\n"
     ]
    },
    {
     "data": {
      "application/vnd.jupyter.widget-view+json": {
       "model_id": "0c774b49b35e4872b5aa7fc200b6d679",
       "version_major": 2,
       "version_minor": 0
      },
      "text/plain": [
       "Training:   0%|          | 0/337 [00:00<?, ?it/s]"
      ]
     },
     "metadata": {},
     "output_type": "display_data"
    },
    {
     "data": {
      "application/vnd.jupyter.widget-view+json": {
       "model_id": "07999dea2db046f7997991fe8ffd420e",
       "version_major": 2,
       "version_minor": 0
      },
      "text/plain": [
       "Evaluating:   0%|          | 0/85 [00:00<?, ?it/s]"
      ]
     },
     "metadata": {},
     "output_type": "display_data"
    },
    {
     "name": "stdout",
     "output_type": "stream",
     "text": [
      "Train Loss: 0.1414 | Train AUC: 0.9624\n",
      "Val Loss:   0.3721 | Val AUC:   0.9400\n",
      "Ранняя остановка на эпохе 16.\n",
      "\n",
      "Обучение CNN+Emb завершено.\n",
      "Лучшая сохраненная модель CNN+Emb имела Val AUC: 0.9407\n"
     ]
    },
    {
     "data": {
      "image/png": "[encoded data removed]",
      "text/plain": [
       "<Figure size 1800x500 with 3 Axes>"
      ]
     },
     "metadata": {},
     "output_type": "display_data"
    }
   ],
   "source": [
    "print(\"--- Этап 3 (Пайплайн 3): CNN + Trainable Emb (с взвешиванием классов) ---\")\n",
    "\n",
    "model_cnn = TextCNN(VOCAB_SIZE, CNN_EMBEDDING_DIM, N_FILTERS, FILTER_SIZES, OUTPUT_DIM, CNN_DROPOUT, PAD_IDX).to(device)\n",
    "\n",
    "print(\"Запуск обучения CNN+Emb (с взвешиванием классов)...\")\n",
    "\n",
    "num_samples_cnn = len(y_train_final)\n",
    "num_positives_per_class_cnn = np.sum(y_train_final, axis=0)\n",
    "num_negatives_per_class_cnn = num_samples_cnn - num_positives_per_class_cnn\n",
    "pos_weight_cnn_raw = num_negatives_per_class_cnn / (num_positives_per_class_cnn + 1e-6)\n",
    "\n",
    "pos_weight_cnn_clipped = np.clip(pos_weight_cnn_raw, None, MAX_POS_WEIGHT)\n",
    "pos_weight_tensor_cnn = torch.tensor(pos_weight_cnn_clipped, dtype=torch.float32).to(device)\n",
    "print(f\"ОГРАНИЧЕННЫЕ pos_weight для CNN: {pos_weight_tensor_cnn}\")\n",
    "\n",
    "criterion_cnn = nn.BCEWithLogitsLoss(pos_weight=pos_weight_tensor_cnn).to(device)\n",
    "\n",
    "optimizer_cnn = optim.AdamW(model_cnn.parameters(), lr=1e-3, weight_decay=1e-5)\n",
    "scheduler_cnn = ReduceLROnPlateau(optimizer_cnn, mode='max', factor=0.2, patience=2, threshold=0.0001, threshold_mode='abs')\n",
    "\n",
    "best_val_auc_cnn = -1.0\n",
    "early_stopping_counter_cnn = 0\n",
    "\n",
    "train_losses_cnn, val_losses_cnn, train_aucs_cnn, val_aucs_cnn, lr_cnn = [], [], [], [], []\n",
    "\n",
    "MAX_EPOCHS_CNN = 20\n",
    "\n",
    "for epoch in range(MAX_EPOCHS_CNN):\n",
    "    print(f\"\\n--- Эпоха {epoch + 1} (CNN+Emb) ---\")\n",
    "    lr_cnn.append(optimizer_cnn.param_groups[0]['lr'])\n",
    "    print(f\"LR: {lr_cnn[-1]:.6f}\")\n",
    "\n",
    "    train_loss, train_auc = train_loop(model_cnn, train_seq_loader, criterion_cnn, optimizer_cnn, device, is_rnn_or_cnn='cnn')\n",
    "    val_loss, val_auc = evaluate_loop(model_cnn, val_seq_loader, criterion_cnn, device, is_rnn_or_cnn='cnn')\n",
    "    \n",
    "    train_losses_cnn.append(train_loss)\n",
    "    val_losses_cnn.append(val_loss)\n",
    "    train_aucs_cnn.append(train_auc)\n",
    "    val_aucs_cnn.append(val_auc)\n",
    "\n",
    "    print(f\"Train Loss: {train_loss:.4f} | Train AUC: {train_auc:.4f}\")\n",
    "    print(f\"Val Loss:   {val_loss:.4f} | Val AUC:   {val_auc:.4f}\")\n",
    "\n",
    "    scheduler_cnn.step(val_auc)\n",
    "\n",
    "    if val_auc > best_val_auc_cnn:\n",
    "        print(f\"Val AUC улучшился ({best_val_auc_cnn:.4f} -> {val_auc:.4f}). Сохраняем...\")\n",
    "        best_val_auc_cnn = val_auc\n",
    "        torch.save(model_cnn.state_dict(), MODEL_PATHS[\"cnn_emb\"])\n",
    "        early_stopping_counter_cnn = 0\n",
    "    else:\n",
    "        early_stopping_counter_cnn += 1\n",
    "\n",
    "    # Альтернативная ранняя остановка по Val Loss\n",
    "    # if val_loss < best_val_loss_cnn - 0.0001: # Считаем улучшением, если лосс упал хотя бы на немного\n",
    "    #     print(f\"Val Loss улучшился ({best_val_loss_cnn:.4f} -> {val_loss:.4f}). Val AUC: {val_auc:.4f}. Сохраняем...\")\n",
    "    #     best_val_loss_cnn = val_loss\n",
    "    #     best_val_auc_at_best_loss_cnn = val_auc\n",
    "    #     torch.save(model_cnn.state_dict(), MODEL_PATHS[\"cnn_emb\"])\n",
    "    #     early_stopping_counter_cnn = 0\n",
    "    # else:\n",
    "    #     early_stopping_counter_cnn += 1\n",
    "    #     print(f\"Val Loss не улучшился или улучшился незначительно. Счетчик ранней остановки: {early_stopping_counter_cnn}.\")\n",
    "\n",
    "\n",
    "    if early_stopping_counter_cnn >= EARLY_STOPPING_PATIENCE:\n",
    "        print(f\"Ранняя остановка на эпохе {epoch + 1}.\")\n",
    "        # if best_val_auc_at_best_loss_cnn != -1.0: # Если останавливались по лоссу\n",
    "        #     print(f\"Лучший Val AUC, достигнутый при лучшем Val Loss ({best_val_loss_cnn:.4f}), был: {best_val_auc_at_best_loss_cnn:.4f}\")\n",
    "        break\n",
    "\n",
    "print(\"\\nОбучение CNN+Emb завершено.\")\n",
    "if best_val_auc_cnn != -1.0:\n",
    "     print(f\"Лучшая сохраненная модель CNN+Emb имела Val AUC: {best_val_auc_cnn:.4f}\")\n",
    "\n",
    "plt.figure(figsize=(18, 5))\n",
    "plt.subplot(1, 3, 1)\n",
    "plt.plot(train_losses_cnn, label='Train Loss')\n",
    "plt.plot(val_losses_cnn, label='Validation Loss')\n",
    "plt.title('Потери (CNN+Emb)')\n",
    "plt.xlabel('Эпоха')\n",
    "plt.ylabel('Потеря')\n",
    "plt.legend()\n",
    "plt.grid(True)\n",
    "\n",
    "plt.subplot(1, 3, 2)\n",
    "plt.plot(train_aucs_cnn, label='Train AUC')\n",
    "plt.plot(val_aucs_cnn, label='Validation AUC')\n",
    "plt.title('AUC ROC (CNN+Emb)')\n",
    "plt.xlabel('Эпоха')\n",
    "plt.ylabel('AUC')\n",
    "plt.legend()\n",
    "plt.grid(True)\n",
    "\n",
    "plt.subplot(1, 3, 3)\n",
    "plt.plot(lr_cnn, label='Learning Rate', marker='o')\n",
    "plt.title('Learning Rate (CNN+Emb)')\n",
    "plt.xlabel('Эпоха')\n",
    "plt.ylabel('LR'); plt.yscale('log')\n",
    "plt.legend()\n",
    "plt.grid(True)\n",
    "\n",
    "plt.tight_layout()\n",
    "plt.show()"
   ]
  },
  {
   "cell_type": "markdown",
   "metadata": {},
   "source": [
    "## LSTM + Trainable Emb"
   ]
  },
  {
   "cell_type": "code",
   "execution_count": 13,
   "metadata": {},
   "outputs": [
    {
     "name": "stdout",
     "output_type": "stream",
     "text": [
      "Запуск обучения LSTM+TrainableEmb...\n",
      "\n",
      "--- Эпоха 1 (LSTM+TrainableEmb) ---\n",
      "LR: 0.001000\n"
     ]
    },
    {
     "data": {
      "application/vnd.jupyter.widget-view+json": {
       "model_id": "2681c7c4a20849da87359f373cd90d9b",
       "version_major": 2,
       "version_minor": 0
      },
      "text/plain": [
       "Training:   0%|          | 0/337 [00:00<?, ?it/s]"
      ]
     },
     "metadata": {},
     "output_type": "display_data"
    },
    {
     "data": {
      "application/vnd.jupyter.widget-view+json": {
       "model_id": "207e5512407d4407a176f6896611c96f",
       "version_major": 2,
       "version_minor": 0
      },
      "text/plain": [
       "Evaluating:   0%|          | 0/85 [00:00<?, ?it/s]"
      ]
     },
     "metadata": {},
     "output_type": "display_data"
    },
    {
     "name": "stdout",
     "output_type": "stream",
     "text": [
      "Train Loss: 0.3476 | Train AUC: 0.8154\n",
      "Val Loss:   0.2688 | Val AUC:   0.8999\n",
      "Val AUC улучшился (-1.0000 -> 0.8999). Сохраняем...\n",
      "\n",
      "--- Эпоха 2 (LSTM+TrainableEmb) ---\n",
      "LR: 0.001000\n"
     ]
    },
    {
     "data": {
      "application/vnd.jupyter.widget-view+json": {
       "model_id": "2e2f311d236d4482bcd0f9f14d61ebad",
       "version_major": 2,
       "version_minor": 0
      },
      "text/plain": [
       "Training:   0%|          | 0/337 [00:00<?, ?it/s]"
      ]
     },
     "metadata": {},
     "output_type": "display_data"
    },
    {
     "data": {
      "application/vnd.jupyter.widget-view+json": {
       "model_id": "8ab8036f9b8448219f35258fceda40e0",
       "version_major": 2,
       "version_minor": 0
      },
      "text/plain": [
       "Evaluating:   0%|          | 0/85 [00:00<?, ?it/s]"
      ]
     },
     "metadata": {},
     "output_type": "display_data"
    },
    {
     "name": "stdout",
     "output_type": "stream",
     "text": [
      "Train Loss: 0.2491 | Train AUC: 0.9046\n",
      "Val Loss:   0.2349 | Val AUC:   0.9180\n",
      "Val AUC улучшился (0.8999 -> 0.9180). Сохраняем...\n",
      "\n",
      "--- Эпоха 3 (LSTM+TrainableEmb) ---\n",
      "LR: 0.001000\n"
     ]
    },
    {
     "data": {
      "application/vnd.jupyter.widget-view+json": {
       "model_id": "1251783019a046cb86c9a72a2d1b1b64",
       "version_major": 2,
       "version_minor": 0
      },
      "text/plain": [
       "Training:   0%|          | 0/337 [00:00<?, ?it/s]"
      ]
     },
     "metadata": {},
     "output_type": "display_data"
    },
    {
     "data": {
      "application/vnd.jupyter.widget-view+json": {
       "model_id": "2a2576a2f3f64d8ea6e4e02d56c6d7a7",
       "version_major": 2,
       "version_minor": 0
      },
      "text/plain": [
       "Evaluating:   0%|          | 0/85 [00:00<?, ?it/s]"
      ]
     },
     "metadata": {},
     "output_type": "display_data"
    },
    {
     "name": "stdout",
     "output_type": "stream",
     "text": [
      "Train Loss: 0.2237 | Train AUC: 0.9228\n",
      "Val Loss:   0.2217 | Val AUC:   0.9276\n",
      "Val AUC улучшился (0.9180 -> 0.9276). Сохраняем...\n",
      "\n",
      "--- Эпоха 4 (LSTM+TrainableEmb) ---\n",
      "LR: 0.001000\n"
     ]
    },
    {
     "data": {
      "application/vnd.jupyter.widget-view+json": {
       "model_id": "0c01194878a14c36b60370e96dd8f6e3",
       "version_major": 2,
       "version_minor": 0
      },
      "text/plain": [
       "Training:   0%|          | 0/337 [00:00<?, ?it/s]"
      ]
     },
     "metadata": {},
     "output_type": "display_data"
    },
    {
     "data": {
      "application/vnd.jupyter.widget-view+json": {
       "model_id": "56c941d2361e4cafad7aa71bb5ec9b2d",
       "version_major": 2,
       "version_minor": 0
      },
      "text/plain": [
       "Evaluating:   0%|          | 0/85 [00:00<?, ?it/s]"
      ]
     },
     "metadata": {},
     "output_type": "display_data"
    },
    {
     "name": "stdout",
     "output_type": "stream",
     "text": [
      "Train Loss: 0.1997 | Train AUC: 0.9388\n",
      "Val Loss:   0.2151 | Val AUC:   0.9321\n",
      "Val AUC улучшился (0.9276 -> 0.9321). Сохраняем...\n",
      "\n",
      "--- Эпоха 5 (LSTM+TrainableEmb) ---\n",
      "LR: 0.001000\n"
     ]
    },
    {
     "data": {
      "application/vnd.jupyter.widget-view+json": {
       "model_id": "ce0c904eacac4297bc06d56effcc37c4",
       "version_major": 2,
       "version_minor": 0
      },
      "text/plain": [
       "Training:   0%|          | 0/337 [00:00<?, ?it/s]"
      ]
     },
     "metadata": {},
     "output_type": "display_data"
    },
    {
     "data": {
      "application/vnd.jupyter.widget-view+json": {
       "model_id": "c908f5b075aa4b6883827e1b0181dc7c",
       "version_major": 2,
       "version_minor": 0
      },
      "text/plain": [
       "Evaluating:   0%|          | 0/85 [00:00<?, ?it/s]"
      ]
     },
     "metadata": {},
     "output_type": "display_data"
    },
    {
     "name": "stdout",
     "output_type": "stream",
     "text": [
      "Train Loss: 0.1798 | Train AUC: 0.9492\n",
      "Val Loss:   0.2057 | Val AUC:   0.9371\n",
      "Val AUC улучшился (0.9321 -> 0.9371). Сохраняем...\n",
      "\n",
      "--- Эпоха 6 (LSTM+TrainableEmb) ---\n",
      "LR: 0.001000\n"
     ]
    },
    {
     "data": {
      "application/vnd.jupyter.widget-view+json": {
       "model_id": "819c513e735c49ca8789dc1268cfd31a",
       "version_major": 2,
       "version_minor": 0
      },
      "text/plain": [
       "Training:   0%|          | 0/337 [00:00<?, ?it/s]"
      ]
     },
     "metadata": {},
     "output_type": "display_data"
    },
    {
     "data": {
      "application/vnd.jupyter.widget-view+json": {
       "model_id": "556dff3ea13648cca130992c8ac15659",
       "version_major": 2,
       "version_minor": 0
      },
      "text/plain": [
       "Evaluating:   0%|          | 0/85 [00:00<?, ?it/s]"
      ]
     },
     "metadata": {},
     "output_type": "display_data"
    },
    {
     "name": "stdout",
     "output_type": "stream",
     "text": [
      "Train Loss: 0.1621 | Train AUC: 0.9583\n",
      "Val Loss:   0.2054 | Val AUC:   0.9397\n",
      "Val AUC улучшился (0.9371 -> 0.9397). Сохраняем...\n",
      "\n",
      "--- Эпоха 7 (LSTM+TrainableEmb) ---\n",
      "LR: 0.001000\n"
     ]
    },
    {
     "data": {
      "application/vnd.jupyter.widget-view+json": {
       "model_id": "f69b985b7b754b5cb7190f2cfac709bb",
       "version_major": 2,
       "version_minor": 0
      },
      "text/plain": [
       "Training:   0%|          | 0/337 [00:00<?, ?it/s]"
      ]
     },
     "metadata": {},
     "output_type": "display_data"
    },
    {
     "data": {
      "application/vnd.jupyter.widget-view+json": {
       "model_id": "be9f2d519dab421c86d99849a8daf33a",
       "version_major": 2,
       "version_minor": 0
      },
      "text/plain": [
       "Evaluating:   0%|          | 0/85 [00:00<?, ?it/s]"
      ]
     },
     "metadata": {},
     "output_type": "display_data"
    },
    {
     "name": "stdout",
     "output_type": "stream",
     "text": [
      "Train Loss: 0.1458 | Train AUC: 0.9656\n",
      "Val Loss:   0.2051 | Val AUC:   0.9413\n",
      "Val AUC улучшился (0.9397 -> 0.9413). Сохраняем...\n",
      "\n",
      "--- Эпоха 8 (LSTM+TrainableEmb) ---\n",
      "LR: 0.001000\n"
     ]
    },
    {
     "data": {
      "application/vnd.jupyter.widget-view+json": {
       "model_id": "71cd4e76e27d4c1d9dde57f3e4e88801",
       "version_major": 2,
       "version_minor": 0
      },
      "text/plain": [
       "Training:   0%|          | 0/337 [00:00<?, ?it/s]"
      ]
     },
     "metadata": {},
     "output_type": "display_data"
    },
    {
     "data": {
      "application/vnd.jupyter.widget-view+json": {
       "model_id": "8bfb1a73a4714ab68766aebb7494f222",
       "version_major": 2,
       "version_minor": 0
      },
      "text/plain": [
       "Evaluating:   0%|          | 0/85 [00:00<?, ?it/s]"
      ]
     },
     "metadata": {},
     "output_type": "display_data"
    },
    {
     "name": "stdout",
     "output_type": "stream",
     "text": [
      "Train Loss: 0.1317 | Train AUC: 0.9709\n",
      "Val Loss:   0.2076 | Val AUC:   0.9428\n",
      "Val AUC улучшился (0.9413 -> 0.9428). Сохраняем...\n",
      "\n",
      "--- Эпоха 9 (LSTM+TrainableEmb) ---\n",
      "LR: 0.001000\n"
     ]
    },
    {
     "data": {
      "application/vnd.jupyter.widget-view+json": {
       "model_id": "6c9cecd76f354ea6b4779275da42ea6e",
       "version_major": 2,
       "version_minor": 0
      },
      "text/plain": [
       "Training:   0%|          | 0/337 [00:00<?, ?it/s]"
      ]
     },
     "metadata": {},
     "output_type": "display_data"
    },
    {
     "data": {
      "application/vnd.jupyter.widget-view+json": {
       "model_id": "e5bb6bdec06b499ea8a305cace9ff7b6",
       "version_major": 2,
       "version_minor": 0
      },
      "text/plain": [
       "Evaluating:   0%|          | 0/85 [00:00<?, ?it/s]"
      ]
     },
     "metadata": {},
     "output_type": "display_data"
    },
    {
     "name": "stdout",
     "output_type": "stream",
     "text": [
      "Train Loss: 0.1181 | Train AUC: 0.9767\n",
      "Val Loss:   0.2055 | Val AUC:   0.9442\n",
      "Val AUC улучшился (0.9428 -> 0.9442). Сохраняем...\n",
      "\n",
      "--- Эпоха 10 (LSTM+TrainableEmb) ---\n",
      "LR: 0.001000\n"
     ]
    },
    {
     "data": {
      "application/vnd.jupyter.widget-view+json": {
       "model_id": "78868a05b8784193a04f32a2619233e9",
       "version_major": 2,
       "version_minor": 0
      },
      "text/plain": [
       "Training:   0%|          | 0/337 [00:00<?, ?it/s]"
      ]
     },
     "metadata": {},
     "output_type": "display_data"
    },
    {
     "data": {
      "application/vnd.jupyter.widget-view+json": {
       "model_id": "3dd3db07f7d644baae8269414e28259f",
       "version_major": 2,
       "version_minor": 0
      },
      "text/plain": [
       "Evaluating:   0%|          | 0/85 [00:00<?, ?it/s]"
      ]
     },
     "metadata": {},
     "output_type": "display_data"
    },
    {
     "name": "stdout",
     "output_type": "stream",
     "text": [
      "Train Loss: 0.1051 | Train AUC: 0.9812\n",
      "Val Loss:   0.2118 | Val AUC:   0.9435\n",
      "\n",
      "--- Эпоха 11 (LSTM+TrainableEmb) ---\n",
      "LR: 0.001000\n"
     ]
    },
    {
     "data": {
      "application/vnd.jupyter.widget-view+json": {
       "model_id": "4d8e2ee67d7d4553aa803de0a0398542",
       "version_major": 2,
       "version_minor": 0
      },
      "text/plain": [
       "Training:   0%|          | 0/337 [00:00<?, ?it/s]"
      ]
     },
     "metadata": {},
     "output_type": "display_data"
    },
    {
     "data": {
      "application/vnd.jupyter.widget-view+json": {
       "model_id": "8bee8f5a85ea4f3aba55921dc02d2f5a",
       "version_major": 2,
       "version_minor": 0
      },
      "text/plain": [
       "Evaluating:   0%|          | 0/85 [00:00<?, ?it/s]"
      ]
     },
     "metadata": {},
     "output_type": "display_data"
    },
    {
     "name": "stdout",
     "output_type": "stream",
     "text": [
      "Train Loss: 0.0946 | Train AUC: 0.9848\n",
      "Val Loss:   0.2155 | Val AUC:   0.9445\n",
      "Val AUC улучшился (0.9442 -> 0.9445). Сохраняем...\n",
      "\n",
      "--- Эпоха 12 (LSTM+TrainableEmb) ---\n",
      "LR: 0.001000\n"
     ]
    },
    {
     "data": {
      "application/vnd.jupyter.widget-view+json": {
       "model_id": "93e7485487784d61a4a459416147e21d",
       "version_major": 2,
       "version_minor": 0
      },
      "text/plain": [
       "Training:   0%|          | 0/337 [00:00<?, ?it/s]"
      ]
     },
     "metadata": {},
     "output_type": "display_data"
    },
    {
     "data": {
      "application/vnd.jupyter.widget-view+json": {
       "model_id": "3518480f639a434ca7b58e3051e53f62",
       "version_major": 2,
       "version_minor": 0
      },
      "text/plain": [
       "Evaluating:   0%|          | 0/85 [00:00<?, ?it/s]"
      ]
     },
     "metadata": {},
     "output_type": "display_data"
    },
    {
     "name": "stdout",
     "output_type": "stream",
     "text": [
      "Train Loss: 0.0856 | Train AUC: 0.9874\n",
      "Val Loss:   0.2243 | Val AUC:   0.9434\n",
      "\n",
      "--- Эпоха 13 (LSTM+TrainableEmb) ---\n",
      "LR: 0.001000\n"
     ]
    },
    {
     "data": {
      "application/vnd.jupyter.widget-view+json": {
       "model_id": "8a1adf4922414e14bdaf530f90e0f957",
       "version_major": 2,
       "version_minor": 0
      },
      "text/plain": [
       "Training:   0%|          | 0/337 [00:00<?, ?it/s]"
      ]
     },
     "metadata": {},
     "output_type": "display_data"
    },
    {
     "data": {
      "application/vnd.jupyter.widget-view+json": {
       "model_id": "91f6aba0744a48d4a70f56ad140312c7",
       "version_major": 2,
       "version_minor": 0
      },
      "text/plain": [
       "Evaluating:   0%|          | 0/85 [00:00<?, ?it/s]"
      ]
     },
     "metadata": {},
     "output_type": "display_data"
    },
    {
     "name": "stdout",
     "output_type": "stream",
     "text": [
      "Train Loss: 0.0776 | Train AUC: 0.9899\n",
      "Val Loss:   0.2352 | Val AUC:   0.9431\n",
      "\n",
      "--- Эпоха 14 (LSTM+TrainableEmb) ---\n",
      "LR: 0.000200\n"
     ]
    },
    {
     "data": {
      "application/vnd.jupyter.widget-view+json": {
       "model_id": "9fb247aebc8c4f929a5d5d155ab769d6",
       "version_major": 2,
       "version_minor": 0
      },
      "text/plain": [
       "Training:   0%|          | 0/337 [00:00<?, ?it/s]"
      ]
     },
     "metadata": {},
     "output_type": "display_data"
    },
    {
     "data": {
      "application/vnd.jupyter.widget-view+json": {
       "model_id": "6ad358fd84a04ce8b747afda166687ac",
       "version_major": 2,
       "version_minor": 0
      },
      "text/plain": [
       "Evaluating:   0%|          | 0/85 [00:00<?, ?it/s]"
      ]
     },
     "metadata": {},
     "output_type": "display_data"
    },
    {
     "name": "stdout",
     "output_type": "stream",
     "text": [
      "Train Loss: 0.0630 | Train AUC: 0.9936\n",
      "Val Loss:   0.2339 | Val AUC:   0.9442\n",
      "Ранняя остановка на эпохе 14.\n"
     ]
    },
    {
     "data": {
      "image/png": "[encoded data removed]",
      "text/plain": [
       "<Figure size 1000x500 with 1 Axes>"
      ]
     },
     "metadata": {},
     "output_type": "display_data"
    },
    {
     "name": "stdout",
     "output_type": "stream",
     "text": [
      "\n",
      "Обучение LSTM+TrainableEmb завершено.\n"
     ]
    }
   ],
   "source": [
    "model_rnn_te = LSTMClassifierTrainableEmb(VOCAB_SIZE, RNN_TE_EMBEDDING_DIM, RNN_TE_HIDDEN_DIM, \n",
    "                                           OUTPUT_DIM, RNN_TE_LAYERS, RNN_TE_BIDIRECTIONAL, \n",
    "                                           RNN_TE_DROPOUT, PAD_IDX).to(device)\n",
    "\n",
    "# Обучение\n",
    "print(\"Запуск обучения LSTM+TrainableEmb...\")\n",
    "criterion_rnn_te = nn.BCEWithLogitsLoss().to(device)\n",
    "optimizer_rnn_te = optim.AdamW(model_rnn_te.parameters(), lr=1e-3)\n",
    "scheduler_rnn_te = ReduceLROnPlateau(optimizer_rnn_te, mode='max', factor=0.2, patience=1)\n",
    "\n",
    "best_val_auc_rnn_te = -1.0\n",
    "early_stopping_counter_rnn_te = 0\n",
    "train_losses_rnn_te, val_losses_rnn_te, train_aucs_rnn_te, val_aucs_rnn_te, lr_rnn_te = [], [], [], [], []\n",
    "\n",
    "for epoch in range(20): \n",
    "    print(f\"\\n--- Эпоха {epoch + 1} (LSTM+TrainableEmb) ---\")\n",
    "    lr_rnn_te.append(optimizer_rnn_te.param_groups[0]['lr'])\n",
    "    print(f\"LR: {lr_rnn_te[-1]:.6f}\")\n",
    "\n",
    "    train_loss, train_auc = train_loop(model_rnn_te, train_seq_loader, criterion_rnn_te, optimizer_rnn_te, device, is_rnn_or_cnn='rnn')\n",
    "    val_loss, val_auc = evaluate_loop(model_rnn_te, val_seq_loader, criterion_rnn_te, device, is_rnn_or_cnn='rnn')\n",
    "    train_losses_rnn_te.append(train_loss)\n",
    "    val_losses_rnn_te.append(val_loss)\n",
    "    train_aucs_rnn_te.append(train_auc)\n",
    "    val_aucs_rnn_te.append(val_auc)\n",
    "\n",
    "    print(f\"Train Loss: {train_loss:.4f} | Train AUC: {train_auc:.4f}\")\n",
    "    print(f\"Val Loss:   {val_loss:.4f} | Val AUC:   {val_auc:.4f}\")\n",
    "\n",
    "    scheduler_rnn_te.step(val_auc)\n",
    "    if val_auc > best_val_auc_rnn_te:\n",
    "        print(f\"Val AUC улучшился ({best_val_auc_rnn_te:.4f} -> {val_auc:.4f}). Сохраняем...\")\n",
    "        best_val_auc_rnn_te = val_auc\n",
    "        torch.save(model_rnn_te.state_dict(), MODEL_PATHS[\"rnn_emb\"])\n",
    "        early_stopping_counter_rnn_te = 0\n",
    "    else:\n",
    "        early_stopping_counter_rnn_te += 1\n",
    "\n",
    "    if early_stopping_counter_rnn_te >= EARLY_STOPPING_PATIENCE:\n",
    "        print(f\"Ранняя остановка на эпохе {epoch + 1}.\")\n",
    "        break\n",
    "\n",
    "# График потерь\n",
    "plt.figure(figsize=(10, 5))\n",
    "plt.plot(train_losses_rnn_te, label='Train Loss')\n",
    "plt.plot(val_losses_rnn_te, label='Validation Loss')\n",
    "plt.title('Потери во время обучения LSTM+TrainableEmb')\n",
    "plt.xlabel('Эпоха')\n",
    "plt.ylabel('Потеря')\n",
    "plt.legend()\n",
    "plt.grid()\n",
    "plt.show()\n",
    "\n",
    "print(\"\\nОбучение LSTM+TrainableEmb завершено.\")"
   ]
  },
  {
   "cell_type": "markdown",
   "metadata": {},
   "source": [
    "## cointegrated/rubert-tiny2 (BERT)"
   ]
  },
  {
   "cell_type": "code",
   "execution_count": 17,
   "metadata": {},
   "outputs": [
    {
     "name": "stdout",
     "output_type": "stream",
     "text": [
      "Загрузка токенизатора и модели: cointegrated/rubert-tiny2\n"
     ]
    },
    {
     "name": "stderr",
     "output_type": "stream",
     "text": [
      "Some weights of BertForSequenceClassification were not initialized from the model checkpoint at cointegrated/rubert-tiny2 and are newly initialized: ['classifier.bias', 'classifier.weight']\n",
      "You should probably TRAIN this model on a down-stream task to be able to use it for predictions and inference.\n"
     ]
    },
    {
     "name": "stdout",
     "output_type": "stream",
     "text": [
      "Модель и токенизатор BERT загружены.\n",
      "Подготовка HF Datasets и токенизация...\n"
     ]
    },
    {
     "data": {
      "application/vnd.jupyter.widget-view+json": {
       "model_id": "19cb4fce6ea04f34b4b92802edcdd485",
       "version_major": 2,
       "version_minor": 0
      },
      "text/plain": [
       "Map:   0%|          | 0/21545 [00:00<?, ? examples/s]"
      ]
     },
     "metadata": {},
     "output_type": "display_data"
    },
    {
     "data": {
      "application/vnd.jupyter.widget-view+json": {
       "model_id": "8c299f8c0ad94ab8956072115bb05756",
       "version_major": 2,
       "version_minor": 0
      },
      "text/plain": [
       "Map:   0%|          | 0/5422 [00:00<?, ? examples/s]"
      ]
     },
     "metadata": {},
     "output_type": "display_data"
    },
    {
     "name": "stdout",
     "output_type": "stream",
     "text": [
      "Данные для BERT готовы.\n",
      "Настройка Trainer...\n",
      "Шаг логирования для rubert-tiny2: 134\n",
      "trainer_tiny создан.\n"
     ]
    }
   ],
   "source": [
    "# 1. Модель и токенизатор\n",
    "print(f\"Загрузка токенизатора и модели: {MODEL_NAME_BERT_TINY}\")\n",
    "\n",
    "tokenizer = AutoTokenizer.from_pretrained(MODEL_NAME_BERT_TINY)\n",
    "model_bert = AutoModelForSequenceClassification.from_pretrained(\n",
    "    MODEL_NAME_BERT_TINY,\n",
    "    num_labels=OUTPUT_DIM,\n",
    "    problem_type=\"multi_label_classification\"\n",
    ").to(device)\n",
    "\n",
    "TOKENIZER_LOADED = True\n",
    "MODEL_LOADED = True\n",
    "print(\"Модель и токенизатор BERT загружены.\")\n",
    "\n",
    "# 2. Подготовка данных\n",
    "print(\"Подготовка HF Datasets и токенизация...\")\n",
    "TEXT_COLUMN = 'text_cleaned_bert'\n",
    "\n",
    "def tokenize_function(examples):\n",
    "    return tokenizer(examples[TEXT_COLUMN], padding=\"max_length\", truncation=True, max_length=BERT_MAX_LEN)\n",
    "\n",
    "train_labels_float = [list(map(float, row)) for row in y_train_final]\n",
    "val_labels_float = [list(map(float, row)) for row in y_val_final]\n",
    "\n",
    "train_dict = {\n",
    "    'id': train_split_df['id'].tolist(),\n",
    "    TEXT_COLUMN: train_split_df[TEXT_COLUMN].tolist(),\n",
    "    'labels': train_labels_float\n",
    "}\n",
    "\n",
    "val_dict = {\n",
    "    'id': val_split_df['id'].tolist(),\n",
    "    TEXT_COLUMN: val_split_df[TEXT_COLUMN].tolist(),\n",
    "    'labels': val_labels_float\n",
    "}\n",
    "\n",
    "hg_train_dataset = HFDataset.from_dict(train_dict)\n",
    "hg_val_dataset = HFDataset.from_dict(val_dict)\n",
    "\n",
    "tokenized_train_dataset = hg_train_dataset.map(tokenize_function, batched=True, remove_columns=[TEXT_COLUMN, \"id\"])\n",
    "tokenized_val_dataset = hg_val_dataset.map(tokenize_function, batched=True, remove_columns=[TEXT_COLUMN, \"id\"])\n",
    "\n",
    "tokenized_train_dataset.set_format(\"torch\")\n",
    "tokenized_val_dataset.set_format(\"torch\")\n",
    "BERT_DATA_READY = True\n",
    "print(\"Данные для BERT готовы.\")\n",
    "\n",
    "# 3. Настройка Trainer\n",
    "print(\"Настройка Trainer...\")\n",
    "\n",
    "if len(tokenized_train_dataset) > 0 and BERT_TINY_BATCH_SIZE > 0: # <--- ИЗМЕНЕНО\n",
    "    steps_per_epoch = math.ceil(len(tokenized_train_dataset) / BERT_TINY_BATCH_SIZE) # <--- ИЗМЕНЕНО\n",
    "    logging_steps = max(1, steps_per_epoch // 10)\n",
    "else:\n",
    "    logging_steps = 50\n",
    "print(f\"Шаг логирования для rubert-tiny2: {logging_steps}\")\n",
    "\n",
    "training_args_tiny = TrainingArguments(\n",
    "    output_dir=OUTPUT_DIR_BERT_TINY,\n",
    "    num_train_epochs=BERT_TINY_EPOCHS,\n",
    "    per_device_train_batch_size=BERT_TINY_BATCH_SIZE,\n",
    "    learning_rate=BERT_TINY_LR,\n",
    "    weight_decay=0.01,\n",
    "    logging_dir=f\"{OUTPUT_DIR_BERT_TINY}/logs\",\n",
    "    logging_steps=logging_steps,\n",
    "    report_to=\"none\",\n",
    "    dataloader_num_workers=0,\n",
    ")\n",
    "\n",
    "trainer_tiny = Trainer(\n",
    "    model=model_bert,\n",
    "    args=training_args_tiny,\n",
    "    train_dataset=tokenized_train_dataset,\n",
    "    eval_dataset=tokenized_val_dataset,\n",
    "    compute_metrics=compute_metrics,\n",
    ")\n",
    "print(\"trainer_tiny создан.\")"
   ]
  },
  {
   "cell_type": "code",
   "execution_count": 18,
   "metadata": {},
   "outputs": [
    {
     "name": "stdout",
     "output_type": "stream",
     "text": [
      "Запуск обучения BERT...\n"
     ]
    },
    {
     "data": {
      "text/html": [
       "\n",
       "    <div>\n",
       "      \n",
       "      <progress value='6735' max='6735' style='width:300px; height:20px; vertical-align: middle;'></progress>\n",
       "      [6735/6735 17:00, Epoch 5/5]\n",
       "    </div>\n",
       "    <table border=\"1\" class=\"dataframe\">\n",
       "  <thead>\n",
       " <tr style=\"text-align: left;\">\n",
       "      <th>Step</th>\n",
       "      <th>Training Loss</th>\n",
       "    </tr>\n",
       "  </thead>\n",
       "  <tbody>\n",
       "    <tr>\n",
       "      <td>134</td>\n",
       "      <td>0.576600</td>\n",
       "    </tr>\n",
       "    <tr>\n",
       "      <td>268</td>\n",
       "      <td>0.441600</td>\n",
       "    </tr>\n",
       "    <tr>\n",
       "      <td>402</td>\n",
       "      <td>0.381000</td>\n",
       "    </tr>\n",
       "    <tr>\n",
       "      <td>536</td>\n",
       "      <td>0.356000</td>\n",
       "    </tr>\n",
       "    <tr>\n",
       "      <td>670</td>\n",
       "      <td>0.336200</td>\n",
       "    </tr>\n",
       "    <tr>\n",
       "      <td>804</td>\n",
       "      <td>0.334600</td>\n",
       "    </tr>\n",
       "    <tr>\n",
       "      <td>938</td>\n",
       "      <td>0.325800</td>\n",
       "    </tr>\n",
       "    <tr>\n",
       "      <td>1072</td>\n",
       "      <td>0.307900</td>\n",
       "    </tr>\n",
       "    <tr>\n",
       "      <td>1206</td>\n",
       "      <td>0.299700</td>\n",
       "    </tr>\n",
       "    <tr>\n",
       "      <td>1340</td>\n",
       "      <td>0.296000</td>\n",
       "    </tr>\n",
       "    <tr>\n",
       "      <td>1474</td>\n",
       "      <td>0.284300</td>\n",
       "    </tr>\n",
       "    <tr>\n",
       "      <td>1608</td>\n",
       "      <td>0.282500</td>\n",
       "    </tr>\n",
       "    <tr>\n",
       "      <td>1742</td>\n",
       "      <td>0.277800</td>\n",
       "    </tr>\n",
       "    <tr>\n",
       "      <td>1876</td>\n",
       "      <td>0.272900</td>\n",
       "    </tr>\n",
       "    <tr>\n",
       "      <td>2010</td>\n",
       "      <td>0.271800</td>\n",
       "    </tr>\n",
       "    <tr>\n",
       "      <td>2144</td>\n",
       "      <td>0.268300</td>\n",
       "    </tr>\n",
       "    <tr>\n",
       "      <td>2278</td>\n",
       "      <td>0.261600</td>\n",
       "    </tr>\n",
       "    <tr>\n",
       "      <td>2412</td>\n",
       "      <td>0.260000</td>\n",
       "    </tr>\n",
       "    <tr>\n",
       "      <td>2546</td>\n",
       "      <td>0.258300</td>\n",
       "    </tr>\n",
       "    <tr>\n",
       "      <td>2680</td>\n",
       "      <td>0.256800</td>\n",
       "    </tr>\n",
       "    <tr>\n",
       "      <td>2814</td>\n",
       "      <td>0.252600</td>\n",
       "    </tr>\n",
       "    <tr>\n",
       "      <td>2948</td>\n",
       "      <td>0.250800</td>\n",
       "    </tr>\n",
       "    <tr>\n",
       "      <td>3082</td>\n",
       "      <td>0.248400</td>\n",
       "    </tr>\n",
       "    <tr>\n",
       "      <td>3216</td>\n",
       "      <td>0.247800</td>\n",
       "    </tr>\n",
       "    <tr>\n",
       "      <td>3350</td>\n",
       "      <td>0.245800</td>\n",
       "    </tr>\n",
       "    <tr>\n",
       "      <td>3484</td>\n",
       "      <td>0.247200</td>\n",
       "    </tr>\n",
       "    <tr>\n",
       "      <td>3618</td>\n",
       "      <td>0.243300</td>\n",
       "    </tr>\n",
       "    <tr>\n",
       "      <td>3752</td>\n",
       "      <td>0.241000</td>\n",
       "    </tr>\n",
       "    <tr>\n",
       "      <td>3886</td>\n",
       "      <td>0.240800</td>\n",
       "    </tr>\n",
       "    <tr>\n",
       "      <td>4020</td>\n",
       "      <td>0.234700</td>\n",
       "    </tr>\n",
       "    <tr>\n",
       "      <td>4154</td>\n",
       "      <td>0.234400</td>\n",
       "    </tr>\n",
       "    <tr>\n",
       "      <td>4288</td>\n",
       "      <td>0.239100</td>\n",
       "    </tr>\n",
       "    <tr>\n",
       "      <td>4422</td>\n",
       "      <td>0.233500</td>\n",
       "    </tr>\n",
       "    <tr>\n",
       "      <td>4556</td>\n",
       "      <td>0.235100</td>\n",
       "    </tr>\n",
       "    <tr>\n",
       "      <td>4690</td>\n",
       "      <td>0.231800</td>\n",
       "    </tr>\n",
       "    <tr>\n",
       "      <td>4824</td>\n",
       "      <td>0.233600</td>\n",
       "    </tr>\n",
       "    <tr>\n",
       "      <td>4958</td>\n",
       "      <td>0.233400</td>\n",
       "    </tr>\n",
       "    <tr>\n",
       "      <td>5092</td>\n",
       "      <td>0.230500</td>\n",
       "    </tr>\n",
       "    <tr>\n",
       "      <td>5226</td>\n",
       "      <td>0.234300</td>\n",
       "    </tr>\n",
       "    <tr>\n",
       "      <td>5360</td>\n",
       "      <td>0.230000</td>\n",
       "    </tr>\n",
       "    <tr>\n",
       "      <td>5494</td>\n",
       "      <td>0.225800</td>\n",
       "    </tr>\n",
       "    <tr>\n",
       "      <td>5628</td>\n",
       "      <td>0.228300</td>\n",
       "    </tr>\n",
       "    <tr>\n",
       "      <td>5762</td>\n",
       "      <td>0.229000</td>\n",
       "    </tr>\n",
       "    <tr>\n",
       "      <td>5896</td>\n",
       "      <td>0.231100</td>\n",
       "    </tr>\n",
       "    <tr>\n",
       "      <td>6030</td>\n",
       "      <td>0.231700</td>\n",
       "    </tr>\n",
       "    <tr>\n",
       "      <td>6164</td>\n",
       "      <td>0.227400</td>\n",
       "    </tr>\n",
       "    <tr>\n",
       "      <td>6298</td>\n",
       "      <td>0.225600</td>\n",
       "    </tr>\n",
       "    <tr>\n",
       "      <td>6432</td>\n",
       "      <td>0.231000</td>\n",
       "    </tr>\n",
       "    <tr>\n",
       "      <td>6566</td>\n",
       "      <td>0.224800</td>\n",
       "    </tr>\n",
       "    <tr>\n",
       "      <td>6700</td>\n",
       "      <td>0.225400</td>\n",
       "    </tr>\n",
       "  </tbody>\n",
       "</table><p>"
      ],
      "text/plain": [
       "<IPython.core.display.HTML object>"
      ]
     },
     "metadata": {},
     "output_type": "display_data"
    },
    {
     "name": "stderr",
     "output_type": "stream",
     "text": [
      "/Users/maksimlyara/miniconda3/envs/hw2_dl_env/lib/python3.10/site-packages/torch/utils/data/dataloader.py:683: UserWarning: 'pin_memory' argument is set as true but not supported on MPS now, then device pinned memory won't be used.\n",
      "  warnings.warn(warn_msg)\n",
      "/Users/maksimlyara/miniconda3/envs/hw2_dl_env/lib/python3.10/site-packages/torch/utils/data/dataloader.py:683: UserWarning: 'pin_memory' argument is set as true but not supported on MPS now, then device pinned memory won't be used.\n",
      "  warnings.warn(warn_msg)\n",
      "/Users/maksimlyara/miniconda3/envs/hw2_dl_env/lib/python3.10/site-packages/torch/utils/data/dataloader.py:683: UserWarning: 'pin_memory' argument is set as true but not supported on MPS now, then device pinned memory won't be used.\n",
      "  warnings.warn(warn_msg)\n",
      "/Users/maksimlyara/miniconda3/envs/hw2_dl_env/lib/python3.10/site-packages/torch/utils/data/dataloader.py:683: UserWarning: 'pin_memory' argument is set as true but not supported on MPS now, then device pinned memory won't be used.\n",
      "  warnings.warn(warn_msg)\n"
     ]
    },
    {
     "name": "stdout",
     "output_type": "stream",
     "text": [
      "Обучение BERT завершено.\n",
      "Оценка лучшей модели rubert-tiny2...\n"
     ]
    },
    {
     "name": "stderr",
     "output_type": "stream",
     "text": [
      "/Users/maksimlyara/miniconda3/envs/hw2_dl_env/lib/python3.10/site-packages/torch/utils/data/dataloader.py:683: UserWarning: 'pin_memory' argument is set as true but not supported on MPS now, then device pinned memory won't be used.\n",
      "  warnings.warn(warn_msg)\n"
     ]
    },
    {
     "data": {
      "text/html": [
       "\n",
       "    <div>\n",
       "      \n",
       "      <progress value='678' max='678' style='width:300px; height:20px; vertical-align: middle;'></progress>\n",
       "      [678/678 00:13]\n",
       "    </div>\n",
       "    "
      ],
      "text/plain": [
       "<IPython.core.display.HTML object>"
      ]
     },
     "metadata": {},
     "output_type": "display_data"
    },
    {
     "name": "stdout",
     "output_type": "stream",
     "text": [
      "{'eval_loss': 0.23153647780418396, 'eval_roc_auc_macro': 0.9063949646199478, 'eval_runtime': 13.9693, 'eval_samples_per_second': 388.135, 'eval_steps_per_second': 48.535, 'epoch': 5.0}\n",
      "Сохранение лучшей модели rubert-tiny2 в ./trained_models/bert_tiny_final_model...\n",
      "Сохранение лучшей модели rubert-tiny2 завершено.\n"
     ]
    }
   ],
   "source": [
    "# Обучение BERT\n",
    "print(\"Запуск обучения BERT...\")\n",
    "train_results_tiny = trainer_tiny.train()\n",
    "print(\"Обучение BERT завершено.\")\n",
    "\n",
    "# Оценка и сохранение ПОСЛЕДНЕЙ модели\n",
    "print(\"Оценка лучшей модели rubert-tiny2...\")\n",
    "eval_results_tiny = trainer_tiny.evaluate()\n",
    "print(eval_results_tiny)\n",
    "print(f\"Сохранение лучшей модели rubert-tiny2 в {MODEL_PATHS['bert_tiny']}...\")\n",
    "trainer_tiny.save_model(MODEL_PATHS['bert_tiny'])\n",
    "if TOKENIZER_LOADED:\n",
    "    tokenizer.save_pretrained(MODEL_PATHS['bert_tiny'])\n",
    "print(\"Сохранение лучшей модели rubert-tiny2 завершено.\")"
   ]
  },
  {
   "cell_type": "code",
   "execution_count": 19,
   "metadata": {},
   "outputs": [
    {
     "name": "stdout",
     "output_type": "stream",
     "text": [
      "Очистка памяти после обучения rubert-tiny2...\n",
      "Память очищена.\n"
     ]
    }
   ],
   "source": [
    "# --- Очистка памяти ПОСЛЕ сохранения ---\n",
    "print(\"Очистка памяти после обучения rubert-tiny2...\")\n",
    "del model_bert # Удаляем модель из памяти\n",
    "del trainer_tiny # Удаляем Trainer\n",
    "if 'training_args_tiny' in locals(): del training_args_tiny\n",
    "if 'train_results_tiny' in locals(): del train_results_tiny\n",
    "if 'eval_results_tiny' in locals(): del eval_results_tiny\n",
    "if 'loss_values_plot' in locals(): del loss_values_plot # Если создавали\n",
    "\n",
    "if torch.backends.mps.is_available():\n",
    "    torch.mps.empty_cache()\n",
    "elif torch.cuda.is_available():\n",
    "    torch.cuda.empty_cache()\n",
    "gc.collect()\n",
    "print(\"Память очищена.\")"
   ]
  },
  {
   "cell_type": "markdown",
   "metadata": {},
   "source": [
    "## sergeyzh/BERTA (BERT)"
   ]
  },
  {
   "cell_type": "code",
   "execution_count": 24,
   "metadata": {},
   "outputs": [
    {
     "name": "stdout",
     "output_type": "stream",
     "text": [
      "Загрузка токенизатора и модели: sergeyzh/BERTA\n"
     ]
    },
    {
     "name": "stderr",
     "output_type": "stream",
     "text": [
      "Some weights of BertForSequenceClassification were not initialized from the model checkpoint at sergeyzh/BERTA and are newly initialized: ['classifier.bias', 'classifier.weight']\n",
      "You should probably TRAIN this model on a down-stream task to be able to use it for predictions and inference.\n"
     ]
    },
    {
     "name": "stdout",
     "output_type": "stream",
     "text": [
      "Токенизатор и модель BERTA (sergeyzh/BERTA) загружены.\n",
      "BERTA (V1): реальный батч = 1, накопление = 8, макс.длина = 256\n",
      "Подготовка HF Datasets и токенизация для BERTA (V1)...\n"
     ]
    },
    {
     "data": {
      "application/vnd.jupyter.widget-view+json": {
       "model_id": "b3a7509c23d348138188c5632b2a5001",
       "version_major": 2,
       "version_minor": 0
      },
      "text/plain": [
       "Map:   0%|          | 0/21545 [00:00<?, ? examples/s]"
      ]
     },
     "metadata": {},
     "output_type": "display_data"
    },
    {
     "data": {
      "application/vnd.jupyter.widget-view+json": {
       "model_id": "64e43e65e3f442e6859255e10bc20de8",
       "version_major": 2,
       "version_minor": 0
      },
      "text/plain": [
       "Map:   0%|          | 0/5422 [00:00<?, ? examples/s]"
      ]
     },
     "metadata": {},
     "output_type": "display_data"
    },
    {
     "name": "stdout",
     "output_type": "stream",
     "text": [
      "Данные для BERTA (V1) готовы.\n",
      "Шаг логирования BERTA (V1): 269\n",
      "Шаг оценки BERTA (V1) (eval_steps): 2694\n",
      "Шаг сохранения BERTA (V1) (save_steps): 2694\n",
      "TrainingArguments для BERTA (V1) созданы успешно!\n",
      "Trainer для BERTA (V1) создан.\n",
      "Запуск обучения BERTA (V1)...\n"
     ]
    },
    {
     "name": "stderr",
     "output_type": "stream",
     "text": [
      "/var/folders/kl/3sqlz_l14d795v1b6tx_48c40000gn/T/ipykernel_56039/3104642679.py:77: FutureWarning: `tokenizer` is deprecated and will be removed in version 5.0.0 for `Trainer.__init__`. Use `processing_class` instead.\n",
      "  trainer_berta_v1 = Trainer(\n",
      "/Users/maksimlyara/miniconda3/envs/hw2_dl_env/lib/python3.10/site-packages/torch/utils/data/dataloader.py:683: UserWarning: 'pin_memory' argument is set as true but not supported on MPS now, then device pinned memory won't be used.\n",
      "  warnings.warn(warn_msg)\n"
     ]
    },
    {
     "data": {
      "text/html": [
       "\n",
       "    <div>\n",
       "      \n",
       "      <progress value='8079' max='8079' style='width:300px; height:20px; vertical-align: middle;'></progress>\n",
       "      [8079/8079 1:03:35, Epoch 2/3]\n",
       "    </div>\n",
       "    <table border=\"1\" class=\"dataframe\">\n",
       "  <thead>\n",
       " <tr style=\"text-align: left;\">\n",
       "      <th>Step</th>\n",
       "      <th>Training Loss</th>\n",
       "      <th>Validation Loss</th>\n",
       "      <th>Roc Auc Macro</th>\n",
       "    </tr>\n",
       "  </thead>\n",
       "  <tbody>\n",
       "    <tr>\n",
       "      <td>2694</td>\n",
       "      <td>0.181300</td>\n",
       "      <td>0.172964</td>\n",
       "      <td>0.942388</td>\n",
       "    </tr>\n",
       "    <tr>\n",
       "      <td>5388</td>\n",
       "      <td>0.137100</td>\n",
       "      <td>0.137031</td>\n",
       "      <td>0.958060</td>\n",
       "    </tr>\n",
       "  </tbody>\n",
       "</table><p>"
      ],
      "text/plain": [
       "<IPython.core.display.HTML object>"
      ]
     },
     "metadata": {},
     "output_type": "display_data"
    },
    {
     "name": "stderr",
     "output_type": "stream",
     "text": [
      "/Users/maksimlyara/miniconda3/envs/hw2_dl_env/lib/python3.10/site-packages/torch/utils/data/dataloader.py:683: UserWarning: 'pin_memory' argument is set as true but not supported on MPS now, then device pinned memory won't be used.\n",
      "  warnings.warn(warn_msg)\n",
      "/Users/maksimlyara/miniconda3/envs/hw2_dl_env/lib/python3.10/site-packages/torch/utils/data/dataloader.py:683: UserWarning: 'pin_memory' argument is set as true but not supported on MPS now, then device pinned memory won't be used.\n",
      "  warnings.warn(warn_msg)\n"
     ]
    },
    {
     "name": "stdout",
     "output_type": "stream",
     "text": [
      "Обучение BERTA (V1) завершено.\n",
      "Оценка лучшей модели BERTA (V1) на валидационном наборе...\n"
     ]
    },
    {
     "name": "stderr",
     "output_type": "stream",
     "text": [
      "/Users/maksimlyara/miniconda3/envs/hw2_dl_env/lib/python3.10/site-packages/torch/utils/data/dataloader.py:683: UserWarning: 'pin_memory' argument is set as true but not supported on MPS now, then device pinned memory won't be used.\n",
      "  warnings.warn(warn_msg)\n"
     ]
    },
    {
     "data": {
      "text/html": [
       "\n",
       "    <div>\n",
       "      \n",
       "      <progress value='2711' max='2711' style='width:300px; height:20px; vertical-align: middle;'></progress>\n",
       "      [2711/2711 01:18]\n",
       "    </div>\n",
       "    "
      ],
      "text/plain": [
       "<IPython.core.display.HTML object>"
      ]
     },
     "metadata": {},
     "output_type": "display_data"
    },
    {
     "name": "stdout",
     "output_type": "stream",
     "text": [
      "Результаты оценки BERTA (V1):\n",
      "{'eval_loss': 0.13703110814094543, 'eval_roc_auc_macro': 0.9580595071015917, 'eval_runtime': 78.8267, 'eval_samples_per_second': 68.784, 'eval_steps_per_second': 34.392, 'epoch': 2.999210953817591}\n",
      "Сохранение лучшей модели BERTA (V1) в ./trained_models/berta_v1_final_model...\n",
      "Сохранение лучшей модели BERTA (V1) завершено.\n"
     ]
    }
   ],
   "source": [
    "MODEL_PATHS[\"berta_classifier_v1\"] = os.path.join(MODEL_SAVE_DIR, \"berta_v1_final_model\")\n",
    "\n",
    "print(f\"Загрузка токенизатора и модели: {MODEL_NAME_BERTA_V1}\")\n",
    "tokenizer_berta_v1 = AutoTokenizer.from_pretrained(MODEL_NAME_BERTA_V1)\n",
    "model_berta_v1 = AutoModelForSequenceClassification.from_pretrained(\n",
    "    MODEL_NAME_BERTA_V1,\n",
    "    num_labels=OUTPUT_DIM,\n",
    "    problem_type=\"multi_label_classification\"\n",
    ").to(device)\n",
    "\n",
    "print(f\"Токенизатор и модель BERTA ({MODEL_NAME_BERTA_V1}) загружены.\")\n",
    "print(f\"BERTA (V1): реальный батч = {BERTA_V1_REAL_BATCH_SIZE_PER_DEVICE}, \"\n",
    "      f\"накопление = {BERTA_V1_GRAD_ACCUM_STEPS}, \"\n",
    "      f\"макс.длина = {BERTA_V1_MAX_LEN}\")\n",
    "\n",
    "print(\"Подготовка HF Datasets и токенизация для BERTA (V1)...\")\n",
    "TEXT_COLUMN_BERT = 'text_cleaned_bert'\n",
    "\n",
    "def tokenize_function_berta_v1(examples):\n",
    "    return tokenizer_berta_v1(\n",
    "        examples[TEXT_COLUMN_BERT], padding=\"max_length\", truncation=True,\n",
    "        max_length=BERTA_V1_MAX_LEN\n",
    "    )\n",
    "\n",
    "train_labels_float_berta_v1 = [list(map(float, row)) for row in y_train_final]\n",
    "val_labels_float_berta_v1 = [list(map(float, row)) for row in y_val_final]\n",
    "train_dict_berta_v1 = {'id': train_split_df['id'].tolist(), TEXT_COLUMN_BERT: train_split_df[TEXT_COLUMN_BERT].tolist(), 'labels': train_labels_float_berta_v1}\n",
    "val_dict_berta_v1 = {'id': val_split_df['id'].tolist(), TEXT_COLUMN_BERT: val_split_df[TEXT_COLUMN_BERT].tolist(), 'labels': val_labels_float_berta_v1}\n",
    "\n",
    "hg_train_dataset_berta_v1 = HFDataset.from_dict(train_dict_berta_v1)\n",
    "hg_val_dataset_berta_v1 = HFDataset.from_dict(val_dict_berta_v1)\n",
    "\n",
    "tokenized_train_dataset_berta_v1 = hg_train_dataset_berta_v1.map(tokenize_function_berta_v1, batched=True, remove_columns=[TEXT_COLUMN_BERT, \"id\"])\n",
    "tokenized_val_dataset_berta_v1 = hg_val_dataset_berta_v1.map(tokenize_function_berta_v1, batched=True, remove_columns=[TEXT_COLUMN_BERT, \"id\"])\n",
    "\n",
    "tokenized_train_dataset_berta_v1.set_format(\"torch\")\n",
    "tokenized_val_dataset_berta_v1.set_format(\"torch\")\n",
    "print(\"Данные для BERTA (V1) готовы.\")\n",
    "\n",
    "os.makedirs(OUTPUT_DIR_BERTA_V1, exist_ok=True)\n",
    "\n",
    "update_steps_per_epoch_berta_v1 = math.ceil(len(tokenized_train_dataset_berta_v1) / (BERTA_V1_REAL_BATCH_SIZE_PER_DEVICE * BERTA_V1_GRAD_ACCUM_STEPS))\n",
    "logging_steps_berta_v1 = max(1, update_steps_per_epoch_berta_v1 // 10)\n",
    "effective_eval_steps_v1 = update_steps_per_epoch_berta_v1\n",
    "effective_save_steps_v1 = update_steps_per_epoch_berta_v1\n",
    "\n",
    "print(f\"Шаг логирования BERTA (V1): {logging_steps_berta_v1}\")\n",
    "print(f\"Шаг оценки BERTA (V1) (eval_steps): {effective_eval_steps_v1}\")\n",
    "print(f\"Шаг сохранения BERTA (V1) (save_steps): {effective_save_steps_v1}\")\n",
    "\n",
    "training_args_berta_v1 = TrainingArguments(\n",
    "    output_dir=OUTPUT_DIR_BERTA_V1,\n",
    "    num_train_epochs=BERTA_V1_EPOCHS,\n",
    "    per_device_train_batch_size=BERTA_V1_REAL_BATCH_SIZE_PER_DEVICE,\n",
    "    per_device_eval_batch_size=BERTA_V1_REAL_BATCH_SIZE_PER_DEVICE * 2,\n",
    "    gradient_accumulation_steps=BERTA_V1_GRAD_ACCUM_STEPS,\n",
    "    learning_rate=BERTA_V1_LR,\n",
    "    weight_decay=0.01,\n",
    "    eval_strategy=\"steps\",\n",
    "    save_strategy=\"steps\",\n",
    "    eval_steps=effective_eval_steps_v1,\n",
    "    save_steps=effective_save_steps_v1,\n",
    "    do_eval=True,\n",
    "    logging_strategy=\"steps\",\n",
    "    logging_steps=logging_steps_berta_v1,\n",
    "    load_best_model_at_end=True,\n",
    "    metric_for_best_model=\"roc_auc_macro\",\n",
    "    greater_is_better=True,\n",
    "    report_to=\"none\",\n",
    "    dataloader_num_workers=0,\n",
    "    save_total_limit=2,\n",
    "    fp16=False,\n",
    ")\n",
    "\n",
    "print(\"TrainingArguments для BERTA (V1) созданы успешно!\")\n",
    "\n",
    "trainer_berta_v1 = Trainer(\n",
    "    model=model_berta_v1,\n",
    "    args=training_args_berta_v1,\n",
    "    train_dataset=tokenized_train_dataset_berta_v1,\n",
    "    eval_dataset=tokenized_val_dataset_berta_v1,\n",
    "    compute_metrics=compute_metrics,\n",
    "    tokenizer=tokenizer_berta_v1\n",
    ")\n",
    "print(\"Trainer для BERTA (V1) создан.\")\n",
    "\n",
    "# --- 4. Обучение BERTA (V1) ---\n",
    "print(\"Запуск обучения BERTA (V1)...\")\n",
    "if torch.backends.mps.is_available():\n",
    "    torch.mps.empty_cache()\n",
    "elif torch.cuda.is_available():\n",
    "    torch.cuda.empty_cache()\n",
    "gc.collect()\n",
    "\n",
    "try:\n",
    "    train_result_berta_v1 = trainer_berta_v1.train() # Новая переменная для результатов\n",
    "    print(\"Обучение BERTA (V1) завершено.\")\n",
    "    trainer_berta_v1.save_metrics(\"train\", train_result_berta_v1.metrics)\n",
    "except Exception as e:\n",
    "    print(f\"Ошибка во время обучения BERTA (V1): {e}\")\n",
    "    raise\n",
    "\n",
    "print(\"Оценка лучшей модели BERTA (V1) на валидационном наборе...\")\n",
    "eval_results_berta_v1 = trainer_berta_v1.evaluate(eval_dataset=tokenized_val_dataset_berta_v1)\n",
    "print(\"Результаты оценки BERTA (V1):\")\n",
    "print(eval_results_berta_v1)\n",
    "trainer_berta_v1.save_metrics(\"eval\", eval_results_berta_v1)\n",
    "\n",
    "save_path_berta_v1 = MODEL_PATHS[\"berta_classifier_v1\"]\n",
    "print(f\"Сохранение лучшей модели BERTA (V1) в {save_path_berta_v1}...\")\n",
    "trainer_berta_v1.save_model(save_path_berta_v1)\n",
    "tokenizer_berta_v1.save_pretrained(save_path_berta_v1)\n",
    "print(\"Сохранение лучшей модели BERTA (V1) завершено.\")"
   ]
  },
  {
   "cell_type": "markdown",
   "metadata": {},
   "source": [
    "## BERTA weighted classes (v2)"
   ]
  },
  {
   "cell_type": "code",
   "execution_count": 25,
   "metadata": {},
   "outputs": [
    {
     "name": "stdout",
     "output_type": "stream",
     "text": [
      "Загрузка токенизатора и модели: sergeyzh/BERTA\n"
     ]
    },
    {
     "name": "stderr",
     "output_type": "stream",
     "text": [
      "Some weights of BertForSequenceClassification were not initialized from the model checkpoint at sergeyzh/BERTA and are newly initialized: ['classifier.bias', 'classifier.weight']\n",
      "You should probably TRAIN this model on a down-stream task to be able to use it for predictions and inference.\n"
     ]
    },
    {
     "name": "stdout",
     "output_type": "stream",
     "text": [
      "Токенизатор и модель BERTA (v2) загружены.\n",
      "BERTA (v2): реальный батч = 2, накопление = 2, макс.длина = 384\n",
      "Подготовка HF Datasets и токенизация для BERTA (v2)...\n"
     ]
    },
    {
     "data": {
      "application/vnd.jupyter.widget-view+json": {
       "model_id": "9f4844e5bc9543ef86ed532205f843b8",
       "version_major": 2,
       "version_minor": 0
      },
      "text/plain": [
       "Map:   0%|          | 0/21545 [00:00<?, ? examples/s]"
      ]
     },
     "metadata": {},
     "output_type": "display_data"
    },
    {
     "data": {
      "application/vnd.jupyter.widget-view+json": {
       "model_id": "a2f1b9c0ef5e40fcba38189081dd1b04",
       "version_major": 2,
       "version_minor": 0
      },
      "text/plain": [
       "Map:   0%|          | 0/5422 [00:00<?, ? examples/s]"
      ]
     },
     "metadata": {},
     "output_type": "display_data"
    },
    {
     "name": "stdout",
     "output_type": "stream",
     "text": [
      "Данные для BERTA (v2) готовы.\n"
     ]
    }
   ],
   "source": [
    "MODEL_NAME_BERTA_V2 = \"sergeyzh/BERTA\"\n",
    "MODEL_PATHS[\"berta_classifier_v2\"] = os.path.join(MODEL_SAVE_DIR, \"berta_classifier_v2_len512_weighted_final_model\")\n",
    "\n",
    "print(f\"Загрузка токенизатора и модели: {MODEL_NAME_BERTA_V2}\")\n",
    "tokenizer_berta_v2 = AutoTokenizer.from_pretrained(MODEL_NAME_BERTA_V2)\n",
    "model_berta_v2 = AutoModelForSequenceClassification.from_pretrained(\n",
    "    MODEL_NAME_BERTA_V2,\n",
    "    num_labels=OUTPUT_DIM,\n",
    "    problem_type=\"multi_label_classification\"\n",
    ").to(device)\n",
    "TOKENIZER_BERTA_V2_LOADED = True\n",
    "MODEL_BERTA_V2_LOADED = True\n",
    "print(\"Токенизатор и модель BERTA (v2) загружены.\")\n",
    "\n",
    "print(f\"BERTA (v2): реальный батч = {BERTA_V2_BATCH_SIZE_PER_DEVICE}, накопление = {BERTA_V2_GRAD_ACCUM_STEPS}, макс.длина = {BERTA_V2_MAX_LEN}\")\n",
    "\n",
    "print(\"Подготовка HF Datasets и токенизация для BERTA (v2)...\")\n",
    "TEXT_COLUMN_BERT = 'text_cleaned_bert'\n",
    "\n",
    "def tokenize_function_berta_v2(examples):\n",
    "    return tokenizer_berta_v2(\n",
    "        examples[TEXT_COLUMN_BERT], padding=\"max_length\", truncation=True,\n",
    "        max_length=BERTA_V2_MAX_LEN\n",
    "    )\n",
    "\n",
    "train_labels_float_berta_v2 = [list(map(float, row)) for row in y_train_final]\n",
    "val_labels_float_berta_v2 = [list(map(float, row)) for row in y_val_final]\n",
    "train_dict_berta_v2 = {'id': train_split_df['id'].tolist(), TEXT_COLUMN_BERT: train_split_df[TEXT_COLUMN_BERT].tolist(), 'labels': train_labels_float_berta_v2}\n",
    "val_dict_berta_v2 = {'id': val_split_df['id'].tolist(), TEXT_COLUMN_BERT: val_split_df[TEXT_COLUMN_BERT].tolist(), 'labels': val_labels_float_berta_v2}\n",
    "\n",
    "hg_train_dataset_berta_v2 = HFDataset.from_dict(train_dict_berta_v2)\n",
    "hg_val_dataset_berta_v2 = HFDataset.from_dict(val_dict_berta_v2)\n",
    "\n",
    "tokenized_train_dataset_berta_v2 = hg_train_dataset_berta_v2.map(tokenize_function_berta_v2, batched=True, remove_columns=[TEXT_COLUMN_BERT, \"id\"])\n",
    "tokenized_val_dataset_berta_v2 = hg_val_dataset_berta_v2.map(tokenize_function_berta_v2, batched=True, remove_columns=[TEXT_COLUMN_BERT, \"id\"])\n",
    "\n",
    "tokenized_train_dataset_berta_v2.set_format(\"torch\")\n",
    "tokenized_val_dataset_berta_v2.set_format(\"torch\")\n",
    "print(\"Данные для BERTA (v2) готовы.\")"
   ]
  },
  {
   "cell_type": "code",
   "execution_count": 26,
   "metadata": {},
   "outputs": [
    {
     "name": "stdout",
     "output_type": "stream",
     "text": [
      "ОГРАНИЧЕННЫЕ pos_weight для BERTA (v2): tensor([ 0.8408,  0.5454, 19.3063, 15.7145,  0.6254, 20.0000, 20.0000,  0.3005,\n",
      "         0.2712,  0.4368,  1.3227,  0.5984,  0.2628,  0.2880,  0.3123,  0.9955,\n",
      "         0.3535,  0.2542,  0.2142,  4.1592], device='mps:0')\n",
      "Настройка Trainer для BERTA (v2)...\n",
      "Шаг логирования BERTA (v2): 538\n",
      "Шаг оценки BERTA (v2): 5387\n",
      "Шаг сохранения BERTA (v2): 5387\n",
      "Trainer для BERTA (v2) создан.\n"
     ]
    },
    {
     "name": "stderr",
     "output_type": "stream",
     "text": [
      "/var/folders/kl/3sqlz_l14d795v1b6tx_48c40000gn/T/ipykernel_56039/2272168133.py:12: FutureWarning: `tokenizer` is deprecated and will be removed in version 5.0.0 for `WeightedBCETrainer.__init__`. Use `processing_class` instead.\n",
      "  super().__init__(*args, **kwargs)\n"
     ]
    }
   ],
   "source": [
    "num_samples_train_berta_v2 = len(y_train_final)\n",
    "num_positives_per_class_berta_v2 = np.sum(y_train_final, axis=0)\n",
    "num_negatives_per_class_berta_v2 = num_samples_train_berta_v2 - num_positives_per_class_berta_v2\n",
    "pos_weight_berta_raw = num_negatives_per_class_berta_v2 / (num_positives_per_class_berta_v2 + 1e-6)\n",
    "pos_weight_berta_v2_clipped = np.clip(pos_weight_berta_raw, None, MAX_POS_WEIGHT_BERTA_V2)\n",
    "pos_weight_berta_v2_tensor = torch.tensor(pos_weight_berta_v2_clipped, dtype=torch.float32).to(device)\n",
    "print(f\"ОГРАНИЧЕННЫЕ pos_weight для BERTA (v2): {pos_weight_berta_v2_tensor}\")\n",
    "\n",
    "# --- Кастомный Trainer для взвешенной функции потерь ---\n",
    "class WeightedBCETrainer(Trainer):\n",
    "    def __init__(self, *args, pos_weight_tensor=None, **kwargs):\n",
    "        super().__init__(*args, **kwargs)\n",
    "        if pos_weight_tensor is None:\n",
    "            print(\"ПРЕДУПРЕЖДЕНИЕ: pos_weight_tensor не был передан в WeightedBCETrainer. Будет использован стандартный BCEWithLogitsLoss без весов.\")\n",
    "            raise ValueError(\"Необходимо передать pos_weight_tensor в WeightedBCETrainer для взвешенной функции потерь.\")\n",
    "        self.pos_weight_tensor = pos_weight_tensor\n",
    "\n",
    "    def compute_loss(self, model, inputs, return_outputs=False, **kwargs): # <--- ДОБАВЛЕНО **kwargs\n",
    "        labels = inputs.pop(\"labels\")\n",
    "        outputs = model(**inputs)\n",
    "        logits = outputs.get(\"logits\")\n",
    "        \n",
    "        loss_fct = nn.BCEWithLogitsLoss(pos_weight=self.pos_weight_tensor)\n",
    "        loss = loss_fct(logits.view(-1, self.model.config.num_labels),\n",
    "                        labels.float().view(-1, self.model.config.num_labels))\n",
    "        return (loss, outputs) if return_outputs else loss\n",
    "\n",
    "print(\"Настройка Trainer для BERTA (v2)...\")\n",
    "OUTPUT_DIR_BERTA_V2 = \"./berta_v2_training_output\"\n",
    "os.makedirs(OUTPUT_DIR_BERTA_V2, exist_ok=True)\n",
    "\n",
    "update_steps_per_epoch_berta_v2 = math.ceil(len(tokenized_train_dataset_berta_v2) / (BERTA_V2_BATCH_SIZE_PER_DEVICE * BERTA_V2_GRAD_ACCUM_STEPS))\n",
    "logging_steps_berta_v2 = max(1, update_steps_per_epoch_berta_v2 // 10)\n",
    "effective_eval_steps_v2 = update_steps_per_epoch_berta_v2\n",
    "effective_save_steps_v2 = update_steps_per_epoch_berta_v2\n",
    "\n",
    "print(f\"Шаг логирования BERTA (v2): {logging_steps_berta_v2}\")\n",
    "print(f\"Шаг оценки BERTA (v2): {effective_eval_steps_v2}\")\n",
    "print(f\"Шаг сохранения BERTA (v2): {effective_save_steps_v2}\")\n",
    "\n",
    "training_args_berta_v2 = TrainingArguments(\n",
    "    output_dir=OUTPUT_DIR_BERTA_V2,\n",
    "    num_train_epochs=BERTA_V2_EPOCHS,\n",
    "    per_device_train_batch_size=BERTA_V2_BATCH_SIZE_PER_DEVICE,\n",
    "    per_device_eval_batch_size=BERTA_V2_BATCH_SIZE_PER_DEVICE * 4,\n",
    "    gradient_accumulation_steps=BERTA_V2_GRAD_ACCUM_STEPS,\n",
    "    learning_rate=BERTA_V2_LR,\n",
    "    weight_decay=0.01,\n",
    "    eval_strategy=\"steps\",\n",
    "    save_strategy=\"steps\",\n",
    "    eval_steps=effective_eval_steps_v2,\n",
    "    save_steps=effective_save_steps_v2,\n",
    "    do_eval=True,\n",
    "    logging_strategy=\"steps\",\n",
    "    logging_steps=logging_steps_berta_v2,\n",
    "    load_best_model_at_end=True,\n",
    "    metric_for_best_model=\"roc_auc_macro\",\n",
    "    greater_is_better=True,\n",
    "    report_to=\"none\",\n",
    "    dataloader_num_workers=0,\n",
    "    save_total_limit=2,\n",
    "    fp16=False,\n",
    ")\n",
    "\n",
    "trainer_berta_v2 = WeightedBCETrainer(\n",
    "    model=model_berta_v2,\n",
    "    args=training_args_berta_v2,\n",
    "    train_dataset=tokenized_train_dataset_berta_v2,\n",
    "    eval_dataset=tokenized_val_dataset_berta_v2,\n",
    "    compute_metrics=compute_metrics,\n",
    "    tokenizer=tokenizer_berta_v2,\n",
    "    pos_weight_tensor=pos_weight_berta_v2_tensor\n",
    ")\n",
    "print(\"Trainer для BERTA (v2) создан.\")"
   ]
  },
  {
   "cell_type": "code",
   "execution_count": null,
   "metadata": {},
   "outputs": [],
   "source": [
    "print(\"Запуск обучения BERTA (v2)...\")\n",
    "if torch.backends.mps.is_available():\n",
    "    torch.mps.empty_cache()\n",
    "elif torch.cuda.is_available():\n",
    "    torch.cuda.empty_cache()\n",
    "\n",
    "gc.collect()\n",
    "\n",
    "train_result_berta_v2 = trainer_berta_v2.train()\n",
    "print(\"Обучение BERTA (v2) завершено.\")\n",
    "trainer_berta_v2.save_metrics(\"train\", train_result_berta_v2.metrics)\n"
   ]
  },
  {
   "cell_type": "code",
   "execution_count": 29,
   "metadata": {},
   "outputs": [],
   "source": [
    "print(\"Оценка лучшей модели BERTA (v2) на валидационном наборе...\")\n",
    "eval_results_berta_v2 = trainer_berta_v2.evaluate(eval_dataset=tokenized_val_dataset_berta_v2)\n",
    "print(\"Результаты оценки BERTA (v2):\")\n",
    "print(eval_results_berta_v2)\n",
    "trainer_berta_v2.save_metrics(\"eval\", eval_results_berta_v2)\n",
    "print(f\"Сохранение лучшей модели BERTA (v2) в {MODEL_PATHS['berta_classifier_v2']}...\")\n",
    "trainer_berta_v2.save_model(MODEL_PATHS['berta_classifier_v2'])\n",
    "if TOKENIZER_BERTA_V2_LOADED:\n",
    "    tokenizer_berta_v2.save_pretrained(MODEL_PATHS['berta_classifier_v2'])\n",
    "    print(\"Сохранение лучшей модели BERTA (v2) завершено.\")"
   ]
  },
  {
   "cell_type": "markdown",
   "metadata": {},
   "source": [
    "Одна эта модель с тюнингом порога классификации получает 0.861 на private и 0.863 на public"
   ]
  },
  {
   "cell_type": "code",
   "execution_count": 30,
   "metadata": {},
   "outputs": [
    {
     "name": "stdout",
     "output_type": "stream",
     "text": [
      "Очистка памяти после обучения BERTA (v2)...\n",
      "Память после BERTA (v2) очищена.\n"
     ]
    }
   ],
   "source": [
    "print(\"Очистка памяти после обучения BERTA (v2)...\")\n",
    "if 'model_berta_v2' in locals():\n",
    "    del model_berta_v2\n",
    "if 'trainer_berta_v2' in locals():\n",
    "    del trainer_berta_v2\n",
    "if 'training_args_berta_v2' in locals():\n",
    "    del training_args_berta_v2\n",
    "if 'train_result_berta_v2' in locals():\n",
    "    del train_result_berta_v2\n",
    "if 'eval_results_berta_v2' in locals():\n",
    "    del eval_results_berta_v2\n",
    "\n",
    "\n",
    "if torch.backends.mps.is_available():\n",
    "    torch.mps.empty_cache()\n",
    "elif torch.cuda.is_available():\n",
    "    torch.cuda.empty_cache()\n",
    "gc.collect()\n",
    "print(\"Память после BERTA (v2) очищена.\")"
   ]
  },
  {
   "cell_type": "markdown",
   "metadata": {},
   "source": [
    "## Аугментация данных (Back-Translation) + обучение W2V+LSTM"
   ]
  },
  {
   "cell_type": "code",
   "execution_count": 32,
   "metadata": {},
   "outputs": [],
   "source": [
    "# Глобальные переменные\n",
    "ru_en_model_name = 'Helsinki-NLP/opus-mt-ru-en'\n",
    "en_ru_model_name = 'Helsinki-NLP/opus-mt-en-ru'\n",
    "\n",
    "# Загрузка моделей\n",
    "ru_en_tokenizer = MarianTokenizer.from_pretrained(ru_en_model_name)\n",
    "ru_en_model = MarianMTModel.from_pretrained(ru_en_model_name).to(device)\n",
    "print(f\"Модель {ru_en_model_name} загружена.\")\n",
    "\n",
    "en_ru_tokenizer = MarianTokenizer.from_pretrained(en_ru_model_name)\n",
    "en_ru_model = MarianMTModel.from_pretrained(en_ru_model_name).to(device)\n",
    "print(f\"Модель {en_ru_model_name} загружена.\")\n",
    "\n",
    "# --- Функция Back-Translation ---\n",
    "def back_translate_text(text, ru_en_tok, ru_en_mod, en_ru_tok, en_ru_mod, device, max_length=512):\n",
    "    # Ru -> En\n",
    "    ru_batch = ru_en_tok([text], return_tensors=\"pt\", padding=True, truncation=True, max_length=max_length).to(device)\n",
    "    translated_ru_en = ru_en_mod.generate(**ru_batch, max_length=max_length)\n",
    "    english_text = ru_en_tok.decode(translated_ru_en[0], skip_special_tokens=True)\n",
    "\n",
    "    # En -> Ru\n",
    "    en_batch = en_ru_tok([english_text], return_tensors=\"pt\", padding=True, truncation=True, max_length=max_length).to(device)\n",
    "    translated_en_ru = en_ru_mod.generate(**en_batch, max_length=max_length)\n",
    "    back_translated_text = en_ru_tok.decode(translated_en_ru[0], skip_special_tokens=True)\n",
    "\n",
    "    return back_translated_text\n",
    "\n",
    "# Настройка параметров аугментации\n",
    "NUM_AUGMENT_SAMPLES = min(NUM_AUGMENT_SAMPLES, len(train_split_df))\n",
    "print(f\"Используем {NUM_AUGMENT_SAMPLES} сэмплов для аугментации.\")\n",
    "\n",
    "# Случайная выборка индексов\n",
    "sample_indices = random.sample(range(len(train_split_df)), NUM_AUGMENT_SAMPLES)\n",
    "texts_to_augment = train_split_df.loc[sample_indices, TEXT_COLUMN_FOR_AUG].tolist()\n",
    "labels_for_augmented = y_train_final[sample_indices] \n",
    "\n",
    "print(f\"Выбрано {len(texts_to_augment)} текстов для аугментации.\")\n",
    "\n",
    "# --- Применение аугментации ---\n",
    "augmented_texts = []\n",
    "print(\"Запуск Back-Translation (может занять много времени)...\")\n",
    "for text in tqdm(texts_to_augment, desc=\"Augmenting Texts\"):\n",
    "    augmented_texts.append(back_translate_text(text, ru_en_tokenizer, ru_en_model, en_ru_tokenizer, en_ru_model, device))\n",
    "print(\"Back-Translation завершен.\")\n",
    "\n",
    "augmented_examples_df = pd.DataFrame({\n",
    "    'Оригинал': texts_to_augment[:3],\n",
    "    'Аугментированный': augmented_texts[:3]\n",
    "})\n",
    "\n",
    "print(\"\\nПримеры аугментированных текстов:\")\n",
    "display(augmented_examples_df)\n"
   ]
  },
  {
   "cell_type": "code",
   "execution_count": 33,
   "metadata": {},
   "outputs": [],
   "source": [
    "# --- Создание расширенного датасета ---\n",
    "if augmented_texts:\n",
    "    augmented_df = pd.DataFrame({\n",
    "        'original_text_for_aug': texts_to_augment,\n",
    "        TEXT_COLUMN_FOR_AUG: augmented_texts,\n",
    "        'labels_str': [\" \".join(map(str, lab_list)) for lab_list in labels_for_augmented]\n",
    "    })\n",
    "    augmented_df['id'] = range(len(train_df), len(train_df) + len(augmented_df))\n",
    "    augmented_df['label_list'] = [list(lab) for lab in labels_for_augmented]\n",
    "\n",
    "    print(f\"\\nСоздано {len(augmented_df)} аугментированных примеров.\")\n",
    "\n",
    "    train_split_df_for_concat = train_split_df[['id', TEXT_COLUMN_FOR_AUG, 'label_list']].copy()\n",
    "\n",
    "    print(\"Очистка аугментированных текстов для других пайплайнов...\")\n",
    "    augmented_df['text_cleaned_tfidf'] = augmented_df[TEXT_COLUMN_FOR_AUG].progress_apply(lambda x: clean_text_for_tfidf(x, russian_stop_words))\n",
    "    augmented_df['text_cleaned_bert'] = augmented_df[TEXT_COLUMN_FOR_AUG].progress_apply(clean_text_for_bert)\n",
    "\n",
    "    cols_to_keep = ['id', 'text_cleaned_tfidf', 'text_cleaned_sequential', 'text_cleaned_bert', 'label_list']\n",
    "    \n",
    "    train_data_expanded_df = pd.concat([\n",
    "        train_split_df[cols_to_keep],\n",
    "        augmented_df[cols_to_keep]\n",
    "    ], ignore_index=True)\n",
    "\n",
    "    y_train_expanded_final = np.array(train_data_expanded_df['label_list'].tolist())\n",
    "\n",
    "    print(f\"Размер расширенного обучающего датасета: {train_data_expanded_df.shape}\")\n",
    "    print(f\"Размер расширенных меток: {y_train_expanded_final.shape}\")\n",
    "    AUGMENTATION_DONE = True\n",
    "else:\n",
    "    print(\"Аугментация не была выполнена. Используются исходные данные для переобучения.\")\n",
    "    train_data_expanded_df = train_split_df.copy()\n",
    "    y_train_expanded_final = y_train_final.copy()\n",
    "    AUGMENTATION_DONE = False\n",
    "\n",
    "print(\"\\nАугментация данных завершена (или пропущена).\")\n",
    "if AUGMENTATION_DONE:\n",
    "    print(\"Переходите к следующей ячейке для переобучения модели W2V+LSTM на расширенных данных.\")"
   ]
  },
  {
   "cell_type": "code",
   "execution_count": null,
   "metadata": {},
   "outputs": [],
   "source": [
    "if AUGMENTATION_DONE and 'train_data_expanded_df' in globals() and 'y_train_expanded_final' in globals():\n",
    "    # Пути для сохранения\n",
    "    augmented_train_df_path = os.path.join(DATA_PATH, \"train_data_expanded.csv\")\n",
    "    augmented_train_labels_path = os.path.join(DATA_PATH, \"y_train_expanded_final.npy\")\n",
    "\n",
    "    # Сохраняем расширенный DataFrame\n",
    "    try:\n",
    "        train_data_expanded_df.to_csv(augmented_train_df_path, index=False)\n",
    "        print(f\"Расширенный обучающий DataFrame сохранен в: {augmented_train_df_path}\")\n",
    "    except Exception as e:\n",
    "        print(f\"Ошибка при сохранении train_data_expanded_df: {e}\")\n",
    "\n",
    "    # Сохраняем метки для аугментированных данных\n",
    "    try:\n",
    "        np.save(augmented_train_labels_path, y_train_expanded_final)\n",
    "        print(f\"Метки для аугментированных данных сохранены в: {augmented_train_labels_path}\")\n",
    "    except Exception as e:\n",
    "        print(f\"Ошибка при сохранении y_train_expanded_final: {e}\")\n",
    "\n",
    "    print(\"\\nДанные для переобучения с аугментацией сохранены.\")\n",
    "else:\n",
    "    print(\"Аугментация не была выполнена или данные не найдены. Сохранение не произведено.\")"
   ]
  },
  {
   "cell_type": "code",
   "execution_count": null,
   "metadata": {},
   "outputs": [],
   "source": [
    "augmented_train_df_path = os.path.join(DATA_PATH, \"train_data_expanded.csv\")\n",
    "augmented_train_labels_path = os.path.join(DATA_PATH, \"y_train_expanded_final.npy\")\n",
    "\n",
    "train_data_expanded_df = pd.read_csv(augmented_train_df_path)\n",
    "y_train_expanded_final = np.load(augmented_train_labels_path)\n",
    "\n",
    "train_texts_for_w2v_retrain = train_data_expanded_df['text_cleaned_sequential'].tolist()\n",
    "y_train_for_retrain = y_train_expanded_final\n",
    "\n",
    "num_samples_aug = len(y_train_for_retrain)\n",
    "num_positives_per_class_aug = np.sum(y_train_for_retrain, axis=0)\n",
    "num_negatives_per_class_aug = num_samples_aug - num_positives_per_class_aug\n",
    "\n",
    "pos_weight_aug = num_negatives_per_class_aug / (num_positives_per_class_aug + 1e-6)\n",
    "pos_weight_aug_tensor = torch.tensor(pos_weight_aug, dtype=torch.float32).to(device)\n",
    "print(f\"Рассчитанные pos_weight для LSTM (аугментированные данные): {pos_weight_aug_tensor}\")\n",
    "\n",
    "sentences_for_w2v_aug = [word_tokenize(str(text)) for text in tqdm(train_texts_for_w2v_retrain) if isinstance(text, str) and text.strip()]\n",
    "\n",
    "w2v_model_aug = Word2Vec(\n",
    "    sentences=sentences_for_w2v_aug,\n",
    "    vector_size=W2V_VECTOR_SIZE_AUG, window=W2V_WINDOW_AUG, min_count=W2V_MIN_COUNT_AUG,\n",
    "    workers=W2V_WORKERS_AUG, epochs=W2V_EPOCHS_AUG, sg=1, seed=SEED\n",
    ")\n",
    "\n",
    "word_to_idx_aug = {word: idx + 2 for idx, word in enumerate(w2v_model_aug.wv.index_to_key)}\n",
    "word_to_idx_aug['<PAD>'] = PAD_IDX_AUG\n",
    "word_to_idx_aug['<UNK>'] = UNK_IDX_AUG\n",
    "VOCAB_SIZE_AUG = len(word_to_idx_aug)\n",
    "print(f\"Размер словаря (аугм.): {VOCAB_SIZE_AUG}\")\n",
    "\n",
    "embedding_matrix_aug = np.zeros((VOCAB_SIZE_AUG, W2V_VECTOR_SIZE_AUG))\n",
    "for word, idx in word_to_idx_aug.items():\n",
    "    if idx > UNK_IDX_AUG and word in w2v_model_aug.wv:\n",
    "        embedding_matrix_aug[idx] = w2v_model_aug.wv[word]\n",
    "embedding_matrix_aug[UNK_IDX_AUG] = np.random.normal(scale=0.6, size=(W2V_VECTOR_SIZE_AUG,))\n",
    "embedding_matrix_aug = torch.tensor(embedding_matrix_aug, dtype=torch.float32)\n",
    "print(f\"Embedding матрица (аугм.): {embedding_matrix_aug.shape}\")\n",
    "\n",
    "train_sequences_aug = [text_to_sequence(text, word_to_idx_aug) for text in tqdm(train_texts_for_w2v_retrain, desc=\"Train Seq (Aug)\")]\n",
    "val_texts_for_lstm_retrain = val_split_df['text_cleaned_sequential'].tolist()\n",
    "val_sequences_for_lstm_retrain = [text_to_sequence(text, word_to_idx_aug) for text in tqdm(val_texts_for_lstm_retrain, desc=\"Val Seq (for Aug Model)\")]\n",
    "\n",
    "train_seq_dataset_aug = SequenceDataset(train_sequences_aug, y_train_for_retrain, MAX_LEN)\n",
    "val_seq_dataset_for_aug_model = SequenceDataset(val_sequences_for_lstm_retrain, y_val_final, MAX_LEN)\n",
    "\n",
    "train_seq_loader_aug = DataLoader(train_seq_dataset_aug, batch_size=BATCH_SIZE, shuffle=True, collate_fn=collate_fn_for_w2v_lstm, num_workers=0)\n",
    "val_seq_loader_for_aug_model = DataLoader(val_seq_dataset_for_aug_model, batch_size=BATCH_SIZE, shuffle=False, collate_fn=collate_fn_for_w2v_lstm, num_workers=0)\n",
    "\n",
    "print(\"DataLoader'ы для переобучения LSTM созданы.\")\n",
    "\n",
    "model_w2v_lstm_aug = LSTMClassifier(\n",
    "    VOCAB_SIZE_AUG, W2V_VECTOR_SIZE_AUG, LSTM_HIDDEN_DIM_AUG, OUTPUT_DIM,\n",
    "    LSTM_LAYERS_AUG, LSTM_BIDIRECTIONAL_AUG, LSTM_DROPOUT_AUG, PAD_IDX_AUG,\n",
    "    pretrained_embeddings=embedding_matrix_aug, freeze_embeddings=FREEZE_EMBEDDINGS_W2V_LSTM_AUG\n",
    ").to(device)\n",
    "\n",
    "criterion_lstm_aug = nn.BCEWithLogitsLoss(pos_weight=pos_weight_aug_tensor).to(device)\n",
    "optimizer_lstm_aug = optim.AdamW(model_w2v_lstm_aug.parameters(), lr=1e-3)\n",
    "scheduler_lstm_aug = ReduceLROnPlateau(optimizer_lstm_aug, mode='max', factor=0.2, patience=1)\n",
    "\n",
    "BEST_MODEL_PATH_W2V_LSTM_AUG = os.path.join(MODEL_SAVE_DIR, \"w2v_lstm_augmented_best_model.pth\")\n",
    "best_val_auc_w2v_lstm_aug = -1.0\n",
    "early_stopping_counter_w2v_lstm_aug = 0\n",
    "train_losses_aug, val_losses_aug, train_aucs_aug, val_aucs_aug, lr_aug = [], [], [], [], []\n",
    "\n",
    "NUM_EPOCHS_AUG_RETRAIN = 15\n",
    "\n",
    "for epoch in range(NUM_EPOCHS_AUG_RETRAIN):\n",
    "    print(f\"\\n--- Эпоха {epoch + 1}/{NUM_EPOCHS_AUG_RETRAIN} (W2V+LSTM Аугментированная) ---\")\n",
    "    lr_aug.append(optimizer_lstm_aug.param_groups[0]['lr'])\n",
    "    print(f\"LR: {lr_aug[-1]:.6f}\")\n",
    "\n",
    "    train_loss, train_auc = train_loop(model_w2v_lstm_aug, train_seq_loader_aug, criterion_lstm_aug, optimizer_lstm_aug, device, is_rnn_or_cnn='rnn')\n",
    "    val_loss, val_auc = evaluate_loop(model_w2v_lstm_aug, val_seq_loader_for_aug_model, criterion_lstm_aug, device, is_rnn_or_cnn='rnn')\n",
    "\n",
    "    train_losses_aug.append(train_loss)\n",
    "    val_losses_aug.append(val_loss)\n",
    "    train_aucs_aug.append(train_auc)\n",
    "    val_aucs_aug.append(val_auc)\n",
    "\n",
    "    print(f\"Train Loss: {train_loss:.4f} | Train AUC: {train_auc:.4f}\")\n",
    "    print(f\"Val Loss:   {val_loss:.4f} | Val AUC:   {val_auc:.4f} (на исходной валидации)\")\n",
    "\n",
    "    scheduler_lstm_aug.step(val_auc)\n",
    "    if val_auc > best_val_auc_w2v_lstm_aug:\n",
    "        print(f\"Val AUC улучшился ({best_val_auc_w2v_lstm_aug:.4f} -> {val_auc:.4f}). Сохраняем...\")\n",
    "        best_val_auc_w2v_lstm_aug = val_auc\n",
    "        torch.save(model_w2v_lstm_aug.state_dict(), BEST_MODEL_PATH_W2V_LSTM_AUG)\n",
    "        early_stopping_counter_w2v_lstm_aug = 0\n",
    "    else:\n",
    "        early_stopping_counter_w2v_lstm_aug += 1\n",
    "\n",
    "    if early_stopping_counter_w2v_lstm_aug >= EARLY_STOPPING_PATIENCE:\n",
    "        print(f\"Ранняя остановка на эпохе {epoch + 1}.\")\n",
    "        break\n",
    "\n",
    "print(\"\\nПереобучение W2V+LSTM на аугментированных данных завершено.\")\n",
    "print(f\"Лучшая аугментированная модель сохранена в: {BEST_MODEL_PATH_W2V_LSTM_AUG} с Val AUC: {best_val_auc_w2v_lstm_aug:.4f}\")"
   ]
  },
  {
   "cell_type": "markdown",
   "metadata": {},
   "source": [
    "## TF-IDF + BERT_features + MLP"
   ]
  },
  {
   "cell_type": "code",
   "execution_count": 40,
   "metadata": {},
   "outputs": [
    {
     "name": "stdout",
     "output_type": "stream",
     "text": [
      "\n",
      "1. Извлечение TF-IDF признаков (на лемматизированных текстах)...\n",
      "TF-IDF признаки (Train): (21545, 20000)\n",
      "TF-IDF признаки (Val): (5422, 20000)\n",
      "\n",
      "2. Извлечение BERT признаков из cointegrated/rubert-base-cased-nli-threeway...\n"
     ]
    },
    {
     "data": {
      "application/vnd.jupyter.widget-view+json": {
       "model_id": "cec4cd48b71b4561aa788470cb13fc39",
       "version_major": 2,
       "version_minor": 0
      },
      "text/plain": [
       "Extracting BERT Embeddings:   0%|          | 0/2694 [00:00<?, ?it/s]"
      ]
     },
     "metadata": {},
     "output_type": "display_data"
    },
    {
     "data": {
      "application/vnd.jupyter.widget-view+json": {
       "model_id": "e32de55a405e4901bccfc63651257e88",
       "version_major": 2,
       "version_minor": 0
      },
      "text/plain": [
       "Extracting BERT Embeddings:   0%|          | 0/678 [00:00<?, ?it/s]"
      ]
     },
     "metadata": {},
     "output_type": "display_data"
    },
    {
     "name": "stdout",
     "output_type": "stream",
     "text": [
      "BERT признаки (Train): (21545, 768)\n",
      "BERT признаки (Val): (5422, 768)\n",
      "\n",
      "3. Конкатенация TF-IDF и BERT признаков...\n",
      "Объединенные признаки (Train, sparse): (21545, 20768)\n",
      "Объединенные признаки (Val, sparse): (5422, 20768)\n",
      "Общая размерность признаков: 20768\n",
      "\n",
      "4. Создание Dataset и DataLoader для объединенных признаков...\n",
      "DataLoaders для гибридной модели созданы.\n",
      "\n",
      "5. Обучение MLP на объединенных признаках...\n",
      "\n",
      "--- Эпоха 1/25 (Hybrid MLP) ---\n",
      "LR: 0.000100\n"
     ]
    },
    {
     "data": {
      "application/vnd.jupyter.widget-view+json": {
       "model_id": "9e2e3daa67de4165bdec2897dfc04d81",
       "version_major": 2,
       "version_minor": 0
      },
      "text/plain": [
       "Training:   0%|          | 0/337 [00:00<?, ?it/s]"
      ]
     },
     "metadata": {},
     "output_type": "display_data"
    },
    {
     "data": {
      "application/vnd.jupyter.widget-view+json": {
       "model_id": "2f9d35a5e6844bd7a6a94fd8410f20a7",
       "version_major": 2,
       "version_minor": 0
      },
      "text/plain": [
       "Evaluating:   0%|          | 0/85 [00:00<?, ?it/s]"
      ]
     },
     "metadata": {},
     "output_type": "display_data"
    },
    {
     "name": "stdout",
     "output_type": "stream",
     "text": [
      "Train Loss: 0.3778 | Train AUC: 0.7790\n",
      "Val Loss:   0.3073 | Val AUC:   0.8584\n",
      "Val AUC улучшился (-1.0000 -> 0.8584). Сохраняем...\n",
      "\n",
      "--- Эпоха 2/25 (Hybrid MLP) ---\n",
      "LR: 0.000100\n"
     ]
    },
    {
     "data": {
      "application/vnd.jupyter.widget-view+json": {
       "model_id": "66e3088820b3412eb95801373e105332",
       "version_major": 2,
       "version_minor": 0
      },
      "text/plain": [
       "Training:   0%|          | 0/337 [00:00<?, ?it/s]"
      ]
     },
     "metadata": {},
     "output_type": "display_data"
    },
    {
     "data": {
      "application/vnd.jupyter.widget-view+json": {
       "model_id": "66ed1303f8d14ea5b779a65f5a857283",
       "version_major": 2,
       "version_minor": 0
      },
      "text/plain": [
       "Evaluating:   0%|          | 0/85 [00:00<?, ?it/s]"
      ]
     },
     "metadata": {},
     "output_type": "display_data"
    },
    {
     "name": "stdout",
     "output_type": "stream",
     "text": [
      "Train Loss: 0.2947 | Train AUC: 0.8707\n",
      "Val Loss:   0.2771 | Val AUC:   0.8968\n",
      "Val AUC улучшился (0.8584 -> 0.8968). Сохраняем...\n",
      "\n",
      "--- Эпоха 3/25 (Hybrid MLP) ---\n",
      "LR: 0.000100\n"
     ]
    },
    {
     "data": {
      "application/vnd.jupyter.widget-view+json": {
       "model_id": "cfc909ea7b4246c88fcb4a39883725bf",
       "version_major": 2,
       "version_minor": 0
      },
      "text/plain": [
       "Training:   0%|          | 0/337 [00:00<?, ?it/s]"
      ]
     },
     "metadata": {},
     "output_type": "display_data"
    },
    {
     "data": {
      "application/vnd.jupyter.widget-view+json": {
       "model_id": "ec0e9742a58f46de81178c2a8b6b2dd2",
       "version_major": 2,
       "version_minor": 0
      },
      "text/plain": [
       "Evaluating:   0%|          | 0/85 [00:00<?, ?it/s]"
      ]
     },
     "metadata": {},
     "output_type": "display_data"
    },
    {
     "name": "stdout",
     "output_type": "stream",
     "text": [
      "Train Loss: 0.2718 | Train AUC: 0.8947\n",
      "Val Loss:   0.2614 | Val AUC:   0.9084\n",
      "Val AUC улучшился (0.8968 -> 0.9084). Сохраняем...\n",
      "\n",
      "--- Эпоха 4/25 (Hybrid MLP) ---\n",
      "LR: 0.000100\n"
     ]
    },
    {
     "data": {
      "application/vnd.jupyter.widget-view+json": {
       "model_id": "e1eecda402de46f79bae01ca5e06b5b0",
       "version_major": 2,
       "version_minor": 0
      },
      "text/plain": [
       "Training:   0%|          | 0/337 [00:00<?, ?it/s]"
      ]
     },
     "metadata": {},
     "output_type": "display_data"
    },
    {
     "data": {
      "application/vnd.jupyter.widget-view+json": {
       "model_id": "0d77e37d95224fd6be48d4a09b5c5b84",
       "version_major": 2,
       "version_minor": 0
      },
      "text/plain": [
       "Evaluating:   0%|          | 0/85 [00:00<?, ?it/s]"
      ]
     },
     "metadata": {},
     "output_type": "display_data"
    },
    {
     "name": "stdout",
     "output_type": "stream",
     "text": [
      "Train Loss: 0.2577 | Train AUC: 0.9069\n",
      "Val Loss:   0.2509 | Val AUC:   0.9158\n",
      "Val AUC улучшился (0.9084 -> 0.9158). Сохраняем...\n",
      "\n",
      "--- Эпоха 5/25 (Hybrid MLP) ---\n",
      "LR: 0.000100\n"
     ]
    },
    {
     "data": {
      "application/vnd.jupyter.widget-view+json": {
       "model_id": "3ba8b741feac4d86b3b388c06be836f0",
       "version_major": 2,
       "version_minor": 0
      },
      "text/plain": [
       "Training:   0%|          | 0/337 [00:00<?, ?it/s]"
      ]
     },
     "metadata": {},
     "output_type": "display_data"
    },
    {
     "data": {
      "application/vnd.jupyter.widget-view+json": {
       "model_id": "664e7908404447769b79b90e0477d087",
       "version_major": 2,
       "version_minor": 0
      },
      "text/plain": [
       "Evaluating:   0%|          | 0/85 [00:00<?, ?it/s]"
      ]
     },
     "metadata": {},
     "output_type": "display_data"
    },
    {
     "name": "stdout",
     "output_type": "stream",
     "text": [
      "Train Loss: 0.2470 | Train AUC: 0.9165\n",
      "Val Loss:   0.2424 | Val AUC:   0.9218\n",
      "Val AUC улучшился (0.9158 -> 0.9218). Сохраняем...\n",
      "\n",
      "--- Эпоха 6/25 (Hybrid MLP) ---\n",
      "LR: 0.000100\n"
     ]
    },
    {
     "data": {
      "application/vnd.jupyter.widget-view+json": {
       "model_id": "f23939c6c9fc49cd8229d6db589f42e9",
       "version_major": 2,
       "version_minor": 0
      },
      "text/plain": [
       "Training:   0%|          | 0/337 [00:00<?, ?it/s]"
      ]
     },
     "metadata": {},
     "output_type": "display_data"
    },
    {
     "data": {
      "application/vnd.jupyter.widget-view+json": {
       "model_id": "3219336c858944da80dfdd5adc50736a",
       "version_major": 2,
       "version_minor": 0
      },
      "text/plain": [
       "Evaluating:   0%|          | 0/85 [00:00<?, ?it/s]"
      ]
     },
     "metadata": {},
     "output_type": "display_data"
    },
    {
     "name": "stdout",
     "output_type": "stream",
     "text": [
      "Train Loss: 0.2383 | Train AUC: 0.9220\n",
      "Val Loss:   0.2358 | Val AUC:   0.9258\n",
      "Val AUC улучшился (0.9218 -> 0.9258). Сохраняем...\n",
      "\n",
      "--- Эпоха 7/25 (Hybrid MLP) ---\n",
      "LR: 0.000100\n"
     ]
    },
    {
     "data": {
      "application/vnd.jupyter.widget-view+json": {
       "model_id": "663dd7ce322542c8a5e08109a17f8449",
       "version_major": 2,
       "version_minor": 0
      },
      "text/plain": [
       "Training:   0%|          | 0/337 [00:00<?, ?it/s]"
      ]
     },
     "metadata": {},
     "output_type": "display_data"
    },
    {
     "data": {
      "application/vnd.jupyter.widget-view+json": {
       "model_id": "f01930d303544232ba96adf4d3241f11",
       "version_major": 2,
       "version_minor": 0
      },
      "text/plain": [
       "Evaluating:   0%|          | 0/85 [00:00<?, ?it/s]"
      ]
     },
     "metadata": {},
     "output_type": "display_data"
    },
    {
     "name": "stdout",
     "output_type": "stream",
     "text": [
      "Train Loss: 0.2307 | Train AUC: 0.9269\n",
      "Val Loss:   0.2300 | Val AUC:   0.9298\n",
      "Val AUC улучшился (0.9258 -> 0.9298). Сохраняем...\n",
      "\n",
      "--- Эпоха 8/25 (Hybrid MLP) ---\n",
      "LR: 0.000100\n"
     ]
    },
    {
     "data": {
      "application/vnd.jupyter.widget-view+json": {
       "model_id": "41a5e2cca2e149e5973361f440365802",
       "version_major": 2,
       "version_minor": 0
      },
      "text/plain": [
       "Training:   0%|          | 0/337 [00:00<?, ?it/s]"
      ]
     },
     "metadata": {},
     "output_type": "display_data"
    },
    {
     "data": {
      "application/vnd.jupyter.widget-view+json": {
       "model_id": "385c65a021bf4d6d9b4886ec9cda7ca4",
       "version_major": 2,
       "version_minor": 0
      },
      "text/plain": [
       "Evaluating:   0%|          | 0/85 [00:00<?, ?it/s]"
      ]
     },
     "metadata": {},
     "output_type": "display_data"
    },
    {
     "name": "stdout",
     "output_type": "stream",
     "text": [
      "Train Loss: 0.2242 | Train AUC: 0.9321\n",
      "Val Loss:   0.2254 | Val AUC:   0.9328\n",
      "Val AUC улучшился (0.9298 -> 0.9328). Сохраняем...\n",
      "\n",
      "--- Эпоха 9/25 (Hybrid MLP) ---\n",
      "LR: 0.000100\n"
     ]
    },
    {
     "data": {
      "application/vnd.jupyter.widget-view+json": {
       "model_id": "a1d308abd22c455fac80d2b21272698a",
       "version_major": 2,
       "version_minor": 0
      },
      "text/plain": [
       "Training:   0%|          | 0/337 [00:00<?, ?it/s]"
      ]
     },
     "metadata": {},
     "output_type": "display_data"
    },
    {
     "data": {
      "application/vnd.jupyter.widget-view+json": {
       "model_id": "9e74b3e83b8e4f68b20123a1e43c59c2",
       "version_major": 2,
       "version_minor": 0
      },
      "text/plain": [
       "Evaluating:   0%|          | 0/85 [00:00<?, ?it/s]"
      ]
     },
     "metadata": {},
     "output_type": "display_data"
    },
    {
     "name": "stdout",
     "output_type": "stream",
     "text": [
      "Train Loss: 0.2179 | Train AUC: 0.9361\n",
      "Val Loss:   0.2209 | Val AUC:   0.9357\n",
      "Val AUC улучшился (0.9328 -> 0.9357). Сохраняем...\n",
      "\n",
      "--- Эпоха 10/25 (Hybrid MLP) ---\n",
      "LR: 0.000100\n"
     ]
    },
    {
     "data": {
      "application/vnd.jupyter.widget-view+json": {
       "model_id": "c0edceea32b944e9b6fa8f92370608e6",
       "version_major": 2,
       "version_minor": 0
      },
      "text/plain": [
       "Training:   0%|          | 0/337 [00:00<?, ?it/s]"
      ]
     },
     "metadata": {},
     "output_type": "display_data"
    },
    {
     "data": {
      "application/vnd.jupyter.widget-view+json": {
       "model_id": "66a634c2022b4e38859f62c89f6f6be5",
       "version_major": 2,
       "version_minor": 0
      },
      "text/plain": [
       "Evaluating:   0%|          | 0/85 [00:00<?, ?it/s]"
      ]
     },
     "metadata": {},
     "output_type": "display_data"
    },
    {
     "name": "stdout",
     "output_type": "stream",
     "text": [
      "Train Loss: 0.2125 | Train AUC: 0.9400\n",
      "Val Loss:   0.2171 | Val AUC:   0.9379\n",
      "Val AUC улучшился (0.9357 -> 0.9379). Сохраняем...\n",
      "\n",
      "--- Эпоха 11/25 (Hybrid MLP) ---\n",
      "LR: 0.000100\n"
     ]
    },
    {
     "data": {
      "application/vnd.jupyter.widget-view+json": {
       "model_id": "ffd791afe94149d2bfb19e7c82fd98bb",
       "version_major": 2,
       "version_minor": 0
      },
      "text/plain": [
       "Training:   0%|          | 0/337 [00:00<?, ?it/s]"
      ]
     },
     "metadata": {},
     "output_type": "display_data"
    },
    {
     "data": {
      "application/vnd.jupyter.widget-view+json": {
       "model_id": "f22b1005bc4c44e68ce1c919f974bbac",
       "version_major": 2,
       "version_minor": 0
      },
      "text/plain": [
       "Evaluating:   0%|          | 0/85 [00:00<?, ?it/s]"
      ]
     },
     "metadata": {},
     "output_type": "display_data"
    },
    {
     "name": "stdout",
     "output_type": "stream",
     "text": [
      "Train Loss: 0.2071 | Train AUC: 0.9427\n",
      "Val Loss:   0.2133 | Val AUC:   0.9401\n",
      "Val AUC улучшился (0.9379 -> 0.9401). Сохраняем...\n",
      "\n",
      "--- Эпоха 12/25 (Hybrid MLP) ---\n",
      "LR: 0.000100\n"
     ]
    },
    {
     "data": {
      "application/vnd.jupyter.widget-view+json": {
       "model_id": "7d0777ffe3f240f3a7fe4d521870135c",
       "version_major": 2,
       "version_minor": 0
      },
      "text/plain": [
       "Training:   0%|          | 0/337 [00:00<?, ?it/s]"
      ]
     },
     "metadata": {},
     "output_type": "display_data"
    },
    {
     "data": {
      "application/vnd.jupyter.widget-view+json": {
       "model_id": "4d78ee62d5ea45d38172f753990c4ffe",
       "version_major": 2,
       "version_minor": 0
      },
      "text/plain": [
       "Evaluating:   0%|          | 0/85 [00:00<?, ?it/s]"
      ]
     },
     "metadata": {},
     "output_type": "display_data"
    },
    {
     "name": "stdout",
     "output_type": "stream",
     "text": [
      "Train Loss: 0.2028 | Train AUC: 0.9459\n",
      "Val Loss:   0.2103 | Val AUC:   0.9419\n",
      "Val AUC улучшился (0.9401 -> 0.9419). Сохраняем...\n",
      "\n",
      "--- Эпоха 13/25 (Hybrid MLP) ---\n",
      "LR: 0.000100\n"
     ]
    },
    {
     "data": {
      "application/vnd.jupyter.widget-view+json": {
       "model_id": "6b10e3f94aab441ba9a18c1396af9e95",
       "version_major": 2,
       "version_minor": 0
      },
      "text/plain": [
       "Training:   0%|          | 0/337 [00:00<?, ?it/s]"
      ]
     },
     "metadata": {},
     "output_type": "display_data"
    },
    {
     "data": {
      "application/vnd.jupyter.widget-view+json": {
       "model_id": "5460d69bb992476c9545359841bd27fa",
       "version_major": 2,
       "version_minor": 0
      },
      "text/plain": [
       "Evaluating:   0%|          | 0/85 [00:00<?, ?it/s]"
      ]
     },
     "metadata": {},
     "output_type": "display_data"
    },
    {
     "name": "stdout",
     "output_type": "stream",
     "text": [
      "Train Loss: 0.1981 | Train AUC: 0.9487\n",
      "Val Loss:   0.2070 | Val AUC:   0.9436\n",
      "Val AUC улучшился (0.9419 -> 0.9436). Сохраняем...\n",
      "\n",
      "--- Эпоха 14/25 (Hybrid MLP) ---\n",
      "LR: 0.000100\n"
     ]
    },
    {
     "data": {
      "application/vnd.jupyter.widget-view+json": {
       "model_id": "905630ab56534c5c9960b55a0d38e711",
       "version_major": 2,
       "version_minor": 0
      },
      "text/plain": [
       "Training:   0%|          | 0/337 [00:00<?, ?it/s]"
      ]
     },
     "metadata": {},
     "output_type": "display_data"
    },
    {
     "data": {
      "application/vnd.jupyter.widget-view+json": {
       "model_id": "32e3edb3218a41a885d6351521860ba7",
       "version_major": 2,
       "version_minor": 0
      },
      "text/plain": [
       "Evaluating:   0%|          | 0/85 [00:00<?, ?it/s]"
      ]
     },
     "metadata": {},
     "output_type": "display_data"
    },
    {
     "name": "stdout",
     "output_type": "stream",
     "text": [
      "Train Loss: 0.1943 | Train AUC: 0.9513\n",
      "Val Loss:   0.2050 | Val AUC:   0.9451\n",
      "Val AUC улучшился (0.9436 -> 0.9451). Сохраняем...\n",
      "\n",
      "--- Эпоха 15/25 (Hybrid MLP) ---\n",
      "LR: 0.000100\n"
     ]
    },
    {
     "data": {
      "application/vnd.jupyter.widget-view+json": {
       "model_id": "4bc88d931bc8450893b0bfe61d80a6e5",
       "version_major": 2,
       "version_minor": 0
      },
      "text/plain": [
       "Training:   0%|          | 0/337 [00:00<?, ?it/s]"
      ]
     },
     "metadata": {},
     "output_type": "display_data"
    },
    {
     "data": {
      "application/vnd.jupyter.widget-view+json": {
       "model_id": "ab99a3f0e01f47f8be421c56c9cf1feb",
       "version_major": 2,
       "version_minor": 0
      },
      "text/plain": [
       "Evaluating:   0%|          | 0/85 [00:00<?, ?it/s]"
      ]
     },
     "metadata": {},
     "output_type": "display_data"
    },
    {
     "name": "stdout",
     "output_type": "stream",
     "text": [
      "Train Loss: 0.1895 | Train AUC: 0.9537\n",
      "Val Loss:   0.2023 | Val AUC:   0.9465\n",
      "Val AUC улучшился (0.9451 -> 0.9465). Сохраняем...\n",
      "\n",
      "--- Эпоха 16/25 (Hybrid MLP) ---\n",
      "LR: 0.000100\n"
     ]
    },
    {
     "data": {
      "application/vnd.jupyter.widget-view+json": {
       "model_id": "38adc615ba1846f9bb0ccab52821d1ff",
       "version_major": 2,
       "version_minor": 0
      },
      "text/plain": [
       "Training:   0%|          | 0/337 [00:00<?, ?it/s]"
      ]
     },
     "metadata": {},
     "output_type": "display_data"
    },
    {
     "data": {
      "application/vnd.jupyter.widget-view+json": {
       "model_id": "6a6d5727de0542a3b82dba4eba997e79",
       "version_major": 2,
       "version_minor": 0
      },
      "text/plain": [
       "Evaluating:   0%|          | 0/85 [00:00<?, ?it/s]"
      ]
     },
     "metadata": {},
     "output_type": "display_data"
    },
    {
     "name": "stdout",
     "output_type": "stream",
     "text": [
      "Train Loss: 0.1858 | Train AUC: 0.9556\n",
      "Val Loss:   0.1997 | Val AUC:   0.9479\n",
      "Val AUC улучшился (0.9465 -> 0.9479). Сохраняем...\n",
      "\n",
      "--- Эпоха 17/25 (Hybrid MLP) ---\n",
      "LR: 0.000100\n"
     ]
    },
    {
     "data": {
      "application/vnd.jupyter.widget-view+json": {
       "model_id": "66baaf45b4a44759b8234b506ba3acce",
       "version_major": 2,
       "version_minor": 0
      },
      "text/plain": [
       "Training:   0%|          | 0/337 [00:00<?, ?it/s]"
      ]
     },
     "metadata": {},
     "output_type": "display_data"
    },
    {
     "data": {
      "application/vnd.jupyter.widget-view+json": {
       "model_id": "d5e297060f434d44bb87c3c88c7ae6c0",
       "version_major": 2,
       "version_minor": 0
      },
      "text/plain": [
       "Evaluating:   0%|          | 0/85 [00:00<?, ?it/s]"
      ]
     },
     "metadata": {},
     "output_type": "display_data"
    },
    {
     "name": "stdout",
     "output_type": "stream",
     "text": [
      "Train Loss: 0.1816 | Train AUC: 0.9580\n",
      "Val Loss:   0.1973 | Val AUC:   0.9492\n",
      "Val AUC улучшился (0.9479 -> 0.9492). Сохраняем...\n",
      "\n",
      "--- Эпоха 18/25 (Hybrid MLP) ---\n",
      "LR: 0.000100\n"
     ]
    },
    {
     "data": {
      "application/vnd.jupyter.widget-view+json": {
       "model_id": "4d89fa70de4c43fd911353d77a03b7fd",
       "version_major": 2,
       "version_minor": 0
      },
      "text/plain": [
       "Training:   0%|          | 0/337 [00:00<?, ?it/s]"
      ]
     },
     "metadata": {},
     "output_type": "display_data"
    },
    {
     "data": {
      "application/vnd.jupyter.widget-view+json": {
       "model_id": "de81a4c52add4c8fb3bf4c34d5f16a01",
       "version_major": 2,
       "version_minor": 0
      },
      "text/plain": [
       "Evaluating:   0%|          | 0/85 [00:00<?, ?it/s]"
      ]
     },
     "metadata": {},
     "output_type": "display_data"
    },
    {
     "name": "stdout",
     "output_type": "stream",
     "text": [
      "Train Loss: 0.1778 | Train AUC: 0.9602\n",
      "Val Loss:   0.1954 | Val AUC:   0.9504\n",
      "Val AUC улучшился (0.9492 -> 0.9504). Сохраняем...\n",
      "\n",
      "--- Эпоха 19/25 (Hybrid MLP) ---\n",
      "LR: 0.000100\n"
     ]
    },
    {
     "data": {
      "application/vnd.jupyter.widget-view+json": {
       "model_id": "45c0ef562af94156b878c7267388d5a5",
       "version_major": 2,
       "version_minor": 0
      },
      "text/plain": [
       "Training:   0%|          | 0/337 [00:00<?, ?it/s]"
      ]
     },
     "metadata": {},
     "output_type": "display_data"
    },
    {
     "data": {
      "application/vnd.jupyter.widget-view+json": {
       "model_id": "2e6a9599d14b42c1a54df8d3367334d6",
       "version_major": 2,
       "version_minor": 0
      },
      "text/plain": [
       "Evaluating:   0%|          | 0/85 [00:00<?, ?it/s]"
      ]
     },
     "metadata": {},
     "output_type": "display_data"
    },
    {
     "name": "stdout",
     "output_type": "stream",
     "text": [
      "Train Loss: 0.1748 | Train AUC: 0.9619\n",
      "Val Loss:   0.1937 | Val AUC:   0.9513\n",
      "Val AUC улучшился (0.9504 -> 0.9513). Сохраняем...\n",
      "\n",
      "--- Эпоха 20/25 (Hybrid MLP) ---\n",
      "LR: 0.000100\n"
     ]
    },
    {
     "data": {
      "application/vnd.jupyter.widget-view+json": {
       "model_id": "aef54fcd22be46399e48c69d8edc8a23",
       "version_major": 2,
       "version_minor": 0
      },
      "text/plain": [
       "Training:   0%|          | 0/337 [00:00<?, ?it/s]"
      ]
     },
     "metadata": {},
     "output_type": "display_data"
    },
    {
     "data": {
      "application/vnd.jupyter.widget-view+json": {
       "model_id": "98bf95a28c654043a5589769504090cb",
       "version_major": 2,
       "version_minor": 0
      },
      "text/plain": [
       "Evaluating:   0%|          | 0/85 [00:00<?, ?it/s]"
      ]
     },
     "metadata": {},
     "output_type": "display_data"
    },
    {
     "name": "stdout",
     "output_type": "stream",
     "text": [
      "Train Loss: 0.1705 | Train AUC: 0.9639\n",
      "Val Loss:   0.1917 | Val AUC:   0.9522\n",
      "Val AUC улучшился (0.9513 -> 0.9522). Сохраняем...\n",
      "\n",
      "--- Эпоха 21/25 (Hybrid MLP) ---\n",
      "LR: 0.000100\n"
     ]
    },
    {
     "data": {
      "application/vnd.jupyter.widget-view+json": {
       "model_id": "5c5368af70564397a4985589cecd5368",
       "version_major": 2,
       "version_minor": 0
      },
      "text/plain": [
       "Training:   0%|          | 0/337 [00:00<?, ?it/s]"
      ]
     },
     "metadata": {},
     "output_type": "display_data"
    },
    {
     "data": {
      "application/vnd.jupyter.widget-view+json": {
       "model_id": "790d69c7d8d74e46b8ad3d25179f050d",
       "version_major": 2,
       "version_minor": 0
      },
      "text/plain": [
       "Evaluating:   0%|          | 0/85 [00:00<?, ?it/s]"
      ]
     },
     "metadata": {},
     "output_type": "display_data"
    },
    {
     "name": "stdout",
     "output_type": "stream",
     "text": [
      "Train Loss: 0.1673 | Train AUC: 0.9654\n",
      "Val Loss:   0.1901 | Val AUC:   0.9534\n",
      "Val AUC улучшился (0.9522 -> 0.9534). Сохраняем...\n",
      "\n",
      "--- Эпоха 22/25 (Hybrid MLP) ---\n",
      "LR: 0.000100\n"
     ]
    },
    {
     "data": {
      "application/vnd.jupyter.widget-view+json": {
       "model_id": "e1c5767ad73a48b183068a9444b322eb",
       "version_major": 2,
       "version_minor": 0
      },
      "text/plain": [
       "Training:   0%|          | 0/337 [00:00<?, ?it/s]"
      ]
     },
     "metadata": {},
     "output_type": "display_data"
    },
    {
     "data": {
      "application/vnd.jupyter.widget-view+json": {
       "model_id": "22425bd41e004ba59e0e43ce0ff159b8",
       "version_major": 2,
       "version_minor": 0
      },
      "text/plain": [
       "Evaluating:   0%|          | 0/85 [00:00<?, ?it/s]"
      ]
     },
     "metadata": {},
     "output_type": "display_data"
    },
    {
     "name": "stdout",
     "output_type": "stream",
     "text": [
      "Train Loss: 0.1640 | Train AUC: 0.9666\n",
      "Val Loss:   0.1884 | Val AUC:   0.9542\n",
      "Val AUC улучшился (0.9534 -> 0.9542). Сохраняем...\n",
      "\n",
      "--- Эпоха 23/25 (Hybrid MLP) ---\n",
      "LR: 0.000100\n"
     ]
    },
    {
     "data": {
      "application/vnd.jupyter.widget-view+json": {
       "model_id": "1cee9eefffa44a329290a8b6cc0112e6",
       "version_major": 2,
       "version_minor": 0
      },
      "text/plain": [
       "Training:   0%|          | 0/337 [00:00<?, ?it/s]"
      ]
     },
     "metadata": {},
     "output_type": "display_data"
    },
    {
     "data": {
      "application/vnd.jupyter.widget-view+json": {
       "model_id": "0661af918b9340cbbd4377153439379d",
       "version_major": 2,
       "version_minor": 0
      },
      "text/plain": [
       "Evaluating:   0%|          | 0/85 [00:00<?, ?it/s]"
      ]
     },
     "metadata": {},
     "output_type": "display_data"
    },
    {
     "name": "stdout",
     "output_type": "stream",
     "text": [
      "Train Loss: 0.1611 | Train AUC: 0.9684\n",
      "Val Loss:   0.1872 | Val AUC:   0.9549\n",
      "Val AUC улучшился (0.9542 -> 0.9549). Сохраняем...\n",
      "\n",
      "--- Эпоха 24/25 (Hybrid MLP) ---\n",
      "LR: 0.000100\n"
     ]
    },
    {
     "data": {
      "application/vnd.jupyter.widget-view+json": {
       "model_id": "8220263ba8244c11aabf1e015600071f",
       "version_major": 2,
       "version_minor": 0
      },
      "text/plain": [
       "Training:   0%|          | 0/337 [00:00<?, ?it/s]"
      ]
     },
     "metadata": {},
     "output_type": "display_data"
    },
    {
     "data": {
      "application/vnd.jupyter.widget-view+json": {
       "model_id": "d8d0e147b87949b8ae3cb64e78729312",
       "version_major": 2,
       "version_minor": 0
      },
      "text/plain": [
       "Evaluating:   0%|          | 0/85 [00:00<?, ?it/s]"
      ]
     },
     "metadata": {},
     "output_type": "display_data"
    },
    {
     "name": "stdout",
     "output_type": "stream",
     "text": [
      "Train Loss: 0.1579 | Train AUC: 0.9698\n",
      "Val Loss:   0.1861 | Val AUC:   0.9557\n",
      "Val AUC улучшился (0.9549 -> 0.9557). Сохраняем...\n",
      "\n",
      "--- Эпоха 25/25 (Hybrid MLP) ---\n",
      "LR: 0.000100\n"
     ]
    },
    {
     "data": {
      "application/vnd.jupyter.widget-view+json": {
       "model_id": "56fe5bf3baab480f8c2a778b270f9cc5",
       "version_major": 2,
       "version_minor": 0
      },
      "text/plain": [
       "Training:   0%|          | 0/337 [00:00<?, ?it/s]"
      ]
     },
     "metadata": {},
     "output_type": "display_data"
    },
    {
     "data": {
      "application/vnd.jupyter.widget-view+json": {
       "model_id": "2dd4f335c03240ab9cf30fd7a87c6aea",
       "version_major": 2,
       "version_minor": 0
      },
      "text/plain": [
       "Evaluating:   0%|          | 0/85 [00:00<?, ?it/s]"
      ]
     },
     "metadata": {},
     "output_type": "display_data"
    },
    {
     "name": "stdout",
     "output_type": "stream",
     "text": [
      "Train Loss: 0.1548 | Train AUC: 0.9711\n",
      "Val Loss:   0.1845 | Val AUC:   0.9564\n",
      "Val AUC улучшился (0.9557 -> 0.9564). Сохраняем...\n",
      "\n",
      "Обучение гибридной модели TF-IDF+BERT_features+MLP завершено.\n",
      "Лучшая гибридная модель сохранена в: ./trained_models/hybrid_tfidf_bert_mlp_best_model.pth с Val AUC: 0.9564\n",
      "\n",
      "Отрисовка графиков для гибридной модели...\n"
     ]
    },
    {
     "data": {
      "image/png": "[encoded data removed]",
      "text/plain": [
       "<Figure size 1800x500 with 3 Axes>"
      ]
     },
     "metadata": {},
     "output_type": "display_data"
    },
    {
     "name": "stdout",
     "output_type": "stream",
     "text": [
      "\n",
      "Пайплайн гибридной модели TF-IDF + BERT_features + MLP завершен.\n"
     ]
    }
   ],
   "source": [
    "tokenizer_bert_features = AutoTokenizer.from_pretrained(BERT_MODEL_NAME_FOR_HYBRID_FEATURES)\n",
    "\n",
    "MODEL_PATHS[\"hybrid_tfidf_bert_mlp\"] = os.path.join(MODEL_SAVE_DIR, \"hybrid_tfidf_bert_mlp_best_model.pth\")\n",
    "\n",
    "print(\"\\n1. Извлечение TF-IDF признаков (на лемматизированных текстах)...\")\n",
    "X_train_tfidf_hybrid = tfidf_vectorizer.transform(train_split_df['text_cleaned_tfidf'])\n",
    "X_val_tfidf_hybrid = tfidf_vectorizer.transform(val_split_df['text_cleaned_tfidf'])\n",
    "TFIDF_FEATURE_DIM = X_train_tfidf_hybrid.shape[1]\n",
    "\n",
    "print(f\"TF-IDF признаки (Train): {X_train_tfidf_hybrid.shape}\")\n",
    "print(f\"TF-IDF признаки (Val): {X_val_tfidf_hybrid.shape}\")\n",
    "\n",
    "print(f\"\\n2. Извлечение BERT признаков из {BERT_MODEL_NAME_FOR_HYBRID_FEATURES}...\")\n",
    "bert_feature_extractor = AutoModel.from_pretrained(BERT_MODEL_NAME_FOR_HYBRID_FEATURES).to(device)\n",
    "bert_feature_extractor.eval()\n",
    "\n",
    "BERT_MAX_LEN_FEATURES = 256\n",
    "\n",
    "def get_bert_embeddings(texts, tokenizer, model, device, max_len, batch_size=32):\n",
    "    all_cls_embeddings = []\n",
    "    model.eval()\n",
    "    for i in tqdm(range(0, len(texts), batch_size), desc=\"Extracting BERT Embeddings\"):\n",
    "        batch_texts = texts[i:i+batch_size]\n",
    "        inputs = tokenizer(batch_texts, return_tensors=\"pt\", padding=\"max_length\", truncation=True, max_length=max_len)\n",
    "        inputs = {k: v.to(device) for k, v in inputs.items()}\n",
    "        with torch.no_grad():\n",
    "            outputs = model(**inputs)\n",
    "            cls_embeddings = outputs.last_hidden_state[:, 0, :].cpu().numpy()\n",
    "        all_cls_embeddings.append(cls_embeddings)\n",
    "    return np.concatenate(all_cls_embeddings, axis=0)\n",
    "\n",
    "train_bert_texts = train_split_df['text_cleaned_bert'].tolist()\n",
    "val_bert_texts = val_split_df['text_cleaned_bert'].tolist()\n",
    "\n",
    "X_train_bert_features = get_bert_embeddings(train_bert_texts, tokenizer_bert_features, bert_feature_extractor, device, BERT_MAX_LEN_FEATURES, batch_size=BERT_FEATURE_EXTRACTOR_BATCH_SIZE)\n",
    "X_val_bert_features = get_bert_embeddings(val_bert_texts, tokenizer_bert_features, bert_feature_extractor, device, BERT_MAX_LEN_FEATURES, batch_size=BERT_FEATURE_EXTRACTOR_BATCH_SIZE)\n",
    "BERT_FEATURE_DIM = X_train_bert_features.shape[1]\n",
    "\n",
    "print(f\"BERT признаки (Train): {X_train_bert_features.shape}\")\n",
    "print(f\"BERT признаки (Val): {X_val_bert_features.shape}\")\n",
    "\n",
    "print(\"\\n3. Конкатенация TF-IDF и BERT признаков...\")\n",
    "X_train_bert_sparse = csr_matrix(X_train_bert_features)\n",
    "X_val_bert_sparse = csr_matrix(X_val_bert_features)\n",
    "\n",
    "X_train_combined_sparse = sparse_hstack([X_train_tfidf_hybrid, X_train_bert_sparse], format='csr')\n",
    "X_val_combined_sparse = sparse_hstack([X_val_tfidf_hybrid, X_val_bert_sparse], format='csr')\n",
    "\n",
    "COMBINED_FEATURE_DIM = X_train_combined_sparse.shape[1]\n",
    "print(f\"Объединенные признаки (Train, sparse): {X_train_combined_sparse.shape}\")\n",
    "print(f\"Объединенные признаки (Val, sparse): {X_val_combined_sparse.shape}\")\n",
    "print(f\"Общая размерность признаков: {COMBINED_FEATURE_DIM}\")\n",
    "\n",
    "print(\"\\n4. Создание Dataset и DataLoader для объединенных признаков...\")\n",
    "train_dataset_hybrid = TfidfDataset(X_train_combined_sparse, y_train_final)\n",
    "val_dataset_hybrid = TfidfDataset(X_val_combined_sparse, y_val_final)\n",
    "\n",
    "train_loader_hybrid = DataLoader(train_dataset_hybrid, batch_size=BATCH_SIZE, shuffle=True, num_workers=0)\n",
    "val_loader_hybrid = DataLoader(val_dataset_hybrid, batch_size=BATCH_SIZE, shuffle=False, num_workers=0)\n",
    "print(\"DataLoaders для гибридной модели созданы.\")\n",
    "\n",
    "print(\"\\n5. Обучение MLP на объединенных признаках...\")\n",
    "model_hybrid_mlp = SimpleMLP(COMBINED_FEATURE_DIM, HYBRID_MLP_HIDDEN_DIM, OUTPUT_DIM).to(device)\n",
    "\n",
    "criterion_hybrid = nn.BCEWithLogitsLoss().to(device)\n",
    "optimizer_hybrid = optim.AdamW(model_hybrid_mlp.parameters(), lr=1e-4)\n",
    "scheduler_hybrid = ReduceLROnPlateau(optimizer_hybrid, mode='max', factor=0.2, patience=2)\n",
    "\n",
    "best_val_auc_hybrid = -1.0\n",
    "early_stopping_counter_hybrid = 0\n",
    "train_losses_hybrid, val_losses_hybrid, train_aucs_hybrid, val_aucs_hybrid, lr_hybrid = [], [], [], [], []\n",
    "NUM_EPOCHS_HYBRID = 25\n",
    "\n",
    "for epoch in range(NUM_EPOCHS_HYBRID):\n",
    "    print(f\"\\n--- Эпоха {epoch + 1}/{NUM_EPOCHS_HYBRID} (Hybrid MLP) ---\")\n",
    "    lr_hybrid.append(optimizer_hybrid.param_groups[0]['lr'])\n",
    "    print(f\"LR: {lr_hybrid[-1]:.6f}\")\n",
    "\n",
    "    train_loss, train_auc = train_loop(model_hybrid_mlp, train_loader_hybrid, criterion_hybrid, optimizer_hybrid, device, is_rnn_or_cnn=False)\n",
    "    val_loss, val_auc = evaluate_loop(model_hybrid_mlp, val_loader_hybrid, criterion_hybrid, device, is_rnn_or_cnn=False)\n",
    "    train_losses_hybrid.append(train_loss)\n",
    "    val_losses_hybrid.append(val_loss)\n",
    "    train_aucs_hybrid.append(train_auc)\n",
    "    val_aucs_hybrid.append(val_auc)\n",
    "\n",
    "    print(f\"Train Loss: {train_loss:.4f} | Train AUC: {train_auc:.4f}\")\n",
    "    print(f\"Val Loss:   {val_loss:.4f} | Val AUC:   {val_auc:.4f}\")\n",
    "\n",
    "    scheduler_hybrid.step(val_auc)\n",
    "    if val_auc > best_val_auc_hybrid:\n",
    "        print(f\"Val AUC улучшился ({best_val_auc_hybrid:.4f} -> {val_auc:.4f}). Сохраняем...\")\n",
    "        best_val_auc_hybrid = val_auc\n",
    "        torch.save(model_hybrid_mlp.state_dict(), MODEL_PATHS[\"hybrid_tfidf_bert_mlp\"])\n",
    "        early_stopping_counter_hybrid = 0\n",
    "    else:\n",
    "        early_stopping_counter_hybrid += 1\n",
    "\n",
    "    if early_stopping_counter_hybrid >= EARLY_STOPPING_PATIENCE:\n",
    "        print(f\"Ранняя остановка на эпохе {epoch + 1}.\")\n",
    "        break\n",
    "\n",
    "print(\"\\nОбучение гибридной модели TF-IDF+BERT_features+MLP завершено.\")\n",
    "print(f\"Лучшая гибридная модель сохранена в: {MODEL_PATHS['hybrid_tfidf_bert_mlp']} с Val AUC: {best_val_auc_hybrid:.4f}\")\n",
    "\n",
    "print(\"\\nОтрисовка графиков для гибридной модели...\")\n",
    "actual_epochs_hybrid = len(train_losses_hybrid)\n",
    "plt.figure(figsize=(18, 5))\n",
    "plt.subplot(1, 3, 1)\n",
    "plt.plot(range(1, actual_epochs_hybrid + 1), train_losses_hybrid, label='Train Loss')\n",
    "plt.plot(range(1, actual_epochs_hybrid + 1), val_losses_hybrid, label='Validation Loss')\n",
    "plt.xlabel('Эпоха')\n",
    "plt.ylabel('Loss')\n",
    "plt.title('Потери (Hybrid)')\n",
    "plt.legend()\n",
    "plt.grid(True)\n",
    "\n",
    "plt.subplot(1, 3, 2)\n",
    "plt.plot(range(1, actual_epochs_hybrid + 1), train_aucs_hybrid, label='Train AUC')\n",
    "plt.plot(range(1, actual_epochs_hybrid + 1), val_aucs_hybrid, label='Validation AUC')\n",
    "plt.xlabel('Эпоха')\n",
    "plt.ylabel('AUC')\n",
    "plt.title('AUC ROC (Hybrid)')\n",
    "plt.legend()\n",
    "plt.grid(True)\n",
    "\n",
    "plt.subplot(1, 3, 3)\n",
    "plt.plot(range(1, actual_epochs_hybrid + 1), lr_hybrid, label='Learning Rate', marker='o')\n",
    "plt.xlabel('Эпоха')\n",
    "plt.ylabel('LR')\n",
    "plt.title('LR (Hybrid)')\n",
    "plt.yscale('log')\n",
    "plt.legend()\n",
    "plt.grid(True)\n",
    "\n",
    "plt.tight_layout()\n",
    "plt.show()\n",
    "\n",
    "print(\"\\nПайплайн гибридной модели TF-IDF + BERT_features + MLP завершен.\")"
   ]
  },
  {
   "cell_type": "markdown",
   "metadata": {},
   "source": [
    "## Ансамблирование (с оптимизацией весов), оптимизация порога и генерация сабмита"
   ]
  },
  {
   "cell_type": "code",
   "execution_count": 41,
   "metadata": {},
   "outputs": [
    {
     "name": "stdout",
     "output_type": "stream",
     "text": [
      "Создание ансамбля из моделей: ['tfidf_mlp', 'w2v_lstm']\n",
      "Используемое устройство: mps\n",
      "\n",
      "1. Получение предсказаний на ВАЛИДАЦИИ от каждой модели ансамбля...\n",
      "Размер ожидаемых меток валидации (y_val_final): (5422, 20)\n",
      "\n",
      "  Обработка валидации для: tfidf_mlp\n"
     ]
    },
    {
     "data": {
      "application/vnd.jupyter.widget-view+json": {
       "model_id": "d0b7e392a4bc436aade3f08f2dc06015",
       "version_major": 2,
       "version_minor": 0
      },
      "text/plain": [
       "Infer: SimpleMLP:   0%|          | 0/85 [00:00<?, ?it/s]"
      ]
     },
     "metadata": {},
     "output_type": "display_data"
    },
    {
     "name": "stdout",
     "output_type": "stream",
     "text": [
      "  Вероятности для tfidf_mlp на валидации получены: (5422, 20)\n",
      "\n",
      "  Обработка валидации для: w2v_lstm\n"
     ]
    },
    {
     "data": {
      "application/vnd.jupyter.widget-view+json": {
       "model_id": "8abd5fb36fe84526b22694b7e90d7349",
       "version_major": 2,
       "version_minor": 0
      },
      "text/plain": [
       "Infer: LSTMClassifier:   0%|          | 0/85 [00:00<?, ?it/s]"
      ]
     },
     "metadata": {},
     "output_type": "display_data"
    },
    {
     "name": "stdout",
     "output_type": "stream",
     "text": [
      "  Вероятности для w2v_lstm на валидации получены: (5422, 20)\n",
      "\n",
      "2. Подбор оптимальных весов ансамбля на валидации...\n",
      "  Запуск оптимизации весов для 2 моделей...\n",
      "  Оптимальные веса ансамбля: [0.5 0.5]\n",
      "  AUC на валидации с выбранными весами (и глоб. порогом 0.5): 0.8589\n",
      "\n",
      "3. Оптимизация ОБЩЕГО порога для взвешенных вероятностей ансамбля...\n"
     ]
    },
    {
     "data": {
      "application/vnd.jupyter.widget-view+json": {
       "model_id": "125857826f444491ba891b5e42246ab2",
       "version_major": 2,
       "version_minor": 0
      },
      "text/plain": [
       "Optimizing Global Ensemble Threshold:   0%|          | 0/91 [00:00<?, ?it/s]"
      ]
     },
     "metadata": {},
     "output_type": "display_data"
    },
    {
     "name": "stdout",
     "output_type": "stream",
     "text": [
      "\n",
      "Оптимальный ОБЩИЙ порог для ансамбля: 0.40\n",
      "Итоговый Macro AUC на валидации (с опт. весами и опт. ОБЩИМ порогом): 0.8671\n"
     ]
    },
    {
     "data": {
      "image/png": "[encoded data removed]",
      "text/plain": [
       "<Figure size 800x500 with 1 Axes>"
      ]
     },
     "metadata": {},
     "output_type": "display_data"
    },
    {
     "name": "stdout",
     "output_type": "stream",
     "text": [
      "\n",
      "4. Получение предсказаний на ТЕСТЕ от каждой модели ансамбля...\n",
      "\n",
      "  Обработка теста для: tfidf_mlp\n"
     ]
    },
    {
     "data": {
      "application/vnd.jupyter.widget-view+json": {
       "model_id": "c2862173d760498884d7a4a26e41d512",
       "version_major": 2,
       "version_minor": 0
      },
      "text/plain": [
       "  0%|          | 0/7392 [00:00<?, ?it/s]"
      ]
     },
     "metadata": {},
     "output_type": "display_data"
    },
    {
     "data": {
      "application/vnd.jupyter.widget-view+json": {
       "model_id": "84203ccb13f34c4289d1786f5df0761d",
       "version_major": 2,
       "version_minor": 0
      },
      "text/plain": [
       "Infer: SimpleMLP:   0%|          | 0/58 [00:00<?, ?it/s]"
      ]
     },
     "metadata": {},
     "output_type": "display_data"
    },
    {
     "name": "stdout",
     "output_type": "stream",
     "text": [
      "  Вероятности для tfidf_mlp на тесте получены: (7392, 20)\n",
      "\n",
      "  Обработка теста для: w2v_lstm\n"
     ]
    },
    {
     "data": {
      "application/vnd.jupyter.widget-view+json": {
       "model_id": "38e242c2122d49bba6ebdca5858636c9",
       "version_major": 2,
       "version_minor": 0
      },
      "text/plain": [
       "  0%|          | 0/7392 [00:00<?, ?it/s]"
      ]
     },
     "metadata": {},
     "output_type": "display_data"
    },
    {
     "data": {
      "application/vnd.jupyter.widget-view+json": {
       "model_id": "d12b00ed4b7e4003824213332ea6995f",
       "version_major": 2,
       "version_minor": 0
      },
      "text/plain": [
       "Test Seq (w2v_lstm):   0%|          | 0/7392 [00:00<?, ?it/s]"
      ]
     },
     "metadata": {},
     "output_type": "display_data"
    },
    {
     "data": {
      "application/vnd.jupyter.widget-view+json": {
       "model_id": "8606449684cb4f73980f7fed17e317e8",
       "version_major": 2,
       "version_minor": 0
      },
      "text/plain": [
       "Infer: LSTMClassifier:   0%|          | 0/58 [00:00<?, ?it/s]"
      ]
     },
     "metadata": {},
     "output_type": "display_data"
    },
    {
     "name": "stdout",
     "output_type": "stream",
     "text": [
      "  Вероятности для w2v_lstm на тесте получены: (7392, 20)\n",
      "\n",
      "5. Применение оптимальных весов к тестовым вероятностям...\n",
      "Форма взвешенных тестовых вероятностей: (7392, 20)\n",
      "\n",
      "6. Формирование файла сабмита для ансамбля с оптимальными весами и ОБЩИМ порогом 0.40...\n",
      "Формат сабмита (взвешенный ансамбль с общим опт. порогом) корректен. Размер: (7392, 2)\n",
      "Файл сабмита сохранен как: submission_ensemble_tfidf_mlp_w2v_lstm_WEIGHTED_GLOBAL_THR.csv\n",
      "\n",
      "Процесс ансамблирования (с оптимизацией весов и ОБЩЕГО порога) и генерации сабмита завершен.\n"
     ]
    }
   ],
   "source": [
    "# --- Вспомогательные функции для получения предсказаний ---\n",
    "\n",
    "def get_bert_predictions_from_trainer(model_path, hf_dataset, device, model_key_for_config, default_bert_batch_size, num_workers):\n",
    "    \"\"\"Получает предсказания от BERT-подобной модели с использованием Trainer.\"\"\"\n",
    "    _compute_metrics_fn = globals().get('compute_metrics', None)\n",
    "    \n",
    "    model = AutoModelForSequenceClassification.from_pretrained(model_path).to(device)\n",
    "    \n",
    "    # Генерация уникального имени для временной папки\n",
    "    safe_model_key_str = str(model_key_for_config).replace('/', '_')\n",
    "    temp_output_dir = f\"./temp_predict_dir_{safe_model_key_str}_{np.random.randint(100000)}\"\n",
    "\n",
    "    trainer_args = TrainingArguments(\n",
    "        output_dir=temp_output_dir,\n",
    "        per_device_eval_batch_size=globals().get(str(model_key_for_config).upper() + '_BATCH_SIZE', default_bert_batch_size) * 2,\n",
    "        report_to=\"none\",\n",
    "        dataloader_num_workers=num_workers,\n",
    "        disable_tqdm=True,\n",
    "        logging_steps=1_000_000,\n",
    "        eval_strategy=\"no\", \n",
    "    )\n",
    "    trainer = Trainer(model=model, args=trainer_args, compute_metrics=_compute_metrics_fn)\n",
    "    \n",
    "    predictions_output = trainer.predict(hf_dataset)\n",
    "    probas = 1 / (1 + np.exp(-predictions_output.predictions))\n",
    "    \n",
    "    if os.path.exists(temp_output_dir):\n",
    "        shutil.rmtree(temp_output_dir)\n",
    "        \n",
    "    del model, trainer_args, trainer, predictions_output\n",
    "    return probas\n",
    "\n",
    "def get_pytorch_model_predictions(model_instance, dataloader, device, model_type_hint):\n",
    "    \"\"\"Получает предсказания от обычной PyTorch модели (MLP, RNN, CNN).\"\"\"\n",
    "    model_instance.eval()\n",
    "    all_probas_list = []\n",
    "    with torch.no_grad():\n",
    "        for batch_data in tqdm(dataloader, desc=f\"Infer: {model_instance.__class__.__name__}\", leave=False):\n",
    "            if model_type_hint == 'rnn':\n",
    "                sequences, _, lengths = batch_data\n",
    "                outputs = model_instance(sequences.to(device), lengths)\n",
    "            elif model_type_hint == 'cnn':\n",
    "                sequences, _, _ = batch_data\n",
    "                outputs = model_instance(sequences.to(device))\n",
    "            else:  # 'mlp'\n",
    "                features, _ = batch_data\n",
    "                outputs = model_instance(features.to(device))\n",
    "            all_probas_list.append(torch.sigmoid(outputs).cpu().numpy())\n",
    "    return np.concatenate(all_probas_list, axis=0)\n",
    "\n",
    "MODELS_FOR_ENSEMBLE = ['tfidf_mlp', 'w2v_lstm']\n",
    "# Возможные ключи: \"tfidf_mlp\", \"w2v_lstm\", \"cnn_emb\", \"rnn_emb\",\n",
    "# \"bert_tiny\", \"w2v_lstm_augmented\", \"hybrid_tfidf_bert_mlp\", \"berta_classifier_v1\", \"berta_classifier_v2\"\n",
    "\n",
    "ensemble_name_suffix = \"_\".join(sorted(MODELS_FOR_ENSEMBLE)) + \"_WEIGHTED_GLOBAL_THR\"\n",
    "SUBMISSION_FILENAME = f\"submission_ensemble_{ensemble_name_suffix}.csv\"\n",
    "\n",
    "print(f\"Создание ансамбля из моделей: {MODELS_FOR_ENSEMBLE}\")\n",
    "print(f\"Используемое устройство: {device}\") # 'device' должен быть определен глобально\n",
    "\n",
    "# --- Шаг 1: Получение предсказаний (вероятностей) на ВАЛИДАЦИИ от каждой модели ---\n",
    "print(\"\\n1. Получение предсказаний на ВАЛИДАЦИИ от каждой модели ансамбля...\")\n",
    "all_val_probas_list = []\n",
    "\n",
    "if 'y_val_final' not in globals(): raise NameError(\"y_val_final (метки валидации) не найден!\")\n",
    "val_targets_np = y_val_final\n",
    "val_targets_for_auc_tensor = torch.from_numpy(val_targets_np).float()\n",
    "print(f\"Размер ожидаемых меток валидации (y_val_final): {val_targets_np.shape}\")\n",
    "\n",
    "for model_key in MODELS_FOR_ENSEMBLE:\n",
    "    print(f\"\\n  Обработка валидации для: {model_key}\")\n",
    "    model_path = MODEL_PATHS[model_key]\n",
    "    if not os.path.exists(model_path):\n",
    "         raise FileNotFoundError(f\"Файл или папка модели не найдены: {model_path} для {model_key}\")\n",
    "    \n",
    "    current_val_probas_np = None\n",
    "\n",
    "    if model_key in [\"bert_tiny\", \"berta_classifier_v1\", \"berta_classifier_v2\"]: # BERT-подобные модели\n",
    "        _current_hf_val_dataset = None\n",
    "        if model_key == \"bert_tiny\":\n",
    "            if 'tokenized_val_dataset' not in globals(): raise NameError(\"tokenized_val_dataset для bert_tiny не найден!\")\n",
    "            _current_hf_val_dataset = tokenized_val_dataset\n",
    "        elif model_key == \"berta_classifier_v1\":\n",
    "            if 'tokenized_val_dataset_berta_v1' in globals():\n",
    "                 _current_hf_val_dataset = tokenized_val_dataset_berta_v1\n",
    "            elif 'tokenized_val_dataset_berta' in globals():\n",
    "                 _current_hf_val_dataset = tokenized_val_dataset_berta\n",
    "            else:\n",
    "                raise NameError(f\"tokenized_val_dataset_berta (или _v2) для {model_key} не найден!\")\n",
    "        elif model_key == \"berta_classifier_v2\":\n",
    "            if 'tokenized_val_dataset_berta_v2' not in globals():\n",
    "                raise NameError(f\"tokenized_val_dataset_berta_v2 для {model_key} не найден!\")\n",
    "            _current_hf_val_dataset = tokenized_val_dataset_berta_v2\n",
    "            \n",
    "            # model_path будет MODEL_PATHS[\"berta_classifier_v2\"]\n",
    "            current_val_probas_np = get_bert_predictions_from_trainer(\n",
    "                model_path, \n",
    "                _current_hf_val_dataset, \n",
    "                device, \n",
    "                model_key, # Передаем сам ключ\n",
    "                globals().get('BERTA_V2_BATCH_SIZE_PER_DEVICE', globals().get('BERT_FEATURE_EXTRACTOR_BATCH_SIZE', 16)), # Используем специфичный батч или дефолт\n",
    "                NUM_WORKERS_ENSEMBLE_TEST\n",
    "            )\n",
    "        \n",
    "        current_val_probas_np = get_bert_predictions_from_trainer(\n",
    "            model_path, _current_hf_val_dataset, device, model_key, \n",
    "            globals().get('BERT_BATCH_SIZE', 16), NUM_WORKERS_ENSEMBLE_TEST\n",
    "        )\n",
    "    else: # Другие PyTorch модели (MLP, LSTM, CNN, Hybrid)\n",
    "        model_instance = None\n",
    "        current_val_loader = None\n",
    "        model_type_hint = '' # 'mlp', 'rnn', 'cnn'\n",
    "\n",
    "        # Предполагается, что все переменные (val_loader_tfidf, INPUT_DIM и т.д.) определены глобально\n",
    "        if model_key == \"tfidf_mlp\":\n",
    "            if 'val_loader_tfidf' not in globals(): raise NameError(\"val_loader_tfidf не определен!\")\n",
    "            current_val_loader = val_loader_tfidf\n",
    "            model_instance = SimpleMLP(INPUT_DIM, HIDDEN_DIM_MLP, OUTPUT_DIM).to(device)\n",
    "            model_type_hint = 'mlp'\n",
    "        elif model_key == \"w2v_lstm\":\n",
    "            if 'val_seq_loader' not in globals(): raise NameError(\"val_seq_loader не определен!\")\n",
    "            current_val_loader = val_seq_loader\n",
    "            model_instance = LSTMClassifier(VOCAB_SIZE, W2V_VECTOR_SIZE, LSTM_HIDDEN_DIM, OUTPUT_DIM, LSTM_LAYERS, LSTM_BIDIRECTIONAL, LSTM_DROPOUT, PAD_IDX).to(device)\n",
    "            model_type_hint = 'rnn'\n",
    "        elif model_key == \"cnn_emb\":\n",
    "            if 'val_seq_loader' not in globals(): raise NameError(\"val_seq_loader не определен!\")\n",
    "            current_val_loader = val_seq_loader\n",
    "            model_instance = TextCNN(VOCAB_SIZE, CNN_EMBEDDING_DIM, N_FILTERS, FILTER_SIZES, OUTPUT_DIM, CNN_DROPOUT, PAD_IDX).to(device)\n",
    "            model_type_hint = 'cnn'\n",
    "        elif model_key == \"rnn_emb\":\n",
    "            if 'val_seq_loader' not in globals(): raise NameError(\"val_seq_loader не определен!\")\n",
    "            current_val_loader = val_seq_loader\n",
    "            model_instance = LSTMClassifierTrainableEmb(VOCAB_SIZE, RNN_TE_EMBEDDING_DIM, RNN_TE_HIDDEN_DIM, OUTPUT_DIM, RNN_TE_LAYERS, RNN_TE_BIDIRECTIONAL, RNN_TE_DROPOUT, PAD_IDX).to(device)\n",
    "            model_type_hint = 'rnn'\n",
    "        elif model_key == \"w2v_lstm_augmented\":\n",
    "            if 'val_seq_loader_for_aug_model' not in globals(): raise NameError(\"val_seq_loader_for_aug_model не определен!\")\n",
    "            current_val_loader = val_seq_loader_for_aug_model\n",
    "            model_instance = LSTMClassifier(VOCAB_SIZE_AUG, W2V_VECTOR_SIZE_AUG, LSTM_HIDDEN_DIM_AUG, OUTPUT_DIM, LSTM_LAYERS_AUG, LSTM_BIDIRECTIONAL_AUG, LSTM_DROPOUT_AUG, PAD_IDX_AUG).to(device)\n",
    "            model_type_hint = 'rnn'\n",
    "        elif model_key == \"hybrid_tfidf_bert_mlp\":\n",
    "            if 'val_loader_hybrid' not in globals(): raise NameError(\"val_loader_hybrid не определен!\")\n",
    "            current_val_loader = val_loader_hybrid\n",
    "            model_instance = SimpleMLP(COMBINED_FEATURE_DIM, HYBRID_MLP_HIDDEN_DIM, OUTPUT_DIM).to(device)\n",
    "            model_type_hint = 'mlp'\n",
    "        else:\n",
    "            raise ValueError(f\"Логика загрузки для валидации модели {model_key} не определена.\")\n",
    "\n",
    "        model_instance.load_state_dict(torch.load(model_path, map_location=device))\n",
    "        current_val_probas_np = get_pytorch_model_predictions(model_instance, current_val_loader, device, model_type_hint)\n",
    "        del model_instance\n",
    "\n",
    "    if current_val_probas_np is None:\n",
    "        raise RuntimeError(f\"Не удалось получить val_preds_proba для {model_key}\")\n",
    "    if current_val_probas_np.shape[0] != val_targets_np.shape[0]:\n",
    "        raise ValueError(f\"Размер val_preds_proba ({current_val_probas_np.shape[0]}) для {model_key} не совпадает с val_targets ({val_targets_np.shape[0]})\")\n",
    "    \n",
    "    all_val_probas_list.append(current_val_probas_np)\n",
    "    print(f\"  Вероятности для {model_key} на валидации получены: {current_val_probas_np.shape}\")\n",
    "    \n",
    "    if torch.backends.mps.is_available(): torch.mps.empty_cache()\n",
    "    elif torch.cuda.is_available(): torch.cuda.empty_cache()\n",
    "    gc.collect()\n",
    "\n",
    "if len(all_val_probas_list) != len(MODELS_FOR_ENSEMBLE):\n",
    "    raise RuntimeError(\"Не удалось получить предсказания для ВСЕХ моделей ансамбля на валидации.\")\n",
    "val_probas_stack_np = np.array(all_val_probas_list)\n",
    "\n",
    "# --- Шаг 2: Подбор оптимальных весов ансамбля на валидации ---\n",
    "print(\"\\n2. Подбор оптимальных весов ансамбля на валидации...\")\n",
    "# calculate_auc должна быть определена глобально\n",
    "def roc_auc_for_weighted_ensemble(weights, probas_stack, targets_tensor_for_auc, global_threshold=0.5):\n",
    "    weighted_probas = np.tensordot(np.array(weights), probas_stack, axes=([0],[0]))\n",
    "    # При оптимизации весов, используем вероятности напрямую или бинаризованные с фиксированным порогом.\n",
    "    # Для финального AUC лучше использовать вероятности, но для оптимизации весов с порогом - бинаризованные.\n",
    "    # Оригинальный код использовал бинаризованные.\n",
    "    preds_binary = (weighted_probas >= global_threshold).astype(int)\n",
    "    auc_score = calculate_auc(targets_tensor_for_auc, torch.from_numpy(preds_binary).float())\n",
    "    return -auc_score # Минимизируем отрицательный AUC\n",
    "\n",
    "num_models_in_ensemble = len(MODELS_FOR_ENSEMBLE)\n",
    "initial_weights = np.array([1.0 / num_models_in_ensemble] * num_models_in_ensemble)\n",
    "bounds_weights = [(0.0, 1.0)] * num_models_in_ensemble # Веса от 0 до 1\n",
    "constraints_weights = ({'type': 'eq', 'fun': lambda w: np.sum(w) - 1.0}) # Сумма весов равна 1\n",
    "\n",
    "print(f\"  Запуск оптимизации весов для {num_models_in_ensemble} моделей...\")\n",
    "optimization_result = minimize(\n",
    "    roc_auc_for_weighted_ensemble, initial_weights,\n",
    "    args=(val_probas_stack_np, val_targets_for_auc_tensor, 0.5), # Оптимизируем с порогом 0.5\n",
    "    method='SLSQP', bounds=bounds_weights, constraints=constraints_weights,\n",
    "    options={'disp': False, 'ftol': 1e-7, 'maxiter': 200 + num_models_in_ensemble * 50}\n",
    ")\n",
    "\n",
    "if optimization_result.success:\n",
    "    best_ensemble_weights = np.clip(optimization_result.x, 0, 1)\n",
    "    if np.sum(best_ensemble_weights) < 1e-6 : # Если все веса близки к нулю\n",
    "        best_ensemble_weights = initial_weights\n",
    "        print(\"  Оптимизация дала нулевые веса, используем равные веса.\")\n",
    "    else:\n",
    "        best_ensemble_weights = best_ensemble_weights / np.sum(best_ensemble_weights) # Нормализуем\n",
    "    print(f\"  Оптимальные веса ансамбля: {best_ensemble_weights}\")\n",
    "else:\n",
    "    print(f\"  Оптимизация весов не удалась. Используем равные веса.\")\n",
    "    best_ensemble_weights = initial_weights\n",
    "\n",
    "auc_at_optimal_weights_thr05 = -roc_auc_for_weighted_ensemble(best_ensemble_weights, val_probas_stack_np, val_targets_for_auc_tensor, 0.5)\n",
    "print(f\"  AUC на валидации с выбранными весами (и глоб. порогом 0.5): {auc_at_optimal_weights_thr05:.4f}\")\n",
    "weighted_avg_val_proba_np = np.tensordot(best_ensemble_weights, val_probas_stack_np, axes=([0],[0]))\n",
    "\n",
    "# --- Шаг 3: Оптимизация ОДНОГО ОБЩЕГО порога для взвешенных вероятностей ансамбля ---\n",
    "print(\"\\n3. Оптимизация ОБЩЕГО порога для взвешенных вероятностей ансамбля...\")\n",
    "best_global_threshold_ensemble = 0.5\n",
    "best_val_auc_for_global_threshold = -1.0\n",
    "auc_by_global_threshold_ensemble = []\n",
    "thresholds_to_check_global = np.arange(0.05, 0.96, 0.01) # Диапазон порогов\n",
    "\n",
    "for threshold_val in tqdm(thresholds_to_check_global, desc=\"Optimizing Global Ensemble Threshold\"):\n",
    "    val_preds_binary_ensemble = (weighted_avg_val_proba_np >= threshold_val).astype(int)\n",
    "    current_auc_ensemble = calculate_auc(val_targets_for_auc_tensor, torch.from_numpy(val_preds_binary_ensemble).float())\n",
    "    auc_by_global_threshold_ensemble.append(current_auc_ensemble)\n",
    "    if current_auc_ensemble > best_val_auc_for_global_threshold:\n",
    "        best_val_auc_for_global_threshold = current_auc_ensemble\n",
    "        best_global_threshold_ensemble = threshold_val\n",
    "\n",
    "print(f\"\\nОптимальный ОБЩИЙ порог для ансамбля: {best_global_threshold_ensemble:.2f}\")\n",
    "print(f\"Итоговый Macro AUC на валидации (с опт. весами и опт. ОБЩИМ порогом): {best_val_auc_for_global_threshold:.4f}\")\n",
    "\n",
    "plt.figure(figsize=(8,5))\n",
    "plt.plot(thresholds_to_check_global, auc_by_global_threshold_ensemble, marker='.')\n",
    "plt.xlabel(\"Общий Порог\")\n",
    "plt.ylabel(\"Macro AUC (Val)\")\n",
    "plt.title(f\"Оптимизация Общего Порога для Взвешенного Ансамбля\")\n",
    "plt.grid(True)\n",
    "plt.axvline(best_global_threshold_ensemble, color='r', linestyle='--', label=f'Лучший = {best_global_threshold_ensemble:.2f}\\nAUC = {best_val_auc_for_global_threshold:.4f}')\n",
    "plt.legend()\n",
    "plt.show()\n",
    "\n",
    "# --- Шаг 4: Получение предсказаний на ТЕСТЕ от каждой модели ансамбля ---\n",
    "print(\"\\n4. Получение предсказаний на ТЕСТЕ от каждой модели ансамбля...\")\n",
    "all_test_probas_list = []\n",
    "# DATA_PATH должен быть определен глобально\n",
    "test_df_orig = pd.read_csv(os.path.join(DATA_PATH, 'test.csv'))\n",
    "sample_submission_df = pd.read_csv(os.path.join(DATA_PATH, 'sample_submission.csv'))\n",
    "test_ids = test_df_orig['id'].tolist()\n",
    "test_df_processed = test_df_orig.copy() # Копия для добавления обработанных текстов\n",
    "\n",
    "for model_key in MODELS_FOR_ENSEMBLE:\n",
    "    print(f\"\\n  Обработка теста для: {model_key}\")\n",
    "    model_path = MODEL_PATHS[model_key]\n",
    "    if not os.path.exists(model_path):\n",
    "        raise FileNotFoundError(f\"Файл или папка модели не найдены: {model_path} для {model_key}\")\n",
    "    \n",
    "    current_test_probas_np = None\n",
    "\n",
    "    if model_key in [\"bert_tiny\", \"berta_classifier_v1\"]:\n",
    "        _current_tokenizer_test = AutoTokenizer.from_pretrained(model_path) # Токенизатор из папки модели\n",
    "        \n",
    "        if 'text_cleaned_bert' not in test_df_processed.columns: # clean_text_for_bert должен быть глобальным\n",
    "            test_df_processed['text_cleaned_bert'] = test_df_processed['text'].progress_apply(clean_text_for_bert)\n",
    "        \n",
    "        _max_len_current_bert = BERT_MAX_LEN if model_key == \"bert_tiny\" else BERT_MAX_LEN_BERTA # Глобальные переменные\n",
    "        \n",
    "        test_texts_for_bert = test_df_processed['text_cleaned_bert'].tolist()\n",
    "        hg_test_dataset_current_bert = HFDataset.from_dict({'text': test_texts_for_bert})\n",
    "        \n",
    "        def tokenize_fn_for_test(examples): # Локальная функция для замыкания _current_tokenizer_test и _max_len_current_bert\n",
    "            return _current_tokenizer_test(examples['text'], truncation=True, padding=\"max_length\", max_length=_max_len_current_bert)\n",
    "        \n",
    "        tokenized_test_dataset_current_bert = hg_test_dataset_current_bert.map(\n",
    "            tokenize_fn_for_test, batched=True, remove_columns=['text'], desc=f\"Tokenizing Test for {model_key}\"\n",
    "        )\n",
    "        tokenized_test_dataset_current_bert.set_format(\"torch\")\n",
    "\n",
    "        current_test_probas_np = get_bert_predictions_from_trainer(\n",
    "            model_path, tokenized_test_dataset_current_bert, device, model_key,\n",
    "            globals().get('BERT_BATCH_SIZE', 16), NUM_WORKERS_ENSEMBLE_TEST\n",
    "        )\n",
    "        del _current_tokenizer_test, tokenized_test_dataset_current_bert, hg_test_dataset_current_bert\n",
    "    elif model_key == \"berta_classifier_v2\": # <--- Убедитесь, что ключ здесь соответствует вашему MODEL_PATHS\n",
    "        # Токенизатор должен быть сохранен вместе с моделью berta_classifier_v2\n",
    "        _current_tokenizer_test = AutoTokenizer.from_pretrained(model_path) \n",
    "        \n",
    "        if 'text_cleaned_bert' not in test_df_processed.columns:\n",
    "            test_df_processed['text_cleaned_bert'] = test_df_processed['text'].progress_apply(clean_text_for_bert)\n",
    "        \n",
    "        # Используем BERTA_V2_MAX_LEN, определенный глобально\n",
    "        _max_len_current_bert = BERTA_V2_MAX_LEN \n",
    "        \n",
    "        test_texts_for_bert = test_df_processed['text_cleaned_bert'].tolist()\n",
    "        hg_test_dataset_current_bert = HFDataset.from_dict({'text': test_texts_for_bert})\n",
    "        \n",
    "        def tokenize_fn_for_test(examples):\n",
    "            return _current_tokenizer_test(examples['text'], truncation=True, padding=\"max_length\", max_length=_max_len_current_bert)\n",
    "        \n",
    "        tokenized_test_dataset_current_bert = hg_test_dataset_current_bert.map(\n",
    "            tokenize_fn_for_test, batched=True, remove_columns=['text'], desc=f\"Tokenizing Test for {model_key}\"\n",
    "        )\n",
    "        tokenized_test_dataset_current_bert.set_format(\"torch\")\n",
    "\n",
    "        current_test_probas_np = get_bert_predictions_from_trainer(\n",
    "            model_path, \n",
    "            tokenized_test_dataset_current_bert, \n",
    "            device, \n",
    "            model_key,\n",
    "            globals().get('BERTA_V2_BATCH_SIZE_PER_DEVICE', globals().get('BERT_BATCH_SIZE', 16)), # Используем специфичный батч или дефолт\n",
    "            NUM_WORKERS_ENSEMBLE_TEST\n",
    "        )\n",
    "        del _current_tokenizer_test, tokenized_test_dataset_current_bert, hg_test_dataset_current_bert\n",
    "    \n",
    "    else: # Другие PyTorch модели\n",
    "        model_instance = None\n",
    "        current_test_loader = None\n",
    "        model_type_hint = ''\n",
    "        # Все функции очистки, векторизаторы, словари и параметры моделей предполагаются глобально определенными\n",
    "\n",
    "        if model_key == \"tfidf_mlp\":\n",
    "            cleaned_col = 'text_cleaned_tfidf_test'\n",
    "            if cleaned_col not in test_df_processed.columns:\n",
    "                test_df_processed[cleaned_col] = test_df_processed['text'].progress_apply(lambda x: clean_text_for_tfidf(x, russian_stop_words))\n",
    "            X_test_tfidf = tfidf_vectorizer.transform(test_df_processed[cleaned_col])\n",
    "            test_dataset = TfidfDataset(X_test_tfidf, np.zeros((X_test_tfidf.shape[0], OUTPUT_DIM)))\n",
    "            current_test_loader = DataLoader(test_dataset, batch_size=TEST_BATCH_SIZE_ENSEMBLE, shuffle=False, num_workers=NUM_WORKERS_ENSEMBLE_TEST)\n",
    "            model_instance = SimpleMLP(INPUT_DIM, HIDDEN_DIM_MLP, OUTPUT_DIM).to(device)\n",
    "            model_type_hint = 'mlp'\n",
    "        \n",
    "        elif model_key in [\"w2v_lstm\", \"cnn_emb\", \"rnn_emb\"]:\n",
    "            # Используем общую очистку, но разные модели\n",
    "            cleaned_col = f'text_cleaned_seq_test_{model_key}'\n",
    "            if cleaned_col not in test_df_processed.columns:\n",
    "                 test_df_processed[cleaned_col] = test_df_processed['text'].progress_apply(clean_text_for_sequential)\n",
    "            \n",
    "            test_sequences = [text_to_sequence(text, word_to_idx) for text in tqdm(test_df_processed[cleaned_col], desc=f\"Test Seq ({model_key})\")]\n",
    "            test_dataset = SequenceDataset(test_sequences, np.zeros((len(test_sequences), OUTPUT_DIM)), MAX_LEN)\n",
    "            _collate_fn = collate_fn_for_w2v_lstm if 'collate_fn_for_w2v_lstm' in globals() else None\n",
    "            if _collate_fn is None and model_key != \"cnn_emb\":\n",
    "                 print(f\"Предупреждение: collate_fn_for_w2v_lstm не найден для {model_key}, используется стандартный collate_fn.\")\n",
    "\n",
    "            current_test_loader = DataLoader(test_dataset, batch_size=TEST_BATCH_SIZE_ENSEMBLE, shuffle=False, collate_fn=_collate_fn, num_workers=NUM_WORKERS_ENSEMBLE_TEST)\n",
    "\n",
    "            if model_key == \"w2v_lstm\":\n",
    "                model_instance = LSTMClassifier(VOCAB_SIZE, W2V_VECTOR_SIZE, LSTM_HIDDEN_DIM, OUTPUT_DIM, LSTM_LAYERS, LSTM_BIDIRECTIONAL, LSTM_DROPOUT, PAD_IDX).to(device)\n",
    "                model_type_hint = 'rnn'\n",
    "            elif model_key == \"cnn_emb\":\n",
    "                model_instance = TextCNN(VOCAB_SIZE, CNN_EMBEDDING_DIM, N_FILTERS, FILTER_SIZES, OUTPUT_DIM, CNN_DROPOUT, PAD_IDX).to(device)\n",
    "                model_type_hint = 'cnn'\n",
    "            elif model_key == \"rnn_emb\":\n",
    "                model_instance = LSTMClassifierTrainableEmb(VOCAB_SIZE, RNN_TE_EMBEDDING_DIM, RNN_TE_HIDDEN_DIM, OUTPUT_DIM, RNN_TE_LAYERS, RNN_TE_BIDIRECTIONAL, RNN_TE_DROPOUT, PAD_IDX).to(device)\n",
    "                model_type_hint = 'rnn'\n",
    "\n",
    "        elif model_key == \"w2v_lstm_augmented\":\n",
    "            cleaned_col = 'text_cleaned_seq_test_aug'\n",
    "            if cleaned_col not in test_df_processed.columns:\n",
    "                test_df_processed[cleaned_col] = test_df_processed['text'].progress_apply(clean_text_for_sequential)\n",
    "            \n",
    "            test_sequences_aug = [text_to_sequence(text, word_to_idx_aug) for text in tqdm(test_df_processed[cleaned_col], desc=f\"Test Seq ({model_key})\")]\n",
    "            # MAX_LEN_AUG или MAX_LEN? Оригинал использовал MAX_LEN. Уточнить, если есть MAX_LEN_AUG.\n",
    "            _max_len_aug = globals().get('MAX_LEN_AUG', MAX_LEN) \n",
    "            test_dataset_aug = SequenceDataset(test_sequences_aug, np.zeros((len(test_sequences_aug), OUTPUT_DIM)), _max_len_aug)\n",
    "            # collate_fn_for_augmented_lstm должен быть определен глобально\n",
    "            if 'collate_fn_for_augmented_lstm' not in globals(): raise NameError(\"collate_fn_for_augmented_lstm не определен!\")\n",
    "            current_test_loader = DataLoader(test_dataset_aug, batch_size=TEST_BATCH_SIZE_ENSEMBLE, shuffle=False, collate_fn=collate_fn_for_augmented_lstm, num_workers=NUM_WORKERS_ENSEMBLE_TEST)\n",
    "            model_instance = LSTMClassifier(VOCAB_SIZE_AUG, W2V_VECTOR_SIZE_AUG, LSTM_HIDDEN_DIM_AUG, OUTPUT_DIM, LSTM_LAYERS_AUG, LSTM_BIDIRECTIONAL_AUG, LSTM_DROPOUT_AUG, PAD_IDX_AUG).to(device)\n",
    "            model_type_hint = 'rnn'\n",
    "\n",
    "        elif model_key == \"hybrid_tfidf_bert_mlp\":\n",
    "            cleaned_col_tfidf = 'text_cleaned_tfidf_hybrid_test'\n",
    "            if cleaned_col_tfidf not in test_df_processed.columns:\n",
    "                test_df_processed[cleaned_col_tfidf] = test_df_processed['text'].progress_apply(lambda x: clean_text_for_tfidf(x, russian_stop_words))\n",
    "            X_test_tfidf_h = tfidf_vectorizer.transform(test_df_processed[cleaned_col_tfidf])\n",
    "            \n",
    "            cleaned_col_bert = 'text_cleaned_bert_hybrid_test'\n",
    "            if cleaned_col_bert not in test_df_processed.columns:\n",
    "                test_df_processed[cleaned_col_bert] = test_df_processed['text'].progress_apply(clean_text_for_bert)\n",
    "            test_bert_texts_h = test_df_processed[cleaned_col_bert].tolist()\n",
    "            \n",
    "            # Глобальные: bert_feature_extractor, tokenizer_bert_features, get_bert_embeddings\n",
    "            if not all(k in globals() for k in ['bert_feature_extractor', 'tokenizer_bert_features', 'get_bert_embeddings']):\n",
    "                raise NameError(\"Компоненты для гибридной модели (BERT features) не найдены.\")\n",
    "            X_test_bert_h_np = get_bert_embeddings(test_bert_texts_h, tokenizer_bert_features, bert_feature_extractor, device, BERT_MAX_LEN_HYBRID_FEATURES, batch_size=globals().get('BERT_BATCH_SIZE',16))\n",
    "            X_test_combined_h = sparse_hstack([X_test_tfidf_h, csr_matrix(X_test_bert_h_np)], format='csr')\n",
    "            \n",
    "            test_dataset_h = TfidfDataset(X_test_combined_h, np.zeros((X_test_combined_h.shape[0], OUTPUT_DIM)))\n",
    "            current_test_loader = DataLoader(test_dataset_h, batch_size=TEST_BATCH_SIZE_ENSEMBLE, shuffle=False, num_workers=NUM_WORKERS_ENSEMBLE_TEST)\n",
    "            model_instance = SimpleMLP(COMBINED_FEATURE_DIM, HYBRID_MLP_HIDDEN_DIM, OUTPUT_DIM).to(device)\n",
    "            model_type_hint = 'mlp'\n",
    "        else:\n",
    "            raise ValueError(f\"Логика загрузки для ТЕСТА модели {model_key} не определена.\")\n",
    "\n",
    "        model_instance.load_state_dict(torch.load(model_path, map_location=device))\n",
    "        current_test_probas_np = get_pytorch_model_predictions(model_instance, current_test_loader, device, model_type_hint)\n",
    "        del model_instance\n",
    "\n",
    "    if current_test_probas_np is None:\n",
    "        raise RuntimeError(f\"Не удалось получить test_preds_proba для {model_key}\")\n",
    "    if current_test_probas_np.shape[0] != len(test_ids):\n",
    "        raise ValueError(f\"Размер предсказаний теста ({current_test_probas_np.shape[0]}) для {model_key} не совпадает с test_ids ({len(test_ids)})!\")\n",
    "    \n",
    "    all_test_probas_list.append(current_test_probas_np)\n",
    "    print(f\"  Вероятности для {model_key} на тесте получены: {current_test_probas_np.shape}\")\n",
    "    \n",
    "    if torch.backends.mps.is_available(): torch.mps.empty_cache()\n",
    "    elif torch.cuda.is_available(): torch.cuda.empty_cache()\n",
    "    gc.collect()\n",
    "\n",
    "if len(all_test_probas_list) != len(MODELS_FOR_ENSEMBLE):\n",
    "    raise RuntimeError(\"Не удалось получить предсказания для ВСЕХ моделей ансамбля на тесте.\")\n",
    "test_probas_stack_np = np.array(all_test_probas_list)\n",
    "\n",
    "# --- Шаг 5: Применение оптимальных весов к тестовым вероятностям ---\n",
    "print(\"\\n5. Применение оптимальных весов к тестовым вероятностям...\")\n",
    "weighted_avg_test_proba_np = np.tensordot(best_ensemble_weights, test_probas_stack_np, axes=([0],[0]))\n",
    "print(f\"Форма взвешенных тестовых вероятностей: {weighted_avg_test_proba_np.shape}\")\n",
    "\n",
    "# --- Шаг 6: Формирование сабмита с оптимальным ОБЩИМ порогом ---\n",
    "print(f\"\\n6. Формирование файла сабмита для ансамбля с оптимальными весами и ОБЩИМ порогом {best_global_threshold_ensemble:.2f}...\")\n",
    "final_preds_binary_ensemble_test = (weighted_avg_test_proba_np >= best_global_threshold_ensemble).astype(int)\n",
    "pred_strings_ensemble_test = [\" \".join(map(str, row)) for row in final_preds_binary_ensemble_test]\n",
    "submission_df_final_ensemble = pd.DataFrame({'id': test_ids, 'labels': pred_strings_ensemble_test})\n",
    "\n",
    "if submission_df_final_ensemble.shape[0] == sample_submission_df.shape[0] and \\\n",
    "   list(submission_df_final_ensemble.columns) == list(sample_submission_df.columns):\n",
    "    print(f\"Формат сабмита (взвешенный ансамбль с общим опт. порогом) корректен. Размер: {submission_df_final_ensemble.shape}\")\n",
    "    submission_df_final_ensemble.to_csv(SUBMISSION_FILENAME, index=False)\n",
    "    print(f\"Файл сабмита сохранен как: {SUBMISSION_FILENAME}\")\n",
    "else:\n",
    "    print(\"Ошибка: Формат или размер сабмита (взвешенный ансамбль) не соответствует sample_submission!\")\n",
    "\n",
    "print(\"\\nПроцесс ансамблирования (с оптимизацией весов и ОБЩЕГО порога) и генерации сабмита завершен.\")"
   ]
  },
  {
   "cell_type": "markdown",
   "metadata": {},
   "source": [
    "## Выводы:\n",
    "Не у всех моделей успел добавить взвешивание классов, не все комбинации для ансамблей попробовал, а так довольно много всего сделал \\\n",
    "Грустно что моделька на 5 минут дольше обучалась, а так бы на прайвате и паблике 2 место занял \\\n",
    "ещё было бы классно последний блок кода в функцию обернуть, но для прототипирования и этого достаточно \\\n",
    "Лучшая модель: ансамбль tfidf_mlp + w2v_lstm + berta_classifier_v2 \\\n",
    "Самый большой прирост помимо моделей у меня дало взвешивание классов и ансамблирование"
   ]
  }
 ],
 "metadata": {
  "kaggle": {
   "accelerator": "none",
   "dataSources": [
    {
     "datasetId": 7317169,
     "sourceId": 11659883,
     "sourceType": "datasetVersion"
    }
   ],
   "dockerImageVersionId": 31012,
   "isGpuEnabled": false,
   "isInternetEnabled": true,
   "language": "python",
   "sourceType": "notebook"
  },
  "kernelspec": {
   "display_name": "hw2_dl_env",
   "language": "python",
   "name": "python3"
  },
  "language_info": {
   "codemirror_mode": {
    "name": "ipython",
    "version": 3
   },
   "file_extension": ".py",
   "mimetype": "text/x-python",
   "name": "python",
   "nbconvert_exporter": "python",
   "pygments_lexer": "ipython3",
   "version": "3.10.16"
  }
 },
 "nbformat": 4,
 "nbformat_minor": 4
}
